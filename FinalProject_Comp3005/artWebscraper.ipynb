{
 "cells": [
  {
   "cell_type": "code",
   "execution_count": 1,
   "id": "b4823354-80f2-4c87-880b-46d574034997",
   "metadata": {},
   "outputs": [],
   "source": [
    "import requests\n",
    "from bs4 import BeautifulSoup\n",
    "import json"
   ]
  },
  {
   "cell_type": "code",
   "execution_count": 2,
   "id": "e7c5454e-0623-471f-affb-9a7e918a0afb",
   "metadata": {},
   "outputs": [],
   "source": [
    "artLinks = json.loads(open('artworks.json', 'r').read())"
   ]
  },
  {
   "cell_type": "code",
   "execution_count": null,
   "id": "79cbb208-d3f6-4132-9676-73940dc1cd10",
   "metadata": {
    "tags": []
   },
   "outputs": [
    {
     "name": "stdout",
     "output_type": "stream",
     "text": [
      "True\n",
      "True\n",
      "True\n",
      "True\n",
      "True\n",
      "True\n",
      "True\n",
      "True\n",
      "True\n",
      "True\n",
      "True\n",
      "True\n",
      "True\n",
      "True\n",
      "True\n",
      "True\n",
      "True\n",
      "True\n",
      "True\n",
      "True\n",
      "True\n",
      "True\n",
      "True\n",
      "True\n",
      "True\n",
      "True\n",
      "True\n",
      "True\n",
      "True\n",
      "True\n",
      "True\n",
      "True\n",
      "True\n",
      "True\n",
      "True\n",
      "True\n",
      "True\n",
      "True\n",
      "True\n",
      "True\n",
      "True\n",
      "True\n",
      "True\n",
      "True\n",
      "True\n",
      "True\n",
      "True\n",
      "True\n",
      "True\n",
      "True\n",
      "True\n",
      "True\n",
      "True\n",
      "True\n",
      "True\n",
      "True\n",
      "True\n",
      "True\n",
      "True\n"
     ]
    }
   ],
   "source": [
    "links = artLinks[\"SAAM\"]\n",
    "for link in links:\n",
    "    res = requests.get(link)\n",
    "    print(res.ok)"
   ]
  },
  {
   "cell_type": "code",
   "execution_count": 172,
   "id": "d9f6dda3-e4b4-4cc6-933e-d3befaf939fb",
   "metadata": {},
   "outputs": [],
   "source": [
    "soup = BeautifulSoup(res.content)"
   ]
  },
  {
   "cell_type": "code",
   "execution_count": 173,
   "id": "b6b4ec01-ab6e-4dfa-828a-94cccade91c3",
   "metadata": {},
   "outputs": [],
   "source": [
    "table = soup.select(\"#page > div > div.row > section > div.region.region-content > article > div > div.about-artwork.row > div.tombstone.col-sm-12.col-md-6\")[0]"
   ]
  },
  {
   "cell_type": "code",
   "execution_count": 174,
   "id": "015eaa0d-8972-468d-9d30-f5412ca0e972",
   "metadata": {},
   "outputs": [],
   "source": [
    "heading = table.select(\"dt\")\n",
    "content = table.select(\"dd\")"
   ]
  },
  {
   "cell_type": "code",
   "execution_count": 175,
   "id": "740eec9c-6afe-4fd1-a2c3-65f07db16ae8",
   "metadata": {},
   "outputs": [],
   "source": [
    "info = {}\n",
    "for i in range(len(heading)):\n",
    "    info[heading[i].get_text()] = content[i].get_text().strip()"
   ]
  },
  {
   "cell_type": "code",
   "execution_count": 176,
   "id": "5d00a510-f652-4b10-a957-16a559a8760a",
   "metadata": {},
   "outputs": [],
   "source": [
    "imgAddress = soup.select(\"#primary-artwork-image > img\")[0].get(\"src\")"
   ]
  },
  {
   "cell_type": "code",
   "execution_count": 177,
   "id": "926605a9-caa6-4fa5-bff0-d750928626ce",
   "metadata": {},
   "outputs": [],
   "source": [
    "pieceMapped = {\"Title\": info[\"Title\"], \"Artist\": info[\"Artist\"], \"Year\":info[\"Date\"], \"Gallery\": \"Smithsonian American Art Museum\", \"Collection\": info[\"Location\"].split(\"\\n \")[-3], \"Image_Address\": imgAddress}"
   ]
  },
  {
   "cell_type": "code",
   "execution_count": 178,
   "id": "48009ad3-7648-4695-b488-abe7ccdbc769",
   "metadata": {},
   "outputs": [
    {
     "data": {
      "text/plain": [
       "{'Title': 'Miss Liberty Celebration',\n",
       " 'Artist': 'Malcah Zeldis',\n",
       " 'Year': '1987',\n",
       " 'Gallery': 'Smithsonian American Art Museum',\n",
       " 'Collection': 'Luce Foundation Center',\n",
       " 'Image_Address': 'https://s3.amazonaws.com/assets.saam.media/files/styles/x_large/s3/files/images/1988/SAAM-1988.74.14_1.jpg?itok=IUl6RGg2'}"
      ]
     },
     "execution_count": 178,
     "metadata": {},
     "output_type": "execute_result"
    }
   ],
   "source": [
    "pieceMapped"
   ]
  },
  {
   "cell_type": "code",
   "execution_count": null,
   "id": "892b1439-582c-4098-8c30-b9ceed8b4c9d",
   "metadata": {},
   "outputs": [],
   "source": []
  }
 ],
 "metadata": {
  "kernelspec": {
   "display_name": "Python 3",
   "language": "python",
   "name": "python3"
  },
  "language_info": {
   "codemirror_mode": {
    "name": "ipython",
    "version": 3
   },
   "file_extension": ".py",
   "mimetype": "text/x-python",
   "name": "python",
   "nbconvert_exporter": "python",
   "pygments_lexer": "ipython3",
   "version": "3.8.3"
  }
 },
 "nbformat": 4,
 "nbformat_minor": 5
}
