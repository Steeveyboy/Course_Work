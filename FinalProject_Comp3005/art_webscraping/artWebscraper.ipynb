{
 "cells": [
  {
   "cell_type": "code",
   "execution_count": 11,
   "id": "b4823354-80f2-4c87-880b-46d574034997",
   "metadata": {},
   "outputs": [],
   "source": [
    "import requests\n",
    "from bs4 import BeautifulSoup\n",
    "import json"
   ]
  },
  {
   "cell_type": "code",
   "execution_count": 12,
   "id": "e7c5454e-0623-471f-affb-9a7e918a0afb",
   "metadata": {},
   "outputs": [],
   "source": [
    "artLinks = json.loads(open('artworks.json', 'r').read())\n",
    "user_agent = {\"User-Agent\": \"Mozilla/5.0 (Windows NT 10.0; Win64; x64) AppleWebKit/537.36 (KHTML, like Gecko) Chrome/100.0.4896.60 Safari/537.36\"}"
   ]
  },
  {
   "cell_type": "code",
   "execution_count": 13,
   "id": "79cbb208-d3f6-4132-9676-73940dc1cd10",
   "metadata": {
    "tags": []
   },
   "outputs": [],
   "source": [
    "links = artLinks[\"SAAM\"]\n",
    "saamData = []\n",
    "for link in links:\n",
    "    res = requests.get(link)\n",
    "    if(not res.ok):\n",
    "        print(link)\n",
    "        continue\n",
    "    saamData.append(res)"
   ]
  },
  {
   "cell_type": "code",
   "execution_count": 39,
   "id": "ea6ed01f",
   "metadata": {},
   "outputs": [],
   "source": [
    "def extract(res):\n",
    "    soup = BeautifulSoup(res.content)\n",
    "    table = soup.select(\"#page > div > div.row > section > div.region.region-content > article > div > div.about-artwork.row > div.tombstone.col-sm-12.col-md-6\")[0]\n",
    "    heading = table.select(\"dt\")\n",
    "    content = table.select(\"dd\")\n",
    "    info = {}\n",
    "    for i in range(len(heading)):\n",
    "        info[heading[i].get_text()] = content[i].get_text().strip()\n",
    "    imgAddress = soup.select(\"#primary-artwork-image > img\")[0].get(\"src\")\n",
    "    pieceMapped = {\"Title\": info[\"Title\"], \"Artist\": info[\"Artist\"], \"Image_Address\": imgAddress,\"Year\": info[\"Date\"], \"Gallery\": \"Smithsonian American Art Museum\", \"Collection\": info[\"Location\"].split(\"\\n \")[-3]}\n",
    "    return pieceMapped"
   ]
  },
  {
   "cell_type": "code",
   "execution_count": 40,
   "id": "48009ad3-7648-4695-b488-abe7ccdbc769",
   "metadata": {},
   "outputs": [
    {
     "name": "stdout",
     "output_type": "stream",
     "text": [
      "INSERT INTO Artwork Values('Death of Rubén Salazar', 'Frank Romero', 'https://s3.amazonaws.com/assets.saam.media/files/styles/x_large/s3/files/images/1993/SAAM-1993.19_1.jpg?itok=ISPh0ext', '1986', 'Smithsonian American Art Museum', 'Luce Foundation Center');\n",
      "INSERT INTO Artwork Values('Miss Liberty Celebration', 'Malcah Zeldis', 'https://s3.amazonaws.com/assets.saam.media/files/styles/x_large/s3/files/images/1988/SAAM-1988.74.14_1.jpg?itok=IUl6RGg2', '1987', 'Smithsonian American Art Museum', 'Luce Foundation Center');\n",
      "INSERT INTO Artwork Values('Hindu Merchants', 'Edwin Lord Weeks', 'https://s3.amazonaws.com/assets.saam.media/files/styles/x_large/s3/files/images/1924/SAAM-1924.7.1_1.jpg?itok=lBS_ggw1', 'ca. 1885', 'Smithsonian American Art Museum', 'Smithsonian American Art Museum');\n",
      "INSERT INTO Artwork Values('The Thundershower', 'H. Lyman Saÿen', 'https://s3.amazonaws.com/assets.saam.media/files/styles/x_large/s3/files/images/1967/SAAM-1967.6.19_1.jpg?itok=-jR3R2tb', 'ca. 1917-1918', 'Smithsonian American Art Museum', 'Smithsonian American Art Museum');\n",
      "INSERT INTO Artwork Values('Stevenson Memorial', 'Abbott Handerson Thayer', 'https://s3.amazonaws.com/assets.saam.media/files/styles/x_large/s3/files/images/1929/SAAM-1929.6.127_1.jpg?itok=mTle_53X', '1903', 'Smithsonian American Art Museum', 'Smithsonian American Art Museum');\n",
      "INSERT INTO Artwork Values('People in the\\xa0Sun', 'Edward Hopper', 'https://s3.amazonaws.com/assets.saam.media/files/styles/x_large/s3/files/images/1969/SAAM-1969.47.61_2.jpg?itok=hKAbVkRF', '1960', 'Smithsonian American Art Museum', 'Smithsonian American Art Museum');\n",
      "INSERT INTO Artwork Values('The South Ledges, Appledore', 'Childe Hassam', 'https://s3.amazonaws.com/assets.saam.media/files/styles/x_large/s3/files/images/1929/SAAM-1929.6.62_2.jpg?itok=nvu3WpJ_', '1913', 'Smithsonian American Art Museum', 'Smithsonian American Art Museum');\n",
      "INSERT INTO Artwork Values('Lamentations over the Death of the First-Born of\\xa0Egypt', 'Charles Sprague Pearce', 'https://s3.amazonaws.com/assets.saam.media/files/styles/x_large/s3/files/images/1985/SAAM-1985.28_1.jpg?itok=MOEgJ5Mh', '1877', 'Smithsonian American Art Museum', 'Smithsonian American Art Museum');\n",
      "INSERT INTO Artwork Values('Still Life with\\xa0Fruit', 'Severin Roesen', 'https://s3.amazonaws.com/assets.saam.media/files/styles/x_large/s3/files/images/1981/SAAM-1981.114_1.jpg?itok=QlDg62fn', '1852', 'Smithsonian American Art Museum', 'Smithsonian American Art Museum');\n",
      "INSERT INTO Artwork Values('Buffalo Grain Elevators', 'Ralston Crawford', 'https://s3.amazonaws.com/assets.saam.media/files/styles/x_large/s3/files/images/1976/SAAM-1976.133_2.jpg?itok=IJDrnof_', '1937', 'Smithsonian American Art Museum', 'Smithsonian American Art Museum');\n",
      "INSERT INTO Artwork Values('Design Made at Airlie Gardens', 'Minnie Evans', 'https://s3.amazonaws.com/assets.saam.media/files/styles/x_large/s3/files/images/1972/SAAM-1972.44_1.jpg?itok=5SiCD1Ut', '1967', 'Smithsonian American Art Museum', 'Smithsonian American Art Museum');\n",
      "INSERT INTO Artwork Values('Elizabeth Winthrop Chanler (Mrs. John Jay Chapman)', 'John Singer Sargent', 'https://s3.amazonaws.com/assets.saam.media/files/styles/x_large/s3/files/images/1980/SAAM-1980.71_3.jpg?itok=ptCtPrLM', '1893', 'Smithsonian American Art Museum', 'Smithsonian American Art Museum');\n",
      "INSERT INTO Artwork Values('The Great Horseshoe Fall, Niagara', 'Alvan Fisher', 'https://s3.amazonaws.com/assets.saam.media/files/styles/x_large/s3/files/images/1966/SAAM-1966.82.1_1.jpg?itok=KNGlXT48', '1820', 'Smithsonian American Art Museum', 'Smithsonian American Art Museum');\n",
      "INSERT INTO Artwork Values('Man with the Cat (Henry Sturgis Drinker)', 'Cecilia Beaux', 'https://s3.amazonaws.com/assets.saam.media/files/styles/x_large/s3/files/images/1952/SAAM-1952.10.1_1.jpg?itok=3D-_0Otv', '1898', 'Smithsonian American Art Museum', 'Smithsonian American Art Museum');\n",
      "INSERT INTO Artwork Values('Yliaster (Paracelsus)', 'Marsden Hartley', 'https://s3.amazonaws.com/assets.saam.media/files/styles/x_large/s3/files/images/1988/SAAM-1988.53_1.jpg?itok=NRds2j0W', '1932', 'Smithsonian American Art Museum', 'Smithsonian American Art Museum');\n",
      "INSERT INTO Artwork Values('Portrait of Mrs. Barbara Baker Murphy (Wife of Sea Captain)', 'Joshua Johnson', 'https://s3.amazonaws.com/assets.saam.media/files/styles/x_large/s3/files/images/1983/SAAM-1983.95.56_1.jpg?itok=uZVeHJmY', 'ca. 1810', 'Smithsonian American Art Museum', 'Smithsonian American Art Museum');\n",
      "INSERT INTO Artwork Values('An Interlude', 'William Sergeant Kendall', 'https://s3.amazonaws.com/assets.saam.media/files/styles/x_large/s3/files/images/1909/SAAM-1909.7.36_1.jpg?itok=tprAZnxq', '1907', 'Smithsonian American Art Museum', 'Smithsonian American Art Museum');\n",
      "INSERT INTO Artwork Values('Torre di Schiavi', 'Thomas Hiram Hotchkiss', 'https://s3.amazonaws.com/assets.saam.media/files/styles/x_large/s3/files/images/1977/SAAM-1977.52_1.jpg?itok=wg3qQk2T', '1865', 'Smithsonian American Art Museum', 'Smithsonian American Art Museum');\n",
      "INSERT INTO Artwork Values('Achelous and Hercules', 'Thomas Hart Benton', 'https://s3.amazonaws.com/assets.saam.media/files/styles/x_large/s3/files/images/1985/SAAM-1985.2_5.jpg?itok=6YeJj02l', '1947', 'Smithsonian American Art Museum', 'Smithsonian American Art Museum');\n",
      "INSERT INTO Artwork Values('The Iron Mine, Port Henry, New\\xa0York', 'Homer Dodge Martin', 'https://s3.amazonaws.com/assets.saam.media/files/styles/x_large/s3/files/images/1910/SAAM-1910.9.11_1.jpg?itok=fhrw-nUI', 'ca. 1862', 'Smithsonian American Art Museum', 'Smithsonian American Art Museum');\n",
      "INSERT INTO Artwork Values('Stag at Echo\\xa0Rock', 'Unidentified', 'https://s3.amazonaws.com/assets.saam.media/files/styles/x_large/s3/files/images/1986/SAAM-1986.65.117_1.jpg?itok=0AMH1DPc', 'late 19th century', 'Smithsonian American Art Museum', 'Smithsonian American Art Museum');\n"
     ]
    },
    {
     "ename": "IndexError",
     "evalue": "list index out of range",
     "output_type": "error",
     "traceback": [
      "\u001b[1;31m---------------------------------------------------------------------------\u001b[0m",
      "\u001b[1;31mIndexError\u001b[0m                                Traceback (most recent call last)",
      "\u001b[1;32m<ipython-input-40-d2a4fa3575d3>\u001b[0m in \u001b[0;36m<module>\u001b[1;34m\u001b[0m\n\u001b[0;32m      1\u001b[0m \u001b[1;32mfor\u001b[0m \u001b[0mres\u001b[0m \u001b[1;32min\u001b[0m \u001b[0msaamData\u001b[0m\u001b[1;33m:\u001b[0m\u001b[1;33m\u001b[0m\u001b[1;33m\u001b[0m\u001b[0m\n\u001b[1;32m----> 2\u001b[1;33m     \u001b[0mdata\u001b[0m \u001b[1;33m=\u001b[0m \u001b[0mextract\u001b[0m\u001b[1;33m(\u001b[0m\u001b[0mres\u001b[0m\u001b[1;33m)\u001b[0m\u001b[1;33m\u001b[0m\u001b[1;33m\u001b[0m\u001b[0m\n\u001b[0m\u001b[0;32m      3\u001b[0m     \u001b[1;31m# print(data)\u001b[0m\u001b[1;33m\u001b[0m\u001b[1;33m\u001b[0m\u001b[1;33m\u001b[0m\u001b[0m\n\u001b[0;32m      4\u001b[0m     \u001b[0mprint\u001b[0m\u001b[1;33m(\u001b[0m\u001b[1;34mf\"INSERT INTO Artwork Values{tuple(data.values())};\"\u001b[0m\u001b[1;33m)\u001b[0m\u001b[1;33m\u001b[0m\u001b[1;33m\u001b[0m\u001b[0m\n",
      "\u001b[1;32m<ipython-input-39-45b9c4981dbe>\u001b[0m in \u001b[0;36mextract\u001b[1;34m(res)\u001b[0m\n\u001b[0;32m      7\u001b[0m     \u001b[1;32mfor\u001b[0m \u001b[0mi\u001b[0m \u001b[1;32min\u001b[0m \u001b[0mrange\u001b[0m\u001b[1;33m(\u001b[0m\u001b[0mlen\u001b[0m\u001b[1;33m(\u001b[0m\u001b[0mheading\u001b[0m\u001b[1;33m)\u001b[0m\u001b[1;33m)\u001b[0m\u001b[1;33m:\u001b[0m\u001b[1;33m\u001b[0m\u001b[1;33m\u001b[0m\u001b[0m\n\u001b[0;32m      8\u001b[0m         \u001b[0minfo\u001b[0m\u001b[1;33m[\u001b[0m\u001b[0mheading\u001b[0m\u001b[1;33m[\u001b[0m\u001b[0mi\u001b[0m\u001b[1;33m]\u001b[0m\u001b[1;33m.\u001b[0m\u001b[0mget_text\u001b[0m\u001b[1;33m(\u001b[0m\u001b[1;33m)\u001b[0m\u001b[1;33m]\u001b[0m \u001b[1;33m=\u001b[0m \u001b[0mcontent\u001b[0m\u001b[1;33m[\u001b[0m\u001b[0mi\u001b[0m\u001b[1;33m]\u001b[0m\u001b[1;33m.\u001b[0m\u001b[0mget_text\u001b[0m\u001b[1;33m(\u001b[0m\u001b[1;33m)\u001b[0m\u001b[1;33m.\u001b[0m\u001b[0mstrip\u001b[0m\u001b[1;33m(\u001b[0m\u001b[1;33m)\u001b[0m\u001b[1;33m\u001b[0m\u001b[1;33m\u001b[0m\u001b[0m\n\u001b[1;32m----> 9\u001b[1;33m     \u001b[0mimgAddress\u001b[0m \u001b[1;33m=\u001b[0m \u001b[0msoup\u001b[0m\u001b[1;33m.\u001b[0m\u001b[0mselect\u001b[0m\u001b[1;33m(\u001b[0m\u001b[1;34m\"#primary-artwork-image > img\"\u001b[0m\u001b[1;33m)\u001b[0m\u001b[1;33m[\u001b[0m\u001b[1;36m0\u001b[0m\u001b[1;33m]\u001b[0m\u001b[1;33m.\u001b[0m\u001b[0mget\u001b[0m\u001b[1;33m(\u001b[0m\u001b[1;34m\"src\"\u001b[0m\u001b[1;33m)\u001b[0m\u001b[1;33m\u001b[0m\u001b[1;33m\u001b[0m\u001b[0m\n\u001b[0m\u001b[0;32m     10\u001b[0m     \u001b[0mpieceMapped\u001b[0m \u001b[1;33m=\u001b[0m \u001b[1;33m{\u001b[0m\u001b[1;34m\"Title\"\u001b[0m\u001b[1;33m:\u001b[0m \u001b[0minfo\u001b[0m\u001b[1;33m[\u001b[0m\u001b[1;34m\"Title\"\u001b[0m\u001b[1;33m]\u001b[0m\u001b[1;33m,\u001b[0m \u001b[1;34m\"Artist\"\u001b[0m\u001b[1;33m:\u001b[0m \u001b[0minfo\u001b[0m\u001b[1;33m[\u001b[0m\u001b[1;34m\"Artist\"\u001b[0m\u001b[1;33m]\u001b[0m\u001b[1;33m,\u001b[0m \u001b[1;34m\"Image_Address\"\u001b[0m\u001b[1;33m:\u001b[0m \u001b[0mimgAddress\u001b[0m\u001b[1;33m,\u001b[0m\u001b[1;34m\"Year\"\u001b[0m\u001b[1;33m:\u001b[0m \u001b[0minfo\u001b[0m\u001b[1;33m[\u001b[0m\u001b[1;34m\"Date\"\u001b[0m\u001b[1;33m]\u001b[0m\u001b[1;33m,\u001b[0m \u001b[1;34m\"Gallery\"\u001b[0m\u001b[1;33m:\u001b[0m \u001b[1;34m\"Smithsonian American Art Museum\"\u001b[0m\u001b[1;33m,\u001b[0m \u001b[1;34m\"Collection\"\u001b[0m\u001b[1;33m:\u001b[0m \u001b[0minfo\u001b[0m\u001b[1;33m[\u001b[0m\u001b[1;34m\"Location\"\u001b[0m\u001b[1;33m]\u001b[0m\u001b[1;33m.\u001b[0m\u001b[0msplit\u001b[0m\u001b[1;33m(\u001b[0m\u001b[1;34m\"\\n \"\u001b[0m\u001b[1;33m)\u001b[0m\u001b[1;33m[\u001b[0m\u001b[1;33m-\u001b[0m\u001b[1;36m3\u001b[0m\u001b[1;33m]\u001b[0m\u001b[1;33m}\u001b[0m\u001b[1;33m\u001b[0m\u001b[1;33m\u001b[0m\u001b[0m\n\u001b[0;32m     11\u001b[0m     \u001b[1;32mreturn\u001b[0m \u001b[0mpieceMapped\u001b[0m\u001b[1;33m\u001b[0m\u001b[1;33m\u001b[0m\u001b[0m\n",
      "\u001b[1;31mIndexError\u001b[0m: list index out of range"
     ]
    }
   ],
   "source": [
    "for res in saamData:\n",
    "    data = extract(res)\n",
    "    # print(data)\n",
    "    print(f\"INSERT INTO Artwork Values{tuple(data.values())};\")"
   ]
  },
  {
   "cell_type": "code",
   "execution_count": 28,
   "id": "9b8c2ef7",
   "metadata": {},
   "outputs": [],
   "source": [
    "data = extract(saamData[0])"
   ]
  },
  {
   "cell_type": "code",
   "execution_count": 29,
   "id": "bb386d88",
   "metadata": {},
   "outputs": [
    {
     "data": {
      "text/plain": [
       "('Death of Rubén Salazar',\n",
       " 'Frank Romero',\n",
       " 'https://s3.amazonaws.com/assets.saam.media/files/styles/x_large/s3/files/images/1993/SAAM-1993.19_1.jpg?itok=ISPh0ext',\n",
       " '1986',\n",
       " 'Smithsonian American Art Museum',\n",
       " 'Luce Foundation Center')"
      ]
     },
     "execution_count": 29,
     "metadata": {},
     "output_type": "execute_result"
    }
   ],
   "source": [
    "tuple(data.values())"
   ]
  },
  {
   "cell_type": "code",
   "execution_count": 34,
   "id": "b2193a4e",
   "metadata": {},
   "outputs": [
    {
     "name": "stdout",
     "output_type": "stream",
     "text": [
      "INSERT INTO Artwork Values('Death of Rubén Salazar', 'Frank Romero', 'https://s3.amazonaws.com/assets.saam.media/files/styles/x_large/s3/files/images/1993/SAAM-1993.19_1.jpg?itok=ISPh0ext', '1986', 'Smithsonian American Art Museum', 'Luce Foundation Center');\n"
     ]
    }
   ],
   "source": [
    "print(f\"INSERT INTO Artwork Values{data.};\")"
   ]
  },
  {
   "cell_type": "code",
   "execution_count": 13,
   "id": "892b1439-582c-4098-8c30-b9ceed8b4c9d",
   "metadata": {},
   "outputs": [
    {
     "name": "stdout",
     "output_type": "stream",
     "text": [
      "https://www.gallery.ca/collection/artwork/balling\n",
      "https://www.gallery.ca/collection/artwork/rock-needle-seen-through-the-porte-daval-etretat\n",
      "https://www.gallery.ca/collection/artwork/perspective\n",
      "https://www.gallery.ca/collection/artwork/quebec-from-the-citadel\n",
      "https://www.gallery.ca/collection/artwork/beach-pools-at-night\n",
      "https://www.gallery.ca/collection/artwork/frank-sinatra-new-york\n",
      "https://www.gallery.ca/collection/artwork/untitled-5076\n",
      "https://www.gallery.ca/collection/artwork/veriditas\n",
      "https://www.gallery.ca/collection/artwork/gathering-0\n",
      "https://www.gallery.ca/collection/artwork/boy-in-red-shirt\n",
      "https://www.gallery.ca/collection/artwork/martha-graham-war-theme\n",
      "https://www.gallery.ca/collection/artwork/fontainebleau\n",
      "https://www.gallery.ca/collection/artwork/reclining-nude-3\n",
      "https://www.gallery.ca/collection/artwork/a-church\n",
      "https://www.gallery.ca/collection/artwork/underpass-montreal\n"
     ]
    }
   ],
   "source": [
    "links = artLinks[\"NGC\"]\n",
    "saamData = []\n",
    "for link in links:\n",
    "    res = requests.get(link)\n",
    "    if(not res.ok):\n",
    "        print(link)\n",
    "        continue\n",
    "    saamData.append(res)"
   ]
  },
  {
   "cell_type": "code",
   "execution_count": 47,
   "id": "21a3bab0",
   "metadata": {},
   "outputs": [],
   "source": [
    "req = requests.get(\"https://collectionapi.metmuseum.org/public/collection/v1/search\", params={\"q\": \"Picasso\"})"
   ]
  },
  {
   "cell_type": "code",
   "execution_count": 50,
   "id": "2bb8851a",
   "metadata": {},
   "outputs": [],
   "source": [
    "req = requests.get(\"https://collectionapi.metmuseum.org/public/collection/v1/objects/490037\")"
   ]
  },
  {
   "cell_type": "code",
   "execution_count": 52,
   "id": "794f153d",
   "metadata": {},
   "outputs": [
    {
     "data": {
      "text/plain": [
       "b'{\"objectID\":490037,\"isHighlight\":false,\"accessionNumber\":\"1999.363.66\",\"accessionYear\":\"1999\",\"isPublicDomain\":false,\"primaryImage\":\"\",\"primaryImageSmall\":\"\",\"additionalImages\":[],\"constituents\":[{\"constituentID\":162244,\"role\":\"Artist\",\"name\":\"Pablo Picasso\",\"constituentULAN_URL\":\"http://vocab.getty.edu/page/ulan/500009666\",\"constituentWikidata_URL\":\"https://www.wikidata.org/wiki/Q5593\",\"gender\":\"\"}],\"department\":\"Modern and Contemporary Art\",\"objectName\":\"Painting\",\"title\":\"Head of a Woman\",\"culture\":\"\",\"period\":\"\",\"dynasty\":\"\",\"reign\":\"\",\"portfolio\":\"\",\"artistRole\":\"Artist\",\"artistPrefix\":\"\",\"artistDisplayName\":\"Pablo Picasso\",\"artistDisplayBio\":\"Spanish, Malaga 1881\\xe2\\x80\\x931973 Mougins, France\",\"artistSuffix\":\"\",\"artistAlphaSort\":\"Picasso, Pablo\",\"artistNationality\":\"Spanish\",\"artistBeginDate\":\"1881\",\"artistEndDate\":\"1973\",\"artistGender\":\"\",\"artistWikidata_URL\":\"https://www.wikidata.org/wiki/Q5593\",\"artistULAN_URL\":\"http://vocab.getty.edu/page/ulan/500009666\",\"objectDate\":\"1927\",\"objectBeginDate\":1927,\"objectEndDate\":1927,\"medium\":\"Oil and charcoal on canvas\",\"dimensions\":\"21 3/4 x 13 1/4 in. (55.2 x 33.7 cm)\",\"measurements\":[{\"elementName\":\"Overall\",\"elementDescription\":null,\"elementMeasurements\":{\"Height\":55.2,\"Width\":33.7}},{\"elementName\":\"Frame\",\"elementDescription\":null,\"elementMeasurements\":{\"Depth\":5.08,\"Height\":72.3901,\"Width\":50.8001}},{\"elementName\":\"Other\",\"elementDescription\":\"plexi\",\"elementMeasurements\":{\"Height\":56.197613,\"Width\":35.24257}}],\"creditLine\":\"Jacques and Natasha Gelman Collection, 1998\",\"geographyType\":\"\",\"city\":\"\",\"state\":\"\",\"county\":\"\",\"country\":\"\",\"region\":\"\",\"subregion\":\"\",\"locale\":\"\",\"locus\":\"\",\"excavation\":\"\",\"river\":\"\",\"classification\":\"Paintings\",\"rightsAndReproduction\":\"\\xc2\\xa9 2022 Estate of Pablo Picasso / Artists Rights Society (ARS), New York\",\"linkResource\":\"\",\"metadataDate\":\"2022-02-15T04:42:19.267Z\",\"repository\":\"Metropolitan Museum of Art, New York, NY\",\"objectURL\":\"https://www.metmuseum.org/art/collection/search/490037\",\"tags\":[{\"term\":\"Heads\",\"AAT_URL\":\"http://vocab.getty.edu/page/aat/300375054\",\"Wikidata_URL\":\"https://www.wikidata.org/wiki/Q3409626\"},{\"term\":\"Women\",\"AAT_URL\":\"http://vocab.getty.edu/page/aat/300025943\",\"Wikidata_URL\":\"https://www.wikidata.org/wiki/Q467\"}],\"objectWikidata_URL\":\"https://www.wikidata.org/wiki/Q20190607\",\"isTimelineWork\":false,\"GalleryNumber\":\"906\"}'"
      ]
     },
     "execution_count": 52,
     "metadata": {},
     "output_type": "execute_result"
    }
   ],
   "source": [
    "req.content"
   ]
  },
  {
   "cell_type": "code",
   "execution_count": null,
   "id": "385345ea",
   "metadata": {},
   "outputs": [],
   "source": []
  }
 ],
 "metadata": {
  "kernelspec": {
   "display_name": "Python 3",
   "language": "python",
   "name": "python3"
  },
  "language_info": {
   "codemirror_mode": {
    "name": "ipython",
    "version": 3
   },
   "file_extension": ".py",
   "mimetype": "text/x-python",
   "name": "python",
   "nbconvert_exporter": "python",
   "pygments_lexer": "ipython3",
   "version": "3.8.3"
  }
 },
 "nbformat": 4,
 "nbformat_minor": 5
}
