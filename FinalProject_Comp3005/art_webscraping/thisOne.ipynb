{
 "cells": [
  {
   "cell_type": "code",
   "execution_count": 11,
   "id": "2d031c9b-de3c-43b7-82b5-9128ff052021",
   "metadata": {},
   "outputs": [],
   "source": [
    "from requests_html import HTMLSession\n",
    "from bs4 import BeautifulSoup\n",
    "import json"
   ]
  },
  {
   "cell_type": "code",
   "execution_count": 3,
   "id": "3d6e3c4e-d42c-433a-8254-f7555f82aa31",
   "metadata": {},
   "outputs": [],
   "source": [
    "session = HTMLSession()"
   ]
  },
  {
   "cell_type": "code",
   "execution_count": 5,
   "id": "438458e2-8c09-4d88-bbaf-d98751751df1",
   "metadata": {},
   "outputs": [],
   "source": [
    "artLinks = json.loads(open('artworks.json', 'r').read())"
   ]
  },
  {
   "cell_type": "code",
   "execution_count": 25,
   "id": "0c033dde-34b5-47cb-9a48-0709d358f9cd",
   "metadata": {},
   "outputs": [],
   "source": [
    "links = artLinks[\"SAAM\"]"
   ]
  },
  {
   "cell_type": "code",
   "execution_count": 28,
   "id": "b2a125f8-6a14-4f17-b35d-a2b0e561f4a3",
   "metadata": {},
   "outputs": [],
   "source": [
    "artworkResp = [session.get(link) for link in links]"
   ]
  },
  {
   "cell_type": "code",
   "execution_count": 29,
   "id": "be124081-affa-420a-81d7-d95a541f03c8",
   "metadata": {},
   "outputs": [],
   "source": [
    "def extractFromSmithsonian(res):\n",
    "    if not res.ok: return\n",
    "    soup = BeautifulSoup(res.content)\n",
    "    try:\n",
    "        table = soup.select(\"#page > div > div.row > section > div.region.region-content > article > div > div.about-artwork.row > div.tombstone.col-sm-12.col-md-6\")[0]\n",
    "        heading = table.select(\"dt\")\n",
    "        content = table.select(\"dd\")\n",
    "        info = {}\n",
    "        for i in range(len(heading)):\n",
    "            info[heading[i].get_text()] = content[i].get_text().strip()\n",
    "        imgAddress = soup.select_one(\"div.active img, #primary-artwork-image > img\").get(\"src\")\n",
    "        pieceMapped = {\"Title\": info[\"Title\"], \"Artist\": info[\"Artist\"], \n",
    "                       \"Year\":info[\"Date\"], \"Gallery\": \"Smithsonian American Art Museum\", \n",
    "                       \"Collection\": info[\"Location\"].split(\"\\n \")[-3], \"Image_Address\": imgAddress}\n",
    "        return pieceMapped\n",
    "    except:\n",
    "        print(res, res.url)\n",
    "    "
   ]
  },
  {
   "cell_type": "code",
   "execution_count": 35,
   "id": "a315d568-bec4-4974-acb3-4f20cfe5d290",
   "metadata": {},
   "outputs": [],
   "source": [
    "smithsonianExtracts = [extractFromSmithsonian(resp) for resp in artworkResp]"
   ]
  },
  {
   "cell_type": "code",
   "execution_count": null,
   "id": "2ec163cd-1be0-45ec-b254-d194a53eb2f6",
   "metadata": {},
   "outputs": [],
   "source": []
  }
 ],
 "metadata": {
  "kernelspec": {
   "display_name": "Python 3",
   "language": "python",
   "name": "python3"
  },
  "language_info": {
   "codemirror_mode": {
    "name": "ipython",
    "version": 3
   },
   "file_extension": ".py",
   "mimetype": "text/x-python",
   "name": "python",
   "nbconvert_exporter": "python",
   "pygments_lexer": "ipython3",
   "version": "3.8.3"
  }
 },
 "nbformat": 4,
 "nbformat_minor": 5
}
