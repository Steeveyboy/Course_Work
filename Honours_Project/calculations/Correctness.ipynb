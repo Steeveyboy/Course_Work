{
 "cells": [
  {
   "cell_type": "markdown",
   "id": "be5b20bf-f481-45f0-a426-7a4aeda0bd5a",
   "metadata": {},
   "source": [
    "# Examining the Correctness of calculated VIX\n",
    "This notebook will examine how closely our calculated VIX resembles the official VIX\n",
    " - [ ] Visualize time series for last year\n",
    " - Metrics include\n",
    "    - [ ] MSE\n",
    "    - [ ] MAE"
   ]
  },
  {
   "cell_type": "markdown",
   "id": "dcf0c289-2d4f-46dc-b569-209a56d64f69",
   "metadata": {},
   "source": []
  }
 ],
 "metadata": {
  "kernelspec": {
   "display_name": "Python 3 (ipykernel)",
   "language": "python",
   "name": "python3"
  },
  "language_info": {
   "codemirror_mode": {
    "name": "ipython",
    "version": 3
   },
   "file_extension": ".py",
   "mimetype": "text/x-python",
   "name": "python",
   "nbconvert_exporter": "python",
   "pygments_lexer": "ipython3",
   "version": "3.8.0"
  }
 },
 "nbformat": 4,
 "nbformat_minor": 5
}
