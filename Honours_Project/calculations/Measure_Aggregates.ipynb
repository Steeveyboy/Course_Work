{
 "cells": [
  {
   "cell_type": "markdown",
   "id": "90705430-4f35-4777-8a56-f1e247212751",
   "metadata": {},
   "source": [
    "# Attempting to measure the accuracy of volatility indexs\n",
    "This notebook will look at how to quantify the effectiveness of a calculated index for any point in time. As these indexs are forward looking the performance of a security over the year following the date of observation will be taken."
   ]
  },
  {
   "cell_type": "code",
   "execution_count": 26,
   "id": "1d258b0a-ec8c-424b-8219-e8de3b5cf58b",
   "metadata": {},
   "outputs": [
    {
     "name": "stdout",
     "output_type": "stream",
     "text": [
      "The autoreload extension is already loaded. To reload it, use:\n",
      "  %reload_ext autoreload\n"
     ]
    }
   ],
   "source": [
    "%load_ext autoreload\n",
    "%autoreload 2\n",
    "\n",
    "import metrics_calc\n",
    "import vix_calc\n",
    "import sqlite3\n",
    "import pandas as pd\n",
    "import seaborn as sns\n",
    "from datetime import datetime, timedelta"
   ]
  },
  {
   "cell_type": "code",
   "execution_count": 27,
   "id": "8b824d80-432d-4fb8-af20-d1cca2d8d009",
   "metadata": {
    "tags": []
   },
   "outputs": [
    {
     "data": {
      "text/html": [
       "<div>\n",
       "<style scoped>\n",
       "    .dataframe tbody tr th:only-of-type {\n",
       "        vertical-align: middle;\n",
       "    }\n",
       "\n",
       "    .dataframe tbody tr th {\n",
       "        vertical-align: top;\n",
       "    }\n",
       "\n",
       "    .dataframe thead th {\n",
       "        text-align: right;\n",
       "    }\n",
       "</style>\n",
       "<table border=\"1\" class=\"dataframe\">\n",
       "  <thead>\n",
       "    <tr style=\"text-align: right;\">\n",
       "      <th></th>\n",
       "      <th>open</th>\n",
       "      <th>close</th>\n",
       "      <th>date_of</th>\n",
       "      <th>date_of_close</th>\n",
       "      <th>annual_</th>\n",
       "      <th>vix_t</th>\n",
       "      <th>price_up</th>\n",
       "      <th>price_down</th>\n",
       "      <th>change_ytd</th>\n",
       "    </tr>\n",
       "  </thead>\n",
       "  <tbody>\n",
       "    <tr>\n",
       "      <th>0</th>\n",
       "      <td>476.30</td>\n",
       "      <td>466.09</td>\n",
       "      <td>2022-01-03</td>\n",
       "      <td>2022-01-07</td>\n",
       "      <td>0.000000</td>\n",
       "      <td>0.000000</td>\n",
       "      <td>466.090000</td>\n",
       "      <td>466.090000</td>\n",
       "      <td>0.000000</td>\n",
       "    </tr>\n",
       "    <tr>\n",
       "      <th>1</th>\n",
       "      <td>462.70</td>\n",
       "      <td>464.72</td>\n",
       "      <td>2022-01-10</td>\n",
       "      <td>2022-01-14</td>\n",
       "      <td>0.019178</td>\n",
       "      <td>2.508360</td>\n",
       "      <td>477.781216</td>\n",
       "      <td>454.398784</td>\n",
       "      <td>0.293935</td>\n",
       "    </tr>\n",
       "    <tr>\n",
       "      <th>2</th>\n",
       "      <td>459.74</td>\n",
       "      <td>437.98</td>\n",
       "      <td>2022-01-17</td>\n",
       "      <td>2022-01-21</td>\n",
       "      <td>0.038356</td>\n",
       "      <td>3.547357</td>\n",
       "      <td>482.623876</td>\n",
       "      <td>449.556124</td>\n",
       "      <td>6.031024</td>\n",
       "    </tr>\n",
       "  </tbody>\n",
       "</table>\n",
       "</div>"
      ],
      "text/plain": [
       "     open   close     date_of date_of_close   annual_     vix_t    price_up  \\\n",
       "0  476.30  466.09  2022-01-03    2022-01-07  0.000000  0.000000  466.090000   \n",
       "1  462.70  464.72  2022-01-10    2022-01-14  0.019178  2.508360  477.781216   \n",
       "2  459.74  437.98  2022-01-17    2022-01-21  0.038356  3.547357  482.623876   \n",
       "\n",
       "   price_down  change_ytd  \n",
       "0  466.090000    0.000000  \n",
       "1  454.398784    0.293935  \n",
       "2  449.556124    6.031024  "
      ]
     },
     "execution_count": 27,
     "metadata": {},
     "output_type": "execute_result"
    }
   ],
   "source": [
    "DT = '2022-01-07'\n",
    "d = datetime.strptime(DT, '%Y-%m-%d')\n",
    "\n",
    "data, vix = metrics_calc.observe_vix_acc(DT)\n",
    "data.head(3)"
   ]
  },
  {
   "cell_type": "markdown",
   "id": "d2e62ad0-d2ac-441d-b01d-ceda13d361ea",
   "metadata": {},
   "source": [
    "# Aggregate Metrics"
   ]
  },
  {
   "cell_type": "code",
   "execution_count": 28,
   "id": "2a27a362-eb7a-4ad1-be6d-ec643e3164a9",
   "metadata": {
    "tags": []
   },
   "outputs": [],
   "source": [
    "data, vix = metrics_calc.observe_vix_acc(DT)"
   ]
  },
  {
   "cell_type": "code",
   "execution_count": 39,
   "id": "58fe35f3-fb01-4b8a-b363-699d7b8c2a70",
   "metadata": {},
   "outputs": [],
   "source": [
    "def agg_metrics(df):\n",
    "    within, exceeded = metrics_calc.calc_accuracy(df)\n",
    "    accuracy = round(within/(within+exceeded), 4)\n",
    "    \n",
    "    stddev = df.close.std()\n",
    "    auc, aoc = metrics_calc.calc_auc_aoc(df)\n",
    "    yearopen = df.iloc[0].close\n",
    "    yearclose = df.iloc[-1].close\n",
    "    vixtotal = df.vix_t.sum()\n",
    "    return {\"accuracy\": accuracy, \"stddev\":stddev, \"auc\":auc, \"aoc\":aoc, \"yearopen\": yearopen,\"yearclose\":yearclose, \"vixtotal\":vixtotal}"
   ]
  },
  {
   "cell_type": "code",
   "execution_count": 48,
   "id": "0ed18dd1-0ba8-47ed-86ec-e7dd9aa12bfc",
   "metadata": {
    "tags": []
   },
   "outputs": [],
   "source": [
    "startdt = '2021-01-08'\n",
    "startdate = datetime.strptime(startdt, '%Y-%m-%d').date()\n",
    "enddate = startdate + timedelta(weeks=30)\n",
    "all_data = {}\n",
    "metric_data = []\n",
    "for p in range(52):\n",
    "    mets = {}\n",
    "    dt = startdate + timedelta(weeks=p)\n",
    "    mets['date'] = dt.strftime('%Y-%m-%d')\n",
    "    data, vix = metrics_calc.observe_vix_acc(dt.strftime('%Y-%m-%d'))\n",
    "    mets['vix'] = vix\n",
    "    \n",
    "    mets.update(agg_metrics(data))\n",
    "\n",
    "    metric_data.append(mets)\n",
    "    all_data[dt.strftime('%Y-%m-%d')] = data\n"
   ]
  },
  {
   "cell_type": "code",
   "execution_count": 54,
   "id": "1187f2c3-adcf-40d7-9c17-56eea6c2be0b",
   "metadata": {},
   "outputs": [
    {
     "data": {
      "text/html": [
       "<div>\n",
       "<style scoped>\n",
       "    .dataframe tbody tr th:only-of-type {\n",
       "        vertical-align: middle;\n",
       "    }\n",
       "\n",
       "    .dataframe tbody tr th {\n",
       "        vertical-align: top;\n",
       "    }\n",
       "\n",
       "    .dataframe thead th {\n",
       "        text-align: right;\n",
       "    }\n",
       "</style>\n",
       "<table border=\"1\" class=\"dataframe\">\n",
       "  <thead>\n",
       "    <tr style=\"text-align: right;\">\n",
       "      <th></th>\n",
       "      <th>date</th>\n",
       "      <th>vix</th>\n",
       "      <th>accuracy</th>\n",
       "      <th>stddev</th>\n",
       "      <th>auc</th>\n",
       "      <th>aoc</th>\n",
       "      <th>yearopen</th>\n",
       "      <th>yearclose</th>\n",
       "      <th>vixtotal</th>\n",
       "    </tr>\n",
       "  </thead>\n",
       "  <tbody>\n",
       "    <tr>\n",
       "      <th>0</th>\n",
       "      <td>2021-01-08</td>\n",
       "      <td>21.351864</td>\n",
       "      <td>0.7736</td>\n",
       "      <td>29.200949</td>\n",
       "      <td>114.585078</td>\n",
       "      <td>-24.310986</td>\n",
       "      <td>381.26</td>\n",
       "      <td>466.09</td>\n",
       "      <td>749.246971</td>\n",
       "    </tr>\n",
       "    <tr>\n",
       "      <th>1</th>\n",
       "      <td>2021-01-15</td>\n",
       "      <td>23.787632</td>\n",
       "      <td>0.7547</td>\n",
       "      <td>28.880672</td>\n",
       "      <td>94.175565</td>\n",
       "      <td>-22.432119</td>\n",
       "      <td>375.70</td>\n",
       "      <td>464.72</td>\n",
       "      <td>834.719225</td>\n",
       "    </tr>\n",
       "    <tr>\n",
       "      <th>2</th>\n",
       "      <td>2021-01-22</td>\n",
       "      <td>21.523510</td>\n",
       "      <td>0.7358</td>\n",
       "      <td>27.896825</td>\n",
       "      <td>106.952053</td>\n",
       "      <td>-22.294159</td>\n",
       "      <td>382.88</td>\n",
       "      <td>437.98</td>\n",
       "      <td>755.270097</td>\n",
       "    </tr>\n",
       "    <tr>\n",
       "      <th>3</th>\n",
       "      <td>2021-01-29</td>\n",
       "      <td>32.422858</td>\n",
       "      <td>0.9811</td>\n",
       "      <td>27.116722</td>\n",
       "      <td>253.047651</td>\n",
       "      <td>-0.276588</td>\n",
       "      <td>370.07</td>\n",
       "      <td>441.95</td>\n",
       "      <td>1137.733368</td>\n",
       "    </tr>\n",
       "  </tbody>\n",
       "</table>\n",
       "</div>"
      ],
      "text/plain": [
       "         date        vix  accuracy     stddev         auc        aoc  \\\n",
       "0  2021-01-08  21.351864    0.7736  29.200949  114.585078 -24.310986   \n",
       "1  2021-01-15  23.787632    0.7547  28.880672   94.175565 -22.432119   \n",
       "2  2021-01-22  21.523510    0.7358  27.896825  106.952053 -22.294159   \n",
       "3  2021-01-29  32.422858    0.9811  27.116722  253.047651  -0.276588   \n",
       "\n",
       "   yearopen  yearclose     vixtotal  \n",
       "0    381.26     466.09   749.246971  \n",
       "1    375.70     464.72   834.719225  \n",
       "2    382.88     437.98   755.270097  \n",
       "3    370.07     441.95  1137.733368  "
      ]
     },
     "execution_count": 54,
     "metadata": {},
     "output_type": "execute_result"
    }
   ],
   "source": [
    "mm = pd.DataFrame.from_dict(metric_data)\n",
    "mm = mm.dropna()\n",
    "mm.head(4)"
   ]
  },
  {
   "cell_type": "code",
   "execution_count": 56,
   "id": "fa2e2033-a995-4b7b-a8ae-c7db0fd29364",
   "metadata": {},
   "outputs": [
    {
     "name": "stdout",
     "output_type": "stream",
     "text": [
      "AUC: 244.9375741711936\n",
      "AOC: -17.32858463565091\n",
      "ABC: 227.6089895355427\n",
      "Ratio: 0.3476427125012004\n"
     ]
    }
   ],
   "source": [
    "mm['abc'] = mm.auc + mm.aoc\n",
    "mm['rd'] = mm.abc / mm.vixtotal\n",
    "print(f\"AUC: {mm.auc.mean()}\")\n",
    "print(f\"AOC: {mm.aoc.mean()}\")\n",
    "print(f\"ABC: {(mm.abc).mean()}\")\n",
    "print(f'Ratio: {mm.rd.mean()}')"
   ]
  },
  {
   "cell_type": "code",
   "execution_count": 59,
   "id": "3e3657c2-9094-4ec2-abb6-e2a19c1e3bb1",
   "metadata": {},
   "outputs": [
    {
     "data": {
      "text/html": [
       "<div>\n",
       "<style scoped>\n",
       "    .dataframe tbody tr th:only-of-type {\n",
       "        vertical-align: middle;\n",
       "    }\n",
       "\n",
       "    .dataframe tbody tr th {\n",
       "        vertical-align: top;\n",
       "    }\n",
       "\n",
       "    .dataframe thead th {\n",
       "        text-align: right;\n",
       "    }\n",
       "</style>\n",
       "<table border=\"1\" class=\"dataframe\">\n",
       "  <thead>\n",
       "    <tr style=\"text-align: right;\">\n",
       "      <th></th>\n",
       "      <th>vix</th>\n",
       "      <th>accuracy</th>\n",
       "      <th>stddev</th>\n",
       "      <th>auc</th>\n",
       "      <th>aoc</th>\n",
       "      <th>yearopen</th>\n",
       "      <th>yearclose</th>\n",
       "      <th>vixtotal</th>\n",
       "      <th>abc</th>\n",
       "      <th>rd</th>\n",
       "    </tr>\n",
       "  </thead>\n",
       "  <tbody>\n",
       "    <tr>\n",
       "      <th>count</th>\n",
       "      <td>50.000000</td>\n",
       "      <td>50.000000</td>\n",
       "      <td>50.000000</td>\n",
       "      <td>50.000000</td>\n",
       "      <td>50.000000</td>\n",
       "      <td>50.000000</td>\n",
       "      <td>50.000000</td>\n",
       "      <td>50.000000</td>\n",
       "      <td>50.000000</td>\n",
       "      <td>50.000000</td>\n",
       "    </tr>\n",
       "    <tr>\n",
       "      <th>mean</th>\n",
       "      <td>19.056488</td>\n",
       "      <td>0.862638</td>\n",
       "      <td>25.907426</td>\n",
       "      <td>244.937574</td>\n",
       "      <td>-17.328585</td>\n",
       "      <td>426.931600</td>\n",
       "      <td>407.629400</td>\n",
       "      <td>668.701136</td>\n",
       "      <td>227.608990</td>\n",
       "      <td>0.347643</td>\n",
       "    </tr>\n",
       "    <tr>\n",
       "      <th>std</th>\n",
       "      <td>3.869303</td>\n",
       "      <td>0.166682</td>\n",
       "      <td>5.605862</td>\n",
       "      <td>117.920132</td>\n",
       "      <td>32.189497</td>\n",
       "      <td>28.666723</td>\n",
       "      <td>28.145458</td>\n",
       "      <td>135.775671</td>\n",
       "      <td>140.993186</td>\n",
       "      <td>0.213969</td>\n",
       "    </tr>\n",
       "    <tr>\n",
       "      <th>min</th>\n",
       "      <td>14.666445</td>\n",
       "      <td>0.226400</td>\n",
       "      <td>16.422009</td>\n",
       "      <td>20.107490</td>\n",
       "      <td>-173.484102</td>\n",
       "      <td>370.070000</td>\n",
       "      <td>357.180000</td>\n",
       "      <td>514.652448</td>\n",
       "      <td>-153.376612</td>\n",
       "      <td>-0.264695</td>\n",
       "    </tr>\n",
       "    <tr>\n",
       "      <th>25%</th>\n",
       "      <td>16.268649</td>\n",
       "      <td>0.797200</td>\n",
       "      <td>21.290819</td>\n",
       "      <td>141.682192</td>\n",
       "      <td>-19.398436</td>\n",
       "      <td>412.347500</td>\n",
       "      <td>388.757500</td>\n",
       "      <td>570.874563</td>\n",
       "      <td>116.806205</td>\n",
       "      <td>0.177521</td>\n",
       "    </tr>\n",
       "    <tr>\n",
       "      <th>50%</th>\n",
       "      <td>17.970460</td>\n",
       "      <td>0.933950</td>\n",
       "      <td>27.099784</td>\n",
       "      <td>262.750474</td>\n",
       "      <td>-2.558798</td>\n",
       "      <td>432.530000</td>\n",
       "      <td>405.955000</td>\n",
       "      <td>630.591893</td>\n",
       "      <td>261.326516</td>\n",
       "      <td>0.465795</td>\n",
       "    </tr>\n",
       "    <tr>\n",
       "      <th>75%</th>\n",
       "      <td>20.680318</td>\n",
       "      <td>0.981100</td>\n",
       "      <td>29.787080</td>\n",
       "      <td>318.397101</td>\n",
       "      <td>-0.547953</td>\n",
       "      <td>445.907500</td>\n",
       "      <td>430.902500</td>\n",
       "      <td>725.682111</td>\n",
       "      <td>314.196275</td>\n",
       "      <td>0.515382</td>\n",
       "    </tr>\n",
       "    <tr>\n",
       "      <th>max</th>\n",
       "      <td>32.422858</td>\n",
       "      <td>1.000000</td>\n",
       "      <td>34.506703</td>\n",
       "      <td>540.909686</td>\n",
       "      <td>0.000000</td>\n",
       "      <td>474.960000</td>\n",
       "      <td>466.090000</td>\n",
       "      <td>1137.733368</td>\n",
       "      <td>540.909686</td>\n",
       "      <td>0.599562</td>\n",
       "    </tr>\n",
       "  </tbody>\n",
       "</table>\n",
       "</div>"
      ],
      "text/plain": [
       "             vix   accuracy     stddev         auc         aoc    yearopen  \\\n",
       "count  50.000000  50.000000  50.000000   50.000000   50.000000   50.000000   \n",
       "mean   19.056488   0.862638  25.907426  244.937574  -17.328585  426.931600   \n",
       "std     3.869303   0.166682   5.605862  117.920132   32.189497   28.666723   \n",
       "min    14.666445   0.226400  16.422009   20.107490 -173.484102  370.070000   \n",
       "25%    16.268649   0.797200  21.290819  141.682192  -19.398436  412.347500   \n",
       "50%    17.970460   0.933950  27.099784  262.750474   -2.558798  432.530000   \n",
       "75%    20.680318   0.981100  29.787080  318.397101   -0.547953  445.907500   \n",
       "max    32.422858   1.000000  34.506703  540.909686    0.000000  474.960000   \n",
       "\n",
       "        yearclose     vixtotal         abc         rd  \n",
       "count   50.000000    50.000000   50.000000  50.000000  \n",
       "mean   407.629400   668.701136  227.608990   0.347643  \n",
       "std     28.145458   135.775671  140.993186   0.213969  \n",
       "min    357.180000   514.652448 -153.376612  -0.264695  \n",
       "25%    388.757500   570.874563  116.806205   0.177521  \n",
       "50%    405.955000   630.591893  261.326516   0.465795  \n",
       "75%    430.902500   725.682111  314.196275   0.515382  \n",
       "max    466.090000  1137.733368  540.909686   0.599562  "
      ]
     },
     "execution_count": 59,
     "metadata": {},
     "output_type": "execute_result"
    }
   ],
   "source": [
    "mm.describe()"
   ]
  },
  {
   "cell_type": "markdown",
   "id": "751a75d7-9e9a-4935-ac1f-63897102f8ae",
   "metadata": {
    "jp-MarkdownHeadingCollapsed": true,
    "tags": []
   },
   "source": [
    "# Instant metrics"
   ]
  },
  {
   "cell_type": "markdown",
   "id": "03e73efc-d642-4c86-b4bb-dbcb4689d330",
   "metadata": {
    "jp-MarkdownHeadingCollapsed": true,
    "tags": []
   },
   "source": [
    "## A look at implied volatilty as prescribed by the vix over a period of time"
   ]
  },
  {
   "cell_type": "code",
   "execution_count": 145,
   "id": "d35809de-0417-470f-bacf-352354b9187d",
   "metadata": {
    "tags": []
   },
   "outputs": [
    {
     "name": "stdout",
     "output_type": "stream",
     "text": [
      "calculating VIX for 2022-01-07\n",
      "2022-01-31\n",
      "2022-02-11\n",
      "18.11287154256035\n"
     ]
    },
    {
     "data": {
      "image/png": "[encoded data removed]",
      "text/plain": [
       "<Figure size 640x480 with 1 Axes>"
      ]
     },
     "metadata": {},
     "output_type": "display_data"
    }
   ],
   "source": [
    "data, VIX = observe_vix_acc(DT)\n",
    "print(VIX)\n",
    "data.plot(x='date_of_close', y=['close', 'price_up', 'price_down']);"
   ]
  },
  {
   "cell_type": "markdown",
   "id": "481d03ea-963b-4cdf-ba92-4388c498839f",
   "metadata": {
    "tags": []
   },
   "source": [
    "## A look at the absolute change in the SPY (to date), and the prescribed volatility bound"
   ]
  },
  {
   "cell_type": "code",
   "execution_count": 154,
   "id": "e90eced4-a01a-4857-a904-d90375928199",
   "metadata": {
    "tags": []
   },
   "outputs": [
    {
     "data": {
      "image/png": "[encoded data removed]",
      "text/plain": [
       "<Figure size 640x480 with 1 Axes>"
      ]
     },
     "metadata": {},
     "output_type": "display_data"
    }
   ],
   "source": [
    "data['change_ytd'] = abs(data.close / data.close.iloc[0] - 1) * 100\n",
    "ax = data.plot(x='date_of_close', y=['change_ytd', 'vix_t'])\n",
    "ax.set_ylabel('Absolute change since first period');"
   ]
  },
  {
   "cell_type": "markdown",
   "id": "0dedcda7-ed17-4bb8-96e3-287d5516716b",
   "metadata": {
    "tags": []
   },
   "source": [
    "## 3 ways of measuring effectiveness for a individual period\n",
    "1. Count how frequently the SPY leaves the vix bounds\n",
    "3. Compare Index to the standard deviation of the stocks proven performance\n",
    "2. Take the difference between the area under the curve for both indexs."
   ]
  },
  {
   "cell_type": "markdown",
   "id": "bd8a3e56-6359-4bbd-a418-76a4f7df516b",
   "metadata": {},
   "source": [
    "#### Simple Accuracy"
   ]
  },
  {
   "cell_type": "code",
   "execution_count": 131,
   "id": "61a678a3-d3ee-4494-a87a-2d2eb6e820b2",
   "metadata": {},
   "outputs": [
    {
     "name": "stdout",
     "output_type": "stream",
     "text": [
      "Within Bound:\t 24\n",
      "Exceeded bound:\t 29\n",
      "Accuracy:  45.28\n"
     ]
    }
   ],
   "source": [
    "df = data[['close', 'date_of_close', 'vix_t', 'change_init']].copy()\n",
    "\n",
    "# within, exceeded = df.bounded.value_counts().loc[True], df.bounded.value_counts().loc[False]\n",
    "within, exceeded = metrics_calc.calc_accuracy(df, real_col='change_init')\n",
    "print('Within Bound:\\t', within)\n",
    "print('Exceeded bound:\\t', exceeded)\n",
    "print('Accuracy: ', round(within/(within+exceeded)*100, 2))"
   ]
  },
  {
   "cell_type": "markdown",
   "id": "080c9f01-a66e-4917-8576-0b352a01ccf3",
   "metadata": {},
   "source": [
    "#### Standard Deviation\n",
    "Note: As the standard deviation is an annualised value, for any given point, the difference between the VIX and the STD for the following year can be compared."
   ]
  },
  {
   "cell_type": "code",
   "execution_count": 132,
   "id": "65e7c842-8743-4561-a7e0-d6587bb6d8ba",
   "metadata": {},
   "outputs": [
    {
     "data": {
      "text/plain": [
       "28.372731765507627"
      ]
     },
     "execution_count": 132,
     "metadata": {},
     "output_type": "execute_result"
    }
   ],
   "source": [
    "df.close.std()"
   ]
  },
  {
   "cell_type": "code",
   "execution_count": 133,
   "id": "3122089a-e8ef-4d2d-b897-a9baa8f1e216",
   "metadata": {},
   "outputs": [
    {
     "name": "stdout",
     "output_type": "stream",
     "text": [
      "Standard Deviation:\t\t 28.372731765507627\n",
      "Relative Standard Deviation:\t 6.960094122722693\n"
     ]
    }
   ],
   "source": [
    "print('Standard Deviation:\\t\\t', df.close.std())\n",
    "print('Relative Standard Deviation:\\t', df.close.std() / df.close.mean() * 100)"
   ]
  },
  {
   "cell_type": "markdown",
   "id": "e539b707-765e-4f29-9fd5-ce8a4303880d",
   "metadata": {},
   "source": [
    "#### Area Under the curve"
   ]
  },
  {
   "cell_type": "code",
   "execution_count": 136,
   "id": "d550c76a-93ee-4e63-9bac-70b426829d58",
   "metadata": {},
   "outputs": [
    {
     "data": {
      "text/plain": [
       "6.087393371560778"
      ]
     },
     "execution_count": 136,
     "metadata": {},
     "output_type": "execute_result"
    }
   ],
   "source": [
    "df.change_init.std()"
   ]
  },
  {
   "cell_type": "code",
   "execution_count": 106,
   "id": "904cf48d-7c1d-4cc6-a0ba-2fc36322b7da",
   "metadata": {},
   "outputs": [
    {
     "data": {
      "text/plain": [
       "528.0267615239161"
      ]
     },
     "execution_count": 106,
     "metadata": {},
     "output_type": "execute_result"
    }
   ],
   "source": [
    "data.vix_t.sum() - data.change_init.sum()"
   ]
  },
  {
   "cell_type": "code",
   "execution_count": 107,
   "id": "7cf5ae75-2ca7-40f7-b476-7edda73324e9",
   "metadata": {},
   "outputs": [],
   "source": [
    "data['curve_diff'] = data.vix_t - data.change_init"
   ]
  },
  {
   "cell_type": "code",
   "execution_count": 113,
   "id": "6e463315-b352-4dd4-9491-432c2f403a69",
   "metadata": {},
   "outputs": [
    {
     "data": {
      "text/plain": [
       "(528.0267615239163, 0.0)"
      ]
     },
     "execution_count": 113,
     "metadata": {},
     "output_type": "execute_result"
    }
   ],
   "source": [
    "metrics_calc.calc_auc(data, real_col='change_init', vix_t='vix_t')"
   ]
  },
  {
   "cell_type": "code",
   "execution_count": 108,
   "id": "7417a5b0-e7e9-4217-88d1-7e697130845c",
   "metadata": {
    "tags": []
   },
   "outputs": [
    {
     "data": {
      "text/plain": [
       "528.0267615239163"
      ]
     },
     "execution_count": 108,
     "metadata": {},
     "output_type": "execute_result"
    }
   ],
   "source": [
    "data[data.curve_diff > 0].curve_diff.sum()"
   ]
  },
  {
   "cell_type": "code",
   "execution_count": 110,
   "id": "653f7702-f687-42e2-aafd-b4194f30f3ae",
   "metadata": {},
   "outputs": [
    {
     "data": {
      "text/html": [
       "<div>\n",
       "<style scoped>\n",
       "    .dataframe tbody tr th:only-of-type {\n",
       "        vertical-align: middle;\n",
       "    }\n",
       "\n",
       "    .dataframe tbody tr th {\n",
       "        vertical-align: top;\n",
       "    }\n",
       "\n",
       "    .dataframe thead th {\n",
       "        text-align: right;\n",
       "    }\n",
       "</style>\n",
       "<table border=\"1\" class=\"dataframe\">\n",
       "  <thead>\n",
       "    <tr style=\"text-align: right;\">\n",
       "      <th></th>\n",
       "      <th>open</th>\n",
       "      <th>close</th>\n",
       "      <th>date_of</th>\n",
       "      <th>date_of_close</th>\n",
       "      <th>annual_</th>\n",
       "      <th>vix_t</th>\n",
       "      <th>price_up</th>\n",
       "      <th>price_down</th>\n",
       "      <th>change_init</th>\n",
       "      <th>curve_diff</th>\n",
       "    </tr>\n",
       "  </thead>\n",
       "  <tbody>\n",
       "    <tr>\n",
       "      <th>0</th>\n",
       "      <td>459.74</td>\n",
       "      <td>437.98</td>\n",
       "      <td>2022-01-17</td>\n",
       "      <td>2022-01-21</td>\n",
       "      <td>0.000000</td>\n",
       "      <td>0.000000</td>\n",
       "      <td>437.980000</td>\n",
       "      <td>437.980000</td>\n",
       "      <td>0.000000</td>\n",
       "      <td>0.000000</td>\n",
       "    </tr>\n",
       "    <tr>\n",
       "      <th>1</th>\n",
       "      <td>432.03</td>\n",
       "      <td>441.95</td>\n",
       "      <td>2022-01-24</td>\n",
       "      <td>2022-01-28</td>\n",
       "      <td>0.019178</td>\n",
       "      <td>3.768618</td>\n",
       "      <td>454.485792</td>\n",
       "      <td>421.474208</td>\n",
       "      <td>0.906434</td>\n",
       "      <td>2.862184</td>\n",
       "    </tr>\n",
       "    <tr>\n",
       "      <th>2</th>\n",
       "      <td>441.24</td>\n",
       "      <td>448.70</td>\n",
       "      <td>2022-01-31</td>\n",
       "      <td>2022-02-04</td>\n",
       "      <td>0.038356</td>\n",
       "      <td>5.329630</td>\n",
       "      <td>461.322714</td>\n",
       "      <td>414.637286</td>\n",
       "      <td>2.447600</td>\n",
       "      <td>2.882030</td>\n",
       "    </tr>\n",
       "    <tr>\n",
       "      <th>3</th>\n",
       "      <td>449.51</td>\n",
       "      <td>440.46</td>\n",
       "      <td>2022-02-07</td>\n",
       "      <td>2022-02-11</td>\n",
       "      <td>0.057534</td>\n",
       "      <td>6.527437</td>\n",
       "      <td>466.568870</td>\n",
       "      <td>409.391130</td>\n",
       "      <td>0.566236</td>\n",
       "      <td>5.961201</td>\n",
       "    </tr>\n",
       "    <tr>\n",
       "      <th>4</th>\n",
       "      <td>439.92</td>\n",
       "      <td>434.23</td>\n",
       "      <td>2022-02-14</td>\n",
       "      <td>2022-02-18</td>\n",
       "      <td>0.076712</td>\n",
       "      <td>7.537235</td>\n",
       "      <td>470.991583</td>\n",
       "      <td>404.968417</td>\n",
       "      <td>0.856203</td>\n",
       "      <td>6.681032</td>\n",
       "    </tr>\n",
       "  </tbody>\n",
       "</table>\n",
       "</div>"
      ],
      "text/plain": [
       "     open   close     date_of date_of_close   annual_     vix_t    price_up  \\\n",
       "0  459.74  437.98  2022-01-17    2022-01-21  0.000000  0.000000  437.980000   \n",
       "1  432.03  441.95  2022-01-24    2022-01-28  0.019178  3.768618  454.485792   \n",
       "2  441.24  448.70  2022-01-31    2022-02-04  0.038356  5.329630  461.322714   \n",
       "3  449.51  440.46  2022-02-07    2022-02-11  0.057534  6.527437  466.568870   \n",
       "4  439.92  434.23  2022-02-14    2022-02-18  0.076712  7.537235  470.991583   \n",
       "\n",
       "   price_down  change_init  curve_diff  \n",
       "0  437.980000     0.000000    0.000000  \n",
       "1  421.474208     0.906434    2.862184  \n",
       "2  414.637286     2.447600    2.882030  \n",
       "3  409.391130     0.566236    5.961201  \n",
       "4  404.968417     0.856203    6.681032  "
      ]
     },
     "execution_count": 110,
     "metadata": {},
     "output_type": "execute_result"
    }
   ],
   "source": [
    "data.head()"
   ]
  },
  {
   "cell_type": "code",
   "execution_count": null,
   "id": "3053c470-02ba-49bd-aeb8-5ba166102247",
   "metadata": {},
   "outputs": [],
   "source": []
  }
 ],
 "metadata": {
  "kernelspec": {
   "display_name": "Python 3 (ipykernel)",
   "language": "python",
   "name": "python3"
  },
  "language_info": {
   "codemirror_mode": {
    "name": "ipython",
    "version": 3
   },
   "file_extension": ".py",
   "mimetype": "text/x-python",
   "name": "python",
   "nbconvert_exporter": "python",
   "pygments_lexer": "ipython3",
   "version": "3.8.3"
  }
 },
 "nbformat": 4,
 "nbformat_minor": 5
}
