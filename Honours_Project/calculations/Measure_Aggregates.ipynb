{
 "cells": [
  {
   "cell_type": "markdown",
   "id": "90705430-4f35-4777-8a56-f1e247212751",
   "metadata": {},
   "source": [
    "# Attempting to measure the accuracy of volatility indexs\n",
    "This notebook will look at how to quantify the effectiveness of a calculated index for any point in time. As these indexs are forward looking the performance of a security over the year following the date of observation will be taken."
   ]
  },
  {
   "cell_type": "code",
   "execution_count": 51,
   "id": "1d258b0a-ec8c-424b-8219-e8de3b5cf58b",
   "metadata": {},
   "outputs": [
    {
     "name": "stdout",
     "output_type": "stream",
     "text": [
      "The autoreload extension is already loaded. To reload it, use:\n",
      "  %reload_ext autoreload\n"
     ]
    }
   ],
   "source": [
    "%load_ext autoreload\n",
    "%autoreload 2\n",
    "\n",
    "import metrics_calc\n",
    "from vix_calc_class import vix_calc\n",
    "from vix_alternative import vix_alternative\n",
    "\n",
    "import sqlite3\n",
    "import pandas as pd\n",
    "pd.set_option('display.precision', 2)\n",
    "\n",
    "import seaborn as sns\n",
    "from datetime import datetime, timedelta"
   ]
  },
  {
   "cell_type": "code",
   "execution_count": 52,
   "id": "8b824d80-432d-4fb8-af20-d1cca2d8d009",
   "metadata": {
    "tags": []
   },
   "outputs": [
    {
     "data": {
      "text/html": [
       "<div>\n",
       "<style scoped>\n",
       "    .dataframe tbody tr th:only-of-type {\n",
       "        vertical-align: middle;\n",
       "    }\n",
       "\n",
       "    .dataframe tbody tr th {\n",
       "        vertical-align: top;\n",
       "    }\n",
       "\n",
       "    .dataframe thead th {\n",
       "        text-align: right;\n",
       "    }\n",
       "</style>\n",
       "<table border=\"1\" class=\"dataframe\">\n",
       "  <thead>\n",
       "    <tr style=\"text-align: right;\">\n",
       "      <th></th>\n",
       "      <th>open</th>\n",
       "      <th>close</th>\n",
       "      <th>date_of</th>\n",
       "      <th>date_of_close</th>\n",
       "      <th>annual_</th>\n",
       "      <th>vix_t</th>\n",
       "      <th>price_up</th>\n",
       "      <th>price_down</th>\n",
       "      <th>change_ytd</th>\n",
       "    </tr>\n",
       "  </thead>\n",
       "  <tbody>\n",
       "    <tr>\n",
       "      <th>0</th>\n",
       "      <td>476.30</td>\n",
       "      <td>466.09</td>\n",
       "      <td>2022-01-03</td>\n",
       "      <td>2022-01-07</td>\n",
       "      <td>0.00</td>\n",
       "      <td>0.00</td>\n",
       "      <td>466.09</td>\n",
       "      <td>466.09</td>\n",
       "      <td>0.00</td>\n",
       "    </tr>\n",
       "    <tr>\n",
       "      <th>1</th>\n",
       "      <td>462.70</td>\n",
       "      <td>464.72</td>\n",
       "      <td>2022-01-10</td>\n",
       "      <td>2022-01-14</td>\n",
       "      <td>0.02</td>\n",
       "      <td>2.51</td>\n",
       "      <td>477.78</td>\n",
       "      <td>454.40</td>\n",
       "      <td>0.29</td>\n",
       "    </tr>\n",
       "    <tr>\n",
       "      <th>2</th>\n",
       "      <td>459.74</td>\n",
       "      <td>437.98</td>\n",
       "      <td>2022-01-17</td>\n",
       "      <td>2022-01-21</td>\n",
       "      <td>0.04</td>\n",
       "      <td>3.55</td>\n",
       "      <td>482.62</td>\n",
       "      <td>449.56</td>\n",
       "      <td>6.03</td>\n",
       "    </tr>\n",
       "  </tbody>\n",
       "</table>\n",
       "</div>"
      ],
      "text/plain": [
       "     open   close     date_of date_of_close  annual_  vix_t  price_up  \\\n",
       "0  476.30  466.09  2022-01-03    2022-01-07     0.00   0.00    466.09   \n",
       "1  462.70  464.72  2022-01-10    2022-01-14     0.02   2.51    477.78   \n",
       "2  459.74  437.98  2022-01-17    2022-01-21     0.04   3.55    482.62   \n",
       "\n",
       "   price_down  change_ytd  \n",
       "0      466.09        0.00  \n",
       "1      454.40        0.29  \n",
       "2      449.56        6.03  "
      ]
     },
     "execution_count": 52,
     "metadata": {},
     "output_type": "execute_result"
    }
   ],
   "source": [
    "DT = '2022-01-07'\n",
    "d = datetime.strptime(DT, '%Y-%m-%d')\n",
    "\n",
    "V = vix_calc()\n",
    "data, vix = metrics_calc.observe_vix_acc(DT, v)\n",
    "data.head(3)"
   ]
  },
  {
   "cell_type": "markdown",
   "id": "d2e62ad0-d2ac-441d-b01d-ceda13d361ea",
   "metadata": {},
   "source": [
    "# Aggregate Metrics"
   ]
  },
  {
   "cell_type": "code",
   "execution_count": 54,
   "id": "58fe35f3-fb01-4b8a-b363-699d7b8c2a70",
   "metadata": {
    "jupyter": {
     "source_hidden": true
    },
    "tags": []
   },
   "outputs": [],
   "source": [
    "# def agg_metrics(df):\n",
    "#     within, exceeded = metrics_calc.calc_accuracy(df)\n",
    "#     accuracy = round(within/(within+exceeded), 4)\n",
    "    \n",
    "#     stddev = df.close.std()\n",
    "#     auc, aoc = metrics_calc.calc_auc_aoc(df)\n",
    "#     yearopen = df.iloc[0].close\n",
    "#     yearclose = df.iloc[-1].close\n",
    "#     vixtotal = df.vix_t.sum()\n",
    "#     return {\"accuracy\": accuracy, \"stddev\":stddev, \"auc\":auc, \"aoc\":aoc, \"yearopen\": yearopen,\"yearclose\":yearclose, \"vixtotal\":vixtotal}\n",
    "\n",
    "# def curve_areas(mm, verbose=False):\n",
    "#     mm['abc'] = mm.auc + mm.aoc\n",
    "#     mm['rd'] = mm.abc / mm.vixtotal\n",
    "    \n",
    "#     if verbose:\n",
    "#         print(f\"Mean Area Under Curve: {mm.auc.mean()}\")\n",
    "#         print(f\"Mean Area Over Curve: {mm.aoc.mean()}\")\n",
    "#         print(f\"Mean Area Between Curves: {(mm.abc).mean()}\")\n",
    "#         print(f'Ratio : {mm.rd.mean()}')"
   ]
  },
  {
   "cell_type": "markdown",
   "id": "d888d90b-41f5-4418-a13d-eaef634e904f",
   "metadata": {},
   "source": [
    "## Measure Classic VIX"
   ]
  },
  {
   "cell_type": "code",
   "execution_count": 55,
   "id": "2a27a362-eb7a-4ad1-be6d-ec643e3164a9",
   "metadata": {
    "tags": []
   },
   "outputs": [
    {
     "data": {
      "text/plain": [
       "18.11287154256035"
      ]
     },
     "execution_count": 55,
     "metadata": {},
     "output_type": "execute_result"
    }
   ],
   "source": [
    "data, vix = metrics_calc.observe_vix_acc(DT, vix_method=V)\n",
    "vix"
   ]
  },
  {
   "cell_type": "code",
   "execution_count": 56,
   "id": "0ed18dd1-0ba8-47ed-86ec-e7dd9aa12bfc",
   "metadata": {
    "tags": []
   },
   "outputs": [],
   "source": [
    "startdt = '2021-01-08'\n",
    "startdate = datetime.strptime(startdt, '%Y-%m-%d').date()\n",
    "\n",
    "enddate = startdate + timedelta(weeks=30)\n",
    "all_data = {}\n",
    "metric_data = []\n",
    "for p in range(52):\n",
    "    mets = {}\n",
    "    dt = startdate + timedelta(weeks=p)\n",
    "    mets['date'] = dt.strftime('%Y-%m-%d')\n",
    "    data, vix = metrics_calc.observe_vix_acc(dt.strftime('%Y-%m-%d'), vix_method=V)\n",
    "    mets['vix'] = vix\n",
    "    \n",
    "    mets.update(agg_metrics(data))\n",
    "\n",
    "    metric_data.append(mets)\n",
    "    all_data[dt.strftime('%Y-%m-%d')] = data\n"
   ]
  },
  {
   "cell_type": "code",
   "execution_count": 57,
   "id": "1187f2c3-adcf-40d7-9c17-56eea6c2be0b",
   "metadata": {},
   "outputs": [
    {
     "data": {
      "text/html": [
       "<div>\n",
       "<style scoped>\n",
       "    .dataframe tbody tr th:only-of-type {\n",
       "        vertical-align: middle;\n",
       "    }\n",
       "\n",
       "    .dataframe tbody tr th {\n",
       "        vertical-align: top;\n",
       "    }\n",
       "\n",
       "    .dataframe thead th {\n",
       "        text-align: right;\n",
       "    }\n",
       "</style>\n",
       "<table border=\"1\" class=\"dataframe\">\n",
       "  <thead>\n",
       "    <tr style=\"text-align: right;\">\n",
       "      <th></th>\n",
       "      <th>date</th>\n",
       "      <th>vix</th>\n",
       "      <th>accuracy</th>\n",
       "      <th>stddev</th>\n",
       "      <th>auc</th>\n",
       "      <th>aoc</th>\n",
       "      <th>yearopen</th>\n",
       "      <th>yearclose</th>\n",
       "      <th>vixtotal</th>\n",
       "    </tr>\n",
       "  </thead>\n",
       "  <tbody>\n",
       "    <tr>\n",
       "      <th>0</th>\n",
       "      <td>2021-01-08</td>\n",
       "      <td>21.35</td>\n",
       "      <td>0.77</td>\n",
       "      <td>29.20</td>\n",
       "      <td>114.59</td>\n",
       "      <td>-24.31</td>\n",
       "      <td>381.26</td>\n",
       "      <td>466.09</td>\n",
       "      <td>749.25</td>\n",
       "    </tr>\n",
       "    <tr>\n",
       "      <th>1</th>\n",
       "      <td>2021-01-15</td>\n",
       "      <td>23.79</td>\n",
       "      <td>0.75</td>\n",
       "      <td>28.88</td>\n",
       "      <td>94.18</td>\n",
       "      <td>-22.43</td>\n",
       "      <td>375.70</td>\n",
       "      <td>464.72</td>\n",
       "      <td>834.72</td>\n",
       "    </tr>\n",
       "    <tr>\n",
       "      <th>2</th>\n",
       "      <td>2021-01-22</td>\n",
       "      <td>21.52</td>\n",
       "      <td>0.74</td>\n",
       "      <td>27.90</td>\n",
       "      <td>106.95</td>\n",
       "      <td>-22.29</td>\n",
       "      <td>382.88</td>\n",
       "      <td>437.98</td>\n",
       "      <td>755.27</td>\n",
       "    </tr>\n",
       "  </tbody>\n",
       "</table>\n",
       "</div>"
      ],
      "text/plain": [
       "         date    vix  accuracy  stddev     auc    aoc  yearopen  yearclose  \\\n",
       "0  2021-01-08  21.35      0.77   29.20  114.59 -24.31    381.26     466.09   \n",
       "1  2021-01-15  23.79      0.75   28.88   94.18 -22.43    375.70     464.72   \n",
       "2  2021-01-22  21.52      0.74   27.90  106.95 -22.29    382.88     437.98   \n",
       "\n",
       "   vixtotal  \n",
       "0    749.25  \n",
       "1    834.72  \n",
       "2    755.27  "
      ]
     },
     "execution_count": 57,
     "metadata": {},
     "output_type": "execute_result"
    }
   ],
   "source": [
    "mm = pd.DataFrame.from_dict(metric_data)\n",
    "mm = mm.dropna()\n",
    "mm.head(3)"
   ]
  },
  {
   "cell_type": "code",
   "execution_count": 58,
   "id": "f5e08645-e565-4dc2-a245-67be87a249f9",
   "metadata": {},
   "outputs": [
    {
     "name": "stdout",
     "output_type": "stream",
     "text": [
      "Mean Area Under Curve: 244.9375741711936\n",
      "Mean Area Over Curve: -17.32858463565091\n",
      "Mean Area Between Curves: 227.6089895355427\n",
      "Ratio : 0.3476427125012004\n"
     ]
    }
   ],
   "source": [
    "metrics_calc.aggregate_metrics.curve_areas(mm, verbose=True)"
   ]
  },
  {
   "cell_type": "code",
   "execution_count": 59,
   "id": "46c0d9ee-c35e-4cd1-bd83-cfbf612531ec",
   "metadata": {},
   "outputs": [
    {
     "data": {
      "text/html": [
       "<div>\n",
       "<style scoped>\n",
       "    .dataframe tbody tr th:only-of-type {\n",
       "        vertical-align: middle;\n",
       "    }\n",
       "\n",
       "    .dataframe tbody tr th {\n",
       "        vertical-align: top;\n",
       "    }\n",
       "\n",
       "    .dataframe thead th {\n",
       "        text-align: right;\n",
       "    }\n",
       "</style>\n",
       "<table border=\"1\" class=\"dataframe\">\n",
       "  <thead>\n",
       "    <tr style=\"text-align: right;\">\n",
       "      <th></th>\n",
       "      <th>vix</th>\n",
       "      <th>accuracy</th>\n",
       "      <th>stddev</th>\n",
       "      <th>auc</th>\n",
       "      <th>aoc</th>\n",
       "      <th>yearopen</th>\n",
       "      <th>yearclose</th>\n",
       "      <th>vixtotal</th>\n",
       "      <th>abc</th>\n",
       "      <th>rd</th>\n",
       "    </tr>\n",
       "  </thead>\n",
       "  <tbody>\n",
       "    <tr>\n",
       "      <th>count</th>\n",
       "      <td>50.00</td>\n",
       "      <td>50.00</td>\n",
       "      <td>50.00</td>\n",
       "      <td>50.00</td>\n",
       "      <td>50.00</td>\n",
       "      <td>50.00</td>\n",
       "      <td>50.00</td>\n",
       "      <td>50.00</td>\n",
       "      <td>50.00</td>\n",
       "      <td>50.00</td>\n",
       "    </tr>\n",
       "    <tr>\n",
       "      <th>mean</th>\n",
       "      <td>19.06</td>\n",
       "      <td>0.86</td>\n",
       "      <td>25.91</td>\n",
       "      <td>244.94</td>\n",
       "      <td>-17.33</td>\n",
       "      <td>426.93</td>\n",
       "      <td>407.63</td>\n",
       "      <td>668.70</td>\n",
       "      <td>227.61</td>\n",
       "      <td>0.35</td>\n",
       "    </tr>\n",
       "    <tr>\n",
       "      <th>std</th>\n",
       "      <td>3.87</td>\n",
       "      <td>0.17</td>\n",
       "      <td>5.61</td>\n",
       "      <td>117.92</td>\n",
       "      <td>32.19</td>\n",
       "      <td>28.67</td>\n",
       "      <td>28.15</td>\n",
       "      <td>135.78</td>\n",
       "      <td>140.99</td>\n",
       "      <td>0.21</td>\n",
       "    </tr>\n",
       "    <tr>\n",
       "      <th>min</th>\n",
       "      <td>14.67</td>\n",
       "      <td>0.23</td>\n",
       "      <td>16.42</td>\n",
       "      <td>20.11</td>\n",
       "      <td>-173.48</td>\n",
       "      <td>370.07</td>\n",
       "      <td>357.18</td>\n",
       "      <td>514.65</td>\n",
       "      <td>-153.38</td>\n",
       "      <td>-0.26</td>\n",
       "    </tr>\n",
       "    <tr>\n",
       "      <th>25%</th>\n",
       "      <td>16.27</td>\n",
       "      <td>0.80</td>\n",
       "      <td>21.29</td>\n",
       "      <td>141.68</td>\n",
       "      <td>-19.40</td>\n",
       "      <td>412.35</td>\n",
       "      <td>388.76</td>\n",
       "      <td>570.87</td>\n",
       "      <td>116.81</td>\n",
       "      <td>0.18</td>\n",
       "    </tr>\n",
       "    <tr>\n",
       "      <th>50%</th>\n",
       "      <td>17.97</td>\n",
       "      <td>0.93</td>\n",
       "      <td>27.10</td>\n",
       "      <td>262.75</td>\n",
       "      <td>-2.56</td>\n",
       "      <td>432.53</td>\n",
       "      <td>405.96</td>\n",
       "      <td>630.59</td>\n",
       "      <td>261.33</td>\n",
       "      <td>0.47</td>\n",
       "    </tr>\n",
       "    <tr>\n",
       "      <th>75%</th>\n",
       "      <td>20.68</td>\n",
       "      <td>0.98</td>\n",
       "      <td>29.79</td>\n",
       "      <td>318.40</td>\n",
       "      <td>-0.55</td>\n",
       "      <td>445.91</td>\n",
       "      <td>430.90</td>\n",
       "      <td>725.68</td>\n",
       "      <td>314.20</td>\n",
       "      <td>0.52</td>\n",
       "    </tr>\n",
       "    <tr>\n",
       "      <th>max</th>\n",
       "      <td>32.42</td>\n",
       "      <td>1.00</td>\n",
       "      <td>34.51</td>\n",
       "      <td>540.91</td>\n",
       "      <td>0.00</td>\n",
       "      <td>474.96</td>\n",
       "      <td>466.09</td>\n",
       "      <td>1137.73</td>\n",
       "      <td>540.91</td>\n",
       "      <td>0.60</td>\n",
       "    </tr>\n",
       "  </tbody>\n",
       "</table>\n",
       "</div>"
      ],
      "text/plain": [
       "         vix  accuracy  stddev     auc     aoc  yearopen  yearclose  vixtotal  \\\n",
       "count  50.00     50.00   50.00   50.00   50.00     50.00      50.00     50.00   \n",
       "mean   19.06      0.86   25.91  244.94  -17.33    426.93     407.63    668.70   \n",
       "std     3.87      0.17    5.61  117.92   32.19     28.67      28.15    135.78   \n",
       "min    14.67      0.23   16.42   20.11 -173.48    370.07     357.18    514.65   \n",
       "25%    16.27      0.80   21.29  141.68  -19.40    412.35     388.76    570.87   \n",
       "50%    17.97      0.93   27.10  262.75   -2.56    432.53     405.96    630.59   \n",
       "75%    20.68      0.98   29.79  318.40   -0.55    445.91     430.90    725.68   \n",
       "max    32.42      1.00   34.51  540.91    0.00    474.96     466.09   1137.73   \n",
       "\n",
       "          abc     rd  \n",
       "count   50.00  50.00  \n",
       "mean   227.61   0.35  \n",
       "std    140.99   0.21  \n",
       "min   -153.38  -0.26  \n",
       "25%    116.81   0.18  \n",
       "50%    261.33   0.47  \n",
       "75%    314.20   0.52  \n",
       "max    540.91   0.60  "
      ]
     },
     "execution_count": 59,
     "metadata": {},
     "output_type": "execute_result"
    }
   ],
   "source": [
    "mm.describe()"
   ]
  },
  {
   "cell_type": "markdown",
   "id": "751a75d7-9e9a-4935-ac1f-63897102f8ae",
   "metadata": {
    "tags": []
   },
   "source": [
    "# Instant metrics"
   ]
  },
  {
   "cell_type": "markdown",
   "id": "03e73efc-d642-4c86-b4bb-dbcb4689d330",
   "metadata": {
    "tags": []
   },
   "source": [
    "## A look at implied volatilty as prescribed by the vix over a period of time"
   ]
  },
  {
   "cell_type": "code",
   "execution_count": 42,
   "id": "f2017d55-d4ae-407a-9b6c-ea14033ba878",
   "metadata": {},
   "outputs": [
    {
     "data": {
      "text/plain": [
       "dict_keys(['2021-01-08', '2021-01-15', '2021-01-22', '2021-01-29', '2021-02-05', '2021-02-12', '2021-02-19', '2021-02-26', '2021-03-05', '2021-03-12', '2021-03-19', '2021-03-26', '2021-04-02', '2021-04-09', '2021-04-16', '2021-04-23', '2021-04-30', '2021-05-07', '2021-05-14', '2021-05-21', '2021-05-28', '2021-06-04', '2021-06-11', '2021-06-18', '2021-06-25', '2021-07-02', '2021-07-09', '2021-07-16', '2021-07-23', '2021-07-30', '2021-08-06', '2021-08-13', '2021-08-20', '2021-08-27', '2021-09-03', '2021-09-10', '2021-09-17', '2021-09-24', '2021-10-01', '2021-10-08', '2021-10-15', '2021-10-22', '2021-10-29', '2021-11-05', '2021-11-12', '2021-11-19', '2021-11-26', '2021-12-03', '2021-12-10', '2021-12-17', '2021-12-24', '2021-12-31'])"
      ]
     },
     "execution_count": 42,
     "metadata": {},
     "output_type": "execute_result"
    }
   ],
   "source": [
    "all_data.keys()"
   ]
  },
  {
   "cell_type": "code",
   "execution_count": 72,
   "id": "d35809de-0417-470f-bacf-352354b9187d",
   "metadata": {
    "tags": []
   },
   "outputs": [
    {
     "name": "stdout",
     "output_type": "stream",
     "text": [
      "24.47717667194873\n"
     ]
    },
    {
     "data": {
      "image/png": "[encoded data removed]",
      "text/plain": [
       "<Figure size 640x480 with 1 Axes>"
      ]
     },
     "metadata": {},
     "output_type": "display_data"
    }
   ],
   "source": [
    "DT = \"2021-03-05\"\n",
    "data, VIX = metrics_calc.observe_vix_acc(DT, V)\n",
    "print(VIX)\n",
    "data.plot(x='date_of_close', y=['close', 'price_up', 'price_down']);"
   ]
  },
  {
   "cell_type": "markdown",
   "id": "481d03ea-963b-4cdf-ba92-4388c498839f",
   "metadata": {
    "tags": []
   },
   "source": [
    "## A look at the absolute change in the SPY (to date), and the prescribed volatility bound"
   ]
  },
  {
   "cell_type": "code",
   "execution_count": 154,
   "id": "e90eced4-a01a-4857-a904-d90375928199",
   "metadata": {
    "tags": []
   },
   "outputs": [
    {
     "data": {
      "image/png": "[encoded data removed]",
      "text/plain": [
       "<Figure size 640x480 with 1 Axes>"
      ]
     },
     "metadata": {},
     "output_type": "display_data"
    }
   ],
   "source": [
    "data['change_ytd'] = abs(data.close / data.close.iloc[0] - 1) * 100\n",
    "ax = data.plot(x='date_of_close', y=['change_ytd', 'vix_t'])\n",
    "ax.set_ylabel('Absolute change since first period');"
   ]
  },
  {
   "cell_type": "markdown",
   "id": "0dedcda7-ed17-4bb8-96e3-287d5516716b",
   "metadata": {
    "tags": []
   },
   "source": [
    "## 3 ways of measuring effectiveness for a individual period\n",
    "1. Count how frequently the SPY leaves the vix bounds\n",
    "3. Compare Index to the standard deviation of the stocks proven performance\n",
    "2. Take the difference between the area under the curve for both indexs."
   ]
  },
  {
   "cell_type": "markdown",
   "id": "bd8a3e56-6359-4bbd-a418-76a4f7df516b",
   "metadata": {},
   "source": [
    "#### Simple Accuracy"
   ]
  },
  {
   "cell_type": "code",
   "execution_count": 131,
   "id": "61a678a3-d3ee-4494-a87a-2d2eb6e820b2",
   "metadata": {},
   "outputs": [
    {
     "name": "stdout",
     "output_type": "stream",
     "text": [
      "Within Bound:\t 24\n",
      "Exceeded bound:\t 29\n",
      "Accuracy:  45.28\n"
     ]
    }
   ],
   "source": [
    "df = data[['close', 'date_of_close', 'vix_t', 'change_init']].copy()\n",
    "\n",
    "# within, exceeded = df.bounded.value_counts().loc[True], df.bounded.value_counts().loc[False]\n",
    "within, exceeded = metrics_calc.calc_accuracy(df, real_col='change_init')\n",
    "print('Within Bound:\\t', within)\n",
    "print('Exceeded bound:\\t', exceeded)\n",
    "print('Accuracy: ', round(within/(within+exceeded)*100, 2))"
   ]
  },
  {
   "cell_type": "markdown",
   "id": "080c9f01-a66e-4917-8576-0b352a01ccf3",
   "metadata": {},
   "source": [
    "#### Standard Deviation\n",
    "Note: As the standard deviation is an annualised value, for any given point, the difference between the VIX and the STD for the following year can be compared."
   ]
  },
  {
   "cell_type": "code",
   "execution_count": 132,
   "id": "65e7c842-8743-4561-a7e0-d6587bb6d8ba",
   "metadata": {},
   "outputs": [
    {
     "data": {
      "text/plain": [
       "28.372731765507627"
      ]
     },
     "execution_count": 132,
     "metadata": {},
     "output_type": "execute_result"
    }
   ],
   "source": [
    "df.close.std()"
   ]
  },
  {
   "cell_type": "code",
   "execution_count": 133,
   "id": "3122089a-e8ef-4d2d-b897-a9baa8f1e216",
   "metadata": {},
   "outputs": [
    {
     "name": "stdout",
     "output_type": "stream",
     "text": [
      "Standard Deviation:\t\t 28.372731765507627\n",
      "Relative Standard Deviation:\t 6.960094122722693\n"
     ]
    }
   ],
   "source": [
    "print('Standard Deviation:\\t\\t', df.close.std())\n",
    "print('Relative Standard Deviation:\\t', df.close.std() / df.close.mean() * 100)"
   ]
  },
  {
   "cell_type": "markdown",
   "id": "e539b707-765e-4f29-9fd5-ce8a4303880d",
   "metadata": {},
   "source": [
    "#### Area Under the curve"
   ]
  },
  {
   "cell_type": "code",
   "execution_count": 136,
   "id": "d550c76a-93ee-4e63-9bac-70b426829d58",
   "metadata": {},
   "outputs": [
    {
     "data": {
      "text/plain": [
       "6.087393371560778"
      ]
     },
     "execution_count": 136,
     "metadata": {},
     "output_type": "execute_result"
    }
   ],
   "source": [
    "df.change_init.std()"
   ]
  },
  {
   "cell_type": "code",
   "execution_count": 106,
   "id": "904cf48d-7c1d-4cc6-a0ba-2fc36322b7da",
   "metadata": {},
   "outputs": [
    {
     "data": {
      "text/plain": [
       "528.0267615239161"
      ]
     },
     "execution_count": 106,
     "metadata": {},
     "output_type": "execute_result"
    }
   ],
   "source": [
    "data.vix_t.sum() - data.change_init.sum()"
   ]
  },
  {
   "cell_type": "code",
   "execution_count": 107,
   "id": "7cf5ae75-2ca7-40f7-b476-7edda73324e9",
   "metadata": {},
   "outputs": [],
   "source": [
    "data['curve_diff'] = data.vix_t - data.change_init"
   ]
  },
  {
   "cell_type": "code",
   "execution_count": 113,
   "id": "6e463315-b352-4dd4-9491-432c2f403a69",
   "metadata": {},
   "outputs": [
    {
     "data": {
      "text/plain": [
       "(528.0267615239163, 0.0)"
      ]
     },
     "execution_count": 113,
     "metadata": {},
     "output_type": "execute_result"
    }
   ],
   "source": [
    "metrics_calc.calc_auc(data, real_col='change_init', vix_t='vix_t')"
   ]
  },
  {
   "cell_type": "code",
   "execution_count": 108,
   "id": "7417a5b0-e7e9-4217-88d1-7e697130845c",
   "metadata": {
    "tags": []
   },
   "outputs": [
    {
     "data": {
      "text/plain": [
       "528.0267615239163"
      ]
     },
     "execution_count": 108,
     "metadata": {},
     "output_type": "execute_result"
    }
   ],
   "source": [
    "data[data.curve_diff > 0].curve_diff.sum()"
   ]
  },
  {
   "cell_type": "code",
   "execution_count": 110,
   "id": "653f7702-f687-42e2-aafd-b4194f30f3ae",
   "metadata": {},
   "outputs": [
    {
     "data": {
      "text/html": [
       "<div>\n",
       "<style scoped>\n",
       "    .dataframe tbody tr th:only-of-type {\n",
       "        vertical-align: middle;\n",
       "    }\n",
       "\n",
       "    .dataframe tbody tr th {\n",
       "        vertical-align: top;\n",
       "    }\n",
       "\n",
       "    .dataframe thead th {\n",
       "        text-align: right;\n",
       "    }\n",
       "</style>\n",
       "<table border=\"1\" class=\"dataframe\">\n",
       "  <thead>\n",
       "    <tr style=\"text-align: right;\">\n",
       "      <th></th>\n",
       "      <th>open</th>\n",
       "      <th>close</th>\n",
       "      <th>date_of</th>\n",
       "      <th>date_of_close</th>\n",
       "      <th>annual_</th>\n",
       "      <th>vix_t</th>\n",
       "      <th>price_up</th>\n",
       "      <th>price_down</th>\n",
       "      <th>change_init</th>\n",
       "      <th>curve_diff</th>\n",
       "    </tr>\n",
       "  </thead>\n",
       "  <tbody>\n",
       "    <tr>\n",
       "      <th>0</th>\n",
       "      <td>459.74</td>\n",
       "      <td>437.98</td>\n",
       "      <td>2022-01-17</td>\n",
       "      <td>2022-01-21</td>\n",
       "      <td>0.000000</td>\n",
       "      <td>0.000000</td>\n",
       "      <td>437.980000</td>\n",
       "      <td>437.980000</td>\n",
       "      <td>0.000000</td>\n",
       "      <td>0.000000</td>\n",
       "    </tr>\n",
       "    <tr>\n",
       "      <th>1</th>\n",
       "      <td>432.03</td>\n",
       "      <td>441.95</td>\n",
       "      <td>2022-01-24</td>\n",
       "      <td>2022-01-28</td>\n",
       "      <td>0.019178</td>\n",
       "      <td>3.768618</td>\n",
       "      <td>454.485792</td>\n",
       "      <td>421.474208</td>\n",
       "      <td>0.906434</td>\n",
       "      <td>2.862184</td>\n",
       "    </tr>\n",
       "    <tr>\n",
       "      <th>2</th>\n",
       "      <td>441.24</td>\n",
       "      <td>448.70</td>\n",
       "      <td>2022-01-31</td>\n",
       "      <td>2022-02-04</td>\n",
       "      <td>0.038356</td>\n",
       "      <td>5.329630</td>\n",
       "      <td>461.322714</td>\n",
       "      <td>414.637286</td>\n",
       "      <td>2.447600</td>\n",
       "      <td>2.882030</td>\n",
       "    </tr>\n",
       "    <tr>\n",
       "      <th>3</th>\n",
       "      <td>449.51</td>\n",
       "      <td>440.46</td>\n",
       "      <td>2022-02-07</td>\n",
       "      <td>2022-02-11</td>\n",
       "      <td>0.057534</td>\n",
       "      <td>6.527437</td>\n",
       "      <td>466.568870</td>\n",
       "      <td>409.391130</td>\n",
       "      <td>0.566236</td>\n",
       "      <td>5.961201</td>\n",
       "    </tr>\n",
       "    <tr>\n",
       "      <th>4</th>\n",
       "      <td>439.92</td>\n",
       "      <td>434.23</td>\n",
       "      <td>2022-02-14</td>\n",
       "      <td>2022-02-18</td>\n",
       "      <td>0.076712</td>\n",
       "      <td>7.537235</td>\n",
       "      <td>470.991583</td>\n",
       "      <td>404.968417</td>\n",
       "      <td>0.856203</td>\n",
       "      <td>6.681032</td>\n",
       "    </tr>\n",
       "  </tbody>\n",
       "</table>\n",
       "</div>"
      ],
      "text/plain": [
       "     open   close     date_of date_of_close   annual_     vix_t    price_up  \\\n",
       "0  459.74  437.98  2022-01-17    2022-01-21  0.000000  0.000000  437.980000   \n",
       "1  432.03  441.95  2022-01-24    2022-01-28  0.019178  3.768618  454.485792   \n",
       "2  441.24  448.70  2022-01-31    2022-02-04  0.038356  5.329630  461.322714   \n",
       "3  449.51  440.46  2022-02-07    2022-02-11  0.057534  6.527437  466.568870   \n",
       "4  439.92  434.23  2022-02-14    2022-02-18  0.076712  7.537235  470.991583   \n",
       "\n",
       "   price_down  change_init  curve_diff  \n",
       "0  437.980000     0.000000    0.000000  \n",
       "1  421.474208     0.906434    2.862184  \n",
       "2  414.637286     2.447600    2.882030  \n",
       "3  409.391130     0.566236    5.961201  \n",
       "4  404.968417     0.856203    6.681032  "
      ]
     },
     "execution_count": 110,
     "metadata": {},
     "output_type": "execute_result"
    }
   ],
   "source": [
    "data.head()"
   ]
  },
  {
   "cell_type": "code",
   "execution_count": null,
   "id": "3053c470-02ba-49bd-aeb8-5ba166102247",
   "metadata": {},
   "outputs": [],
   "source": []
  }
 ],
 "metadata": {
  "kernelspec": {
   "display_name": "Python 3 (ipykernel)",
   "language": "python",
   "name": "python3"
  },
  "language_info": {
   "codemirror_mode": {
    "name": "ipython",
    "version": 3
   },
   "file_extension": ".py",
   "mimetype": "text/x-python",
   "name": "python",
   "nbconvert_exporter": "python",
   "pygments_lexer": "ipython3",
   "version": "3.8.0"
  }
 },
 "nbformat": 4,
 "nbformat_minor": 5
}
