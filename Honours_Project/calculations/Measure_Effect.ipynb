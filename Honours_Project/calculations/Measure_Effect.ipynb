{
 "cells": [
  {
   "cell_type": "markdown",
   "id": "90705430-4f35-4777-8a56-f1e247212751",
   "metadata": {},
   "source": [
    "# Attempting to measure the discrete performance of volatility indexs\n",
    "This notebook will look at how to quantify the effectiveness of a calculated index for any point in time. As these indexs are forward looking the performance of a security over the year following the date of observation will be taken."
   ]
  },
  {
   "cell_type": "code",
   "execution_count": 38,
   "id": "1d258b0a-ec8c-424b-8219-e8de3b5cf58b",
   "metadata": {},
   "outputs": [
    {
     "name": "stdout",
     "output_type": "stream",
     "text": [
      "The autoreload extension is already loaded. To reload it, use:\n",
      "  %reload_ext autoreload\n"
     ]
    }
   ],
   "source": [
    "%load_ext autoreload\n",
    "%autoreload 2\n",
    "\n",
    "import metrics_calc\n",
    "import vix_calc, vix_calc_other\n",
    "import sqlite3\n",
    "import pandas as pd\n",
    "import seaborn as sns\n",
    "from datetime import datetime, timedelta"
   ]
  },
  {
   "cell_type": "code",
   "execution_count": 39,
   "id": "522365ad-de8d-43a6-b80d-bd836cf98f22",
   "metadata": {},
   "outputs": [],
   "source": [
    "conn = sqlite3.connect(\"../data_aggregation/flow_database.db\")\n",
    "conn.row_factory = vix_calc.my_row_factory\n",
    "cursor = conn.cursor()"
   ]
  },
  {
   "cell_type": "code",
   "execution_count": 45,
   "id": "01500a20-2778-4a84-b7c2-6ae49cfdaab0",
   "metadata": {},
   "outputs": [],
   "source": [
    "DT = '2022-01-07'\n",
    "\n",
    "d = datetime.strptime(DT, '%Y-%m-%d')\n",
    "# (d + timedelta(days=365)).strftime('%Y-%m-%d')"
   ]
  },
  {
   "cell_type": "code",
   "execution_count": 50,
   "id": "190e0e2b-8f9a-45b4-b2a1-70ea276801b4",
   "metadata": {
    "tags": []
   },
   "outputs": [],
   "source": [
    "def query_spy(DT):\n",
    "    d = datetime.strptime(DT, '%Y-%m-%d')\n",
    "    for_dt = (d + timedelta(days=365)).strftime('%Y-%m-%d')\n",
    "    query = f\"\"\"\n",
    "    select\n",
    "        open,\n",
    "        close,\n",
    "        date_of,\n",
    "        date_of_close\n",
    "    from price_data\n",
    "\n",
    "    where symbol = 'SPY'\n",
    "    and date_of_close >= '{DT}'\n",
    "    and date_of_close <= '{for_dt}'\n",
    "    ;\n",
    "    \"\"\"\n",
    "\n",
    "    cursor.execute(query)\n",
    "    data = cursor.fetchall()\n",
    "    data = pd.DataFrame.from_records(data)\n",
    "    \n",
    "    data['date_of_close'] = data.date_of_close.apply(pd.to_datetime)\n",
    "    data['annual_'] = (data.date_of_close - d).dt.days / 365\n",
    "    \n",
    "    return data\n",
    "\n",
    "def observe_vix_acc(DT):\n",
    "    VIX = vix_calc.main(DT)\n",
    "    data = query_spy(DT)\n",
    "    start_close = data.iloc[0].close\n",
    "    \n",
    "    data['vix_t'] = data.annual_.apply(lambda x: vix_calc.get_period_volatility(VIX, x))\n",
    "    \n",
    "    data['price_up'] = (data.vix_t / 100 + 1) * start_close\n",
    "    data['price_down'] = (-data.vix_t / 100 + 1) * start_close\n",
    "    return (data, VIX)\n",
    "\n",
    "def observe_vix_acc_o(DT):\n",
    "    VIX = vix_calc_other.main(DT)\n",
    "    data = query_spy(DT)\n",
    "    start_close = data.iloc[0].close\n",
    "    \n",
    "    data['vix_t'] = data.annual_.apply(lambda x: vix_calc.get_period_volatility(VIX, x))\n",
    "    \n",
    "    data['price_up'] = (data.vix_t / 100 + 1) * start_close\n",
    "    data['price_down'] = (-data.vix_t / 100 + 1) * start_close\n",
    "    return (data, VIX)"
   ]
  },
  {
   "cell_type": "code",
   "execution_count": 51,
   "id": "e01bb81b-9b8b-4967-90b4-f0f8a93a9797",
   "metadata": {
    "tags": []
   },
   "outputs": [
    {
     "data": {
      "text/html": [
       "<div>\n",
       "<style scoped>\n",
       "    .dataframe tbody tr th:only-of-type {\n",
       "        vertical-align: middle;\n",
       "    }\n",
       "\n",
       "    .dataframe tbody tr th {\n",
       "        vertical-align: top;\n",
       "    }\n",
       "\n",
       "    .dataframe thead th {\n",
       "        text-align: right;\n",
       "    }\n",
       "</style>\n",
       "<table border=\"1\" class=\"dataframe\">\n",
       "  <thead>\n",
       "    <tr style=\"text-align: right;\">\n",
       "      <th></th>\n",
       "      <th>open</th>\n",
       "      <th>close</th>\n",
       "      <th>date_of</th>\n",
       "      <th>date_of_close</th>\n",
       "      <th>annual_</th>\n",
       "      <th>vix_t</th>\n",
       "      <th>price_up</th>\n",
       "      <th>price_down</th>\n",
       "    </tr>\n",
       "  </thead>\n",
       "  <tbody>\n",
       "    <tr>\n",
       "      <th>0</th>\n",
       "      <td>476.30</td>\n",
       "      <td>466.09</td>\n",
       "      <td>2022-01-03</td>\n",
       "      <td>2022-01-07</td>\n",
       "      <td>0.000000</td>\n",
       "      <td>0.000000</td>\n",
       "      <td>466.090000</td>\n",
       "      <td>466.090000</td>\n",
       "    </tr>\n",
       "    <tr>\n",
       "      <th>1</th>\n",
       "      <td>462.70</td>\n",
       "      <td>464.72</td>\n",
       "      <td>2022-01-10</td>\n",
       "      <td>2022-01-14</td>\n",
       "      <td>0.019178</td>\n",
       "      <td>2.508360</td>\n",
       "      <td>477.781216</td>\n",
       "      <td>454.398784</td>\n",
       "    </tr>\n",
       "    <tr>\n",
       "      <th>2</th>\n",
       "      <td>459.74</td>\n",
       "      <td>437.98</td>\n",
       "      <td>2022-01-17</td>\n",
       "      <td>2022-01-21</td>\n",
       "      <td>0.038356</td>\n",
       "      <td>3.547357</td>\n",
       "      <td>482.623876</td>\n",
       "      <td>449.556124</td>\n",
       "    </tr>\n",
       "    <tr>\n",
       "      <th>3</th>\n",
       "      <td>432.03</td>\n",
       "      <td>441.95</td>\n",
       "      <td>2022-01-24</td>\n",
       "      <td>2022-01-28</td>\n",
       "      <td>0.057534</td>\n",
       "      <td>4.344607</td>\n",
       "      <td>486.339780</td>\n",
       "      <td>445.840220</td>\n",
       "    </tr>\n",
       "  </tbody>\n",
       "</table>\n",
       "</div>"
      ],
      "text/plain": [
       "     open   close     date_of date_of_close   annual_     vix_t    price_up  \\\n",
       "0  476.30  466.09  2022-01-03    2022-01-07  0.000000  0.000000  466.090000   \n",
       "1  462.70  464.72  2022-01-10    2022-01-14  0.019178  2.508360  477.781216   \n",
       "2  459.74  437.98  2022-01-17    2022-01-21  0.038356  3.547357  482.623876   \n",
       "3  432.03  441.95  2022-01-24    2022-01-28  0.057534  4.344607  486.339780   \n",
       "\n",
       "   price_down  \n",
       "0  466.090000  \n",
       "1  454.398784  \n",
       "2  449.556124  \n",
       "3  445.840220  "
      ]
     },
     "execution_count": 51,
     "metadata": {},
     "output_type": "execute_result"
    }
   ],
   "source": [
    "data, vix = observe_vix_acc(DT)\n",
    "data.head(4)"
   ]
  },
  {
   "cell_type": "code",
   "execution_count": 52,
   "id": "fe46ef8a-8ae2-4357-8fb2-f0674933a03e",
   "metadata": {},
   "outputs": [
    {
     "data": {
      "text/plain": [
       "635.6140259444494"
      ]
     },
     "execution_count": 52,
     "metadata": {},
     "output_type": "execute_result"
    }
   ],
   "source": [
    "data.vix_t.sum()"
   ]
  },
  {
   "cell_type": "markdown",
   "id": "03e73efc-d642-4c86-b4bb-dbcb4689d330",
   "metadata": {},
   "source": [
    "## A look at implied volatilty as prescribed by the vix over a period of time"
   ]
  },
  {
   "cell_type": "code",
   "execution_count": 53,
   "id": "d35809de-0417-470f-bacf-352354b9187d",
   "metadata": {
    "tags": []
   },
   "outputs": [
    {
     "name": "stdout",
     "output_type": "stream",
     "text": [
      "18.11287154256035\n"
     ]
    },
    {
     "data": {
      "text/plain": [
       "<AxesSubplot: xlabel='date_of_close'>"
      ]
     },
     "execution_count": 53,
     "metadata": {},
     "output_type": "execute_result"
    },
    {
     "data": {
      "image/png": "[encoded data removed]",
      "text/plain": [
       "<Figure size 640x480 with 1 Axes>"
      ]
     },
     "metadata": {},
     "output_type": "display_data"
    }
   ],
   "source": [
    "data, VIX = observe_vix_acc(DT)\n",
    "print(VIX)\n",
    "data.plot(x='date_of_close', y=['close', 'price_up', 'price_down'])"
   ]
  },
  {
   "cell_type": "code",
   "execution_count": 54,
   "id": "a5ac665c-2cbb-438d-867e-16d893f41055",
   "metadata": {},
   "outputs": [
    {
     "name": "stdout",
     "output_type": "stream",
     "text": [
      "0.001166194645537143 0.0009600344135350957\n",
      "0.0022137990774731015 0.0016722807121791\n",
      "27.40247844774618\n"
     ]
    },
    {
     "data": {
      "text/plain": [
       "<AxesSubplot: xlabel='date_of_close'>"
      ]
     },
     "execution_count": 54,
     "metadata": {},
     "output_type": "execute_result"
    },
    {
     "data": {
      "image/png": "[encoded data removed]",
      "text/plain": [
       "<Figure size 640x480 with 1 Axes>"
      ]
     },
     "metadata": {},
     "output_type": "display_data"
    }
   ],
   "source": [
    "data, VIX = observe_vix_acc_o(DT)\n",
    "print(VIX)\n",
    "data.plot(x='date_of_close', y=['close', 'price_up', 'price_down'])"
   ]
  },
  {
   "cell_type": "markdown",
   "id": "481d03ea-963b-4cdf-ba92-4388c498839f",
   "metadata": {},
   "source": [
    "## A look at the absolute change in the SPY (to date), and the prescribed volatility bound"
   ]
  },
  {
   "cell_type": "code",
   "execution_count": 16,
   "id": "d2eda7d5-43c2-45a2-bdc0-91761d78ca3b",
   "metadata": {
    "tags": []
   },
   "outputs": [
    {
     "data": {
      "text/html": [
       "<div>\n",
       "<style scoped>\n",
       "    .dataframe tbody tr th:only-of-type {\n",
       "        vertical-align: middle;\n",
       "    }\n",
       "\n",
       "    .dataframe tbody tr th {\n",
       "        vertical-align: top;\n",
       "    }\n",
       "\n",
       "    .dataframe thead th {\n",
       "        text-align: right;\n",
       "    }\n",
       "</style>\n",
       "<table border=\"1\" class=\"dataframe\">\n",
       "  <thead>\n",
       "    <tr style=\"text-align: right;\">\n",
       "      <th></th>\n",
       "      <th>open</th>\n",
       "      <th>close</th>\n",
       "      <th>date_of</th>\n",
       "      <th>date_of_close</th>\n",
       "      <th>annual_</th>\n",
       "      <th>vix_t</th>\n",
       "      <th>price_up</th>\n",
       "      <th>price_down</th>\n",
       "      <th>change_init</th>\n",
       "    </tr>\n",
       "  </thead>\n",
       "  <tbody>\n",
       "    <tr>\n",
       "      <th>0</th>\n",
       "      <td>381.81</td>\n",
       "      <td>389.99</td>\n",
       "      <td>2023-03-13</td>\n",
       "      <td>2023-03-17</td>\n",
       "      <td>0.000000</td>\n",
       "      <td>0.000000</td>\n",
       "      <td>389.990000</td>\n",
       "      <td>389.990000</td>\n",
       "      <td>0.000000</td>\n",
       "    </tr>\n",
       "    <tr>\n",
       "      <th>1</th>\n",
       "      <td>390.80</td>\n",
       "      <td>395.75</td>\n",
       "      <td>2023-03-20</td>\n",
       "      <td>2023-03-24</td>\n",
       "      <td>0.019178</td>\n",
       "      <td>3.485596</td>\n",
       "      <td>403.583477</td>\n",
       "      <td>376.396523</td>\n",
       "      <td>1.476961</td>\n",
       "    </tr>\n",
       "    <tr>\n",
       "      <th>2</th>\n",
       "      <td>398.12</td>\n",
       "      <td>409.39</td>\n",
       "      <td>2023-03-27</td>\n",
       "      <td>2023-03-31</td>\n",
       "      <td>0.038356</td>\n",
       "      <td>4.929378</td>\n",
       "      <td>409.214079</td>\n",
       "      <td>370.765921</td>\n",
       "      <td>4.974487</td>\n",
       "    </tr>\n",
       "  </tbody>\n",
       "</table>\n",
       "</div>"
      ],
      "text/plain": [
       "     open   close     date_of date_of_close   annual_     vix_t    price_up  \\\n",
       "0  381.81  389.99  2023-03-13    2023-03-17  0.000000  0.000000  389.990000   \n",
       "1  390.80  395.75  2023-03-20    2023-03-24  0.019178  3.485596  403.583477   \n",
       "2  398.12  409.39  2023-03-27    2023-03-31  0.038356  4.929378  409.214079   \n",
       "\n",
       "   price_down  change_init  \n",
       "0  389.990000     0.000000  \n",
       "1  376.396523     1.476961  \n",
       "2  370.765921     4.974487  "
      ]
     },
     "execution_count": 16,
     "metadata": {},
     "output_type": "execute_result"
    }
   ],
   "source": [
    "data.head(3)"
   ]
  },
  {
   "cell_type": "code",
   "execution_count": 11,
   "id": "70a5c7e4-542d-4528-a730-5722028ba2c5",
   "metadata": {},
   "outputs": [
    {
     "data": {
      "text/plain": [
       "16.77966306350971"
      ]
     },
     "execution_count": 11,
     "metadata": {},
     "output_type": "execute_result"
    }
   ],
   "source": [
    "vix * 2/3"
   ]
  },
  {
   "cell_type": "code",
   "execution_count": 21,
   "id": "8d996fcd-46b6-4838-be76-1a8cc4436b8e",
   "metadata": {},
   "outputs": [
    {
     "data": {
      "text/plain": [
       "0.5687327029056853"
      ]
     },
     "execution_count": 21,
     "metadata": {},
     "output_type": "execute_result"
    }
   ],
   "source": [
    "((data.iloc[:52].vix_t).sum() / 16.77966306350971) / 12"
   ]
  },
  {
   "cell_type": "code",
   "execution_count": 22,
   "id": "18874c9c-0f87-45a0-8b57-cd3ed2f71050",
   "metadata": {},
   "outputs": [
    {
     "data": {
      "text/plain": [
       "114.51771753547882"
      ]
     },
     "execution_count": 22,
     "metadata": {},
     "output_type": "execute_result"
    }
   ],
   "source": [
    "(data.iloc[:53].vix_t).sum()"
   ]
  },
  {
   "cell_type": "code",
   "execution_count": 23,
   "id": "e90eced4-a01a-4857-a904-d90375928199",
   "metadata": {
    "tags": []
   },
   "outputs": [
    {
     "data": {
      "text/plain": [
       "Text(0, 0.5, 'Absolute change since first period')"
      ]
     },
     "execution_count": 23,
     "metadata": {},
     "output_type": "execute_result"
    },
    {
     "data": {
      "image/png": "[encoded data removed]",
      "text/plain": [
       "<Figure size 640x480 with 1 Axes>"
      ]
     },
     "metadata": {},
     "output_type": "display_data"
    }
   ],
   "source": [
    "data['change_init'] = abs(data.close / data.close.iloc[0] - 1) * 100\n",
    "ax = data.plot(x='date_of_close', y=['change_init', 'vix_t'])\n",
    "ax.set_ylabel('Absolute change since first period')"
   ]
  },
  {
   "cell_type": "markdown",
   "id": "0dedcda7-ed17-4bb8-96e3-287d5516716b",
   "metadata": {
    "tags": []
   },
   "source": [
    "## 3 ways of measuring effectiveness for a individual period\n",
    "1. Count how frequently the SPY leaves the vix bounds\n",
    "3. Compare Index to the standard deviation of the stocks proven performance\n",
    "2. Take the difference between the area under the curve for both indexs."
   ]
  },
  {
   "cell_type": "markdown",
   "id": "bd8a3e56-6359-4bbd-a418-76a4f7df516b",
   "metadata": {},
   "source": [
    "#### Simple Accuracy"
   ]
  },
  {
   "cell_type": "code",
   "execution_count": 25,
   "id": "61a678a3-d3ee-4494-a87a-2d2eb6e820b2",
   "metadata": {},
   "outputs": [
    {
     "name": "stdout",
     "output_type": "stream",
     "text": [
      "Within Bound:\t 12\n",
      "Exceeded bound:\t 2\n",
      "Accuracy:  85.71\n"
     ]
    }
   ],
   "source": [
    "df = data[['close', 'date_of_close', 'vix_t', 'change_init']].copy()\n",
    "\n",
    "# within, exceeded = df.bounded.value_counts().loc[True], df.bounded.value_counts().loc[False]\n",
    "within, exceeded = metrics_calc.calc_accuracy(df, real_col='change_init')\n",
    "print('Within Bound:\\t', within)\n",
    "print('Exceeded bound:\\t', exceeded)\n",
    "print('Accuracy: ', round(within/(within+exceeded)*100, 2))"
   ]
  },
  {
   "cell_type": "markdown",
   "id": "080c9f01-a66e-4917-8576-0b352a01ccf3",
   "metadata": {},
   "source": [
    "#### Standard Deviation\n",
    "Note: As the standard deviation is an annualised value, for any given point, the difference between the VIX and the STD for the following year can be compared."
   ]
  },
  {
   "cell_type": "code",
   "execution_count": 26,
   "id": "65e7c842-8743-4561-a7e0-d6587bb6d8ba",
   "metadata": {},
   "outputs": [
    {
     "data": {
      "text/plain": [
       "12.762550147354412"
      ]
     },
     "execution_count": 26,
     "metadata": {},
     "output_type": "execute_result"
    }
   ],
   "source": [
    "df.close.std()"
   ]
  },
  {
   "cell_type": "code",
   "execution_count": 27,
   "id": "3122089a-e8ef-4d2d-b897-a9baa8f1e216",
   "metadata": {},
   "outputs": [
    {
     "name": "stdout",
     "output_type": "stream",
     "text": [
      "Standard Deviation:\t\t 12.762550147354412\n",
      "Relative Standard Deviation:\t 3.0779356261007527\n"
     ]
    }
   ],
   "source": [
    "print('Standard Deviation:\\t\\t', df.close.std())\n",
    "print('Relative Standard Deviation:\\t', df.close.std() / df.close.mean() * 100)"
   ]
  },
  {
   "cell_type": "markdown",
   "id": "e539b707-765e-4f29-9fd5-ce8a4303880d",
   "metadata": {},
   "source": [
    "## Area Under the curve"
   ]
  },
  {
   "cell_type": "code",
   "execution_count": 28,
   "id": "d550c76a-93ee-4e63-9bac-70b426829d58",
   "metadata": {},
   "outputs": [
    {
     "data": {
      "text/plain": [
       "3.2725326668259185"
      ]
     },
     "execution_count": 28,
     "metadata": {},
     "output_type": "execute_result"
    }
   ],
   "source": [
    "df.change_init.std()"
   ]
  },
  {
   "cell_type": "code",
   "execution_count": 29,
   "id": "904cf48d-7c1d-4cc6-a0ba-2fc36322b7da",
   "metadata": {},
   "outputs": [
    {
     "data": {
      "text/plain": [
       "26.0051915732747"
      ]
     },
     "execution_count": 29,
     "metadata": {},
     "output_type": "execute_result"
    }
   ],
   "source": [
    "data.vix_t.sum() - data.change_init.sum()"
   ]
  },
  {
   "cell_type": "code",
   "execution_count": 30,
   "id": "7cf5ae75-2ca7-40f7-b476-7edda73324e9",
   "metadata": {},
   "outputs": [],
   "source": [
    "data['curve_diff'] = data.vix_t - data.change_init"
   ]
  },
  {
   "cell_type": "code",
   "execution_count": 33,
   "id": "6e463315-b352-4dd4-9491-432c2f403a69",
   "metadata": {},
   "outputs": [
    {
     "data": {
      "text/plain": [
       "(26.167745119747632, -0.16255354647292908)"
      ]
     },
     "execution_count": 33,
     "metadata": {},
     "output_type": "execute_result"
    }
   ],
   "source": [
    "metrics_calc.calc_auc_aoc(data, curveA='change_init', curveB='vix_t')"
   ]
  },
  {
   "cell_type": "code",
   "execution_count": 37,
   "id": "0b341d68-b582-4aa8-9c5f-6e741cace278",
   "metadata": {},
   "outputs": [
    {
     "data": {
      "text/plain": [
       "114.51771753547882"
      ]
     },
     "execution_count": 37,
     "metadata": {},
     "output_type": "execute_result"
    }
   ],
   "source": [
    "data.vix_t.sum()"
   ]
  },
  {
   "cell_type": "code",
   "execution_count": 34,
   "id": "7417a5b0-e7e9-4217-88d1-7e697130845c",
   "metadata": {
    "tags": []
   },
   "outputs": [
    {
     "data": {
      "text/plain": [
       "26.167745119747632"
      ]
     },
     "execution_count": 34,
     "metadata": {},
     "output_type": "execute_result"
    }
   ],
   "source": [
    "data[data.curve_diff > 0].curve_diff.sum()"
   ]
  },
  {
   "cell_type": "code",
   "execution_count": 35,
   "id": "653f7702-f687-42e2-aafd-b4194f30f3ae",
   "metadata": {},
   "outputs": [
    {
     "data": {
      "text/html": [
       "<div>\n",
       "<style scoped>\n",
       "    .dataframe tbody tr th:only-of-type {\n",
       "        vertical-align: middle;\n",
       "    }\n",
       "\n",
       "    .dataframe tbody tr th {\n",
       "        vertical-align: top;\n",
       "    }\n",
       "\n",
       "    .dataframe thead th {\n",
       "        text-align: right;\n",
       "    }\n",
       "</style>\n",
       "<table border=\"1\" class=\"dataframe\">\n",
       "  <thead>\n",
       "    <tr style=\"text-align: right;\">\n",
       "      <th></th>\n",
       "      <th>open</th>\n",
       "      <th>close</th>\n",
       "      <th>date_of</th>\n",
       "      <th>date_of_close</th>\n",
       "      <th>annual_</th>\n",
       "      <th>vix_t</th>\n",
       "      <th>price_up</th>\n",
       "      <th>price_down</th>\n",
       "      <th>change_init</th>\n",
       "      <th>curve_diff</th>\n",
       "    </tr>\n",
       "  </thead>\n",
       "  <tbody>\n",
       "    <tr>\n",
       "      <th>0</th>\n",
       "      <td>381.81</td>\n",
       "      <td>389.99</td>\n",
       "      <td>2023-03-13</td>\n",
       "      <td>2023-03-17</td>\n",
       "      <td>0.000000</td>\n",
       "      <td>0.000000</td>\n",
       "      <td>389.990000</td>\n",
       "      <td>389.990000</td>\n",
       "      <td>0.000000</td>\n",
       "      <td>0.000000</td>\n",
       "    </tr>\n",
       "    <tr>\n",
       "      <th>1</th>\n",
       "      <td>390.80</td>\n",
       "      <td>395.75</td>\n",
       "      <td>2023-03-20</td>\n",
       "      <td>2023-03-24</td>\n",
       "      <td>0.019178</td>\n",
       "      <td>3.485596</td>\n",
       "      <td>403.583477</td>\n",
       "      <td>376.396523</td>\n",
       "      <td>1.476961</td>\n",
       "      <td>2.008635</td>\n",
       "    </tr>\n",
       "    <tr>\n",
       "      <th>2</th>\n",
       "      <td>398.12</td>\n",
       "      <td>409.39</td>\n",
       "      <td>2023-03-27</td>\n",
       "      <td>2023-03-31</td>\n",
       "      <td>0.038356</td>\n",
       "      <td>4.929378</td>\n",
       "      <td>409.214079</td>\n",
       "      <td>370.765921</td>\n",
       "      <td>4.974487</td>\n",
       "      <td>-0.045109</td>\n",
       "    </tr>\n",
       "    <tr>\n",
       "      <th>3</th>\n",
       "      <td>408.85</td>\n",
       "      <td>409.19</td>\n",
       "      <td>2023-04-03</td>\n",
       "      <td>2023-04-07</td>\n",
       "      <td>0.057534</td>\n",
       "      <td>6.037230</td>\n",
       "      <td>413.534593</td>\n",
       "      <td>366.445407</td>\n",
       "      <td>4.923203</td>\n",
       "      <td>1.114027</td>\n",
       "    </tr>\n",
       "    <tr>\n",
       "      <th>4</th>\n",
       "      <td>406.61</td>\n",
       "      <td>412.46</td>\n",
       "      <td>2023-04-10</td>\n",
       "      <td>2023-04-14</td>\n",
       "      <td>0.076712</td>\n",
       "      <td>6.971193</td>\n",
       "      <td>417.176954</td>\n",
       "      <td>362.803046</td>\n",
       "      <td>5.761686</td>\n",
       "      <td>1.209506</td>\n",
       "    </tr>\n",
       "  </tbody>\n",
       "</table>\n",
       "</div>"
      ],
      "text/plain": [
       "     open   close     date_of date_of_close   annual_     vix_t    price_up  \\\n",
       "0  381.81  389.99  2023-03-13    2023-03-17  0.000000  0.000000  389.990000   \n",
       "1  390.80  395.75  2023-03-20    2023-03-24  0.019178  3.485596  403.583477   \n",
       "2  398.12  409.39  2023-03-27    2023-03-31  0.038356  4.929378  409.214079   \n",
       "3  408.85  409.19  2023-04-03    2023-04-07  0.057534  6.037230  413.534593   \n",
       "4  406.61  412.46  2023-04-10    2023-04-14  0.076712  6.971193  417.176954   \n",
       "\n",
       "   price_down  change_init  curve_diff  \n",
       "0  389.990000     0.000000    0.000000  \n",
       "1  376.396523     1.476961    2.008635  \n",
       "2  370.765921     4.974487   -0.045109  \n",
       "3  366.445407     4.923203    1.114027  \n",
       "4  362.803046     5.761686    1.209506  "
      ]
     },
     "execution_count": 35,
     "metadata": {},
     "output_type": "execute_result"
    }
   ],
   "source": [
    "data.head()"
   ]
  },
  {
   "cell_type": "code",
   "execution_count": null,
   "id": "3053c470-02ba-49bd-aeb8-5ba166102247",
   "metadata": {},
   "outputs": [],
   "source": []
  }
 ],
 "metadata": {
  "kernelspec": {
   "display_name": "Python 3 (ipykernel)",
   "language": "python",
   "name": "python3"
  },
  "language_info": {
   "codemirror_mode": {
    "name": "ipython",
    "version": 3
   },
   "file_extension": ".py",
   "mimetype": "text/x-python",
   "name": "python",
   "nbconvert_exporter": "python",
   "pygments_lexer": "ipython3",
   "version": "3.8.3"
  }
 },
 "nbformat": 4,
 "nbformat_minor": 5
}
