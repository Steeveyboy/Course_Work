{
 "cells": [
  {
   "cell_type": "markdown",
   "id": "90705430-4f35-4777-8a56-f1e247212751",
   "metadata": {},
   "source": [
    "# Attempting to measure the accuracy of volatility indexs\n",
    "This notebook will look at how to quantify the effectiveness of a calculated index for any point in time. As these indexs are forward looking the performance of a security over the year following the date of observation will be taken."
   ]
  },
  {
   "cell_type": "code",
   "execution_count": 51,
   "id": "1d258b0a-ec8c-424b-8219-e8de3b5cf58b",
   "metadata": {},
   "outputs": [
    {
     "name": "stdout",
     "output_type": "stream",
     "text": [
      "The autoreload extension is already loaded. To reload it, use:\n",
      "  %reload_ext autoreload\n"
     ]
    }
   ],
   "source": [
    "%load_ext autoreload\n",
    "%autoreload 2\n",
    "\n",
    "import metrics_calc\n",
    "from vix_calc_class import vix_calc\n",
    "from vix_alternative import vix_alternative\n",
    "import random\n",
    "\n",
    "import sqlite3\n",
    "import pandas as pd\n",
    "pd.set_option('display.precision', 2)\n",
    "\n",
    "import seaborn as sns\n",
    "from datetime import datetime, timedelta"
   ]
  },
  {
   "cell_type": "code",
   "execution_count": 2,
   "id": "8b824d80-432d-4fb8-af20-d1cca2d8d009",
   "metadata": {
    "tags": []
   },
   "outputs": [
    {
     "data": {
      "text/html": [
       "<div>\n",
       "<style scoped>\n",
       "    .dataframe tbody tr th:only-of-type {\n",
       "        vertical-align: middle;\n",
       "    }\n",
       "\n",
       "    .dataframe tbody tr th {\n",
       "        vertical-align: top;\n",
       "    }\n",
       "\n",
       "    .dataframe thead th {\n",
       "        text-align: right;\n",
       "    }\n",
       "</style>\n",
       "<table border=\"1\" class=\"dataframe\">\n",
       "  <thead>\n",
       "    <tr style=\"text-align: right;\">\n",
       "      <th></th>\n",
       "      <th>open</th>\n",
       "      <th>close</th>\n",
       "      <th>date_of</th>\n",
       "      <th>date_of_close</th>\n",
       "      <th>annual_</th>\n",
       "      <th>vix_t</th>\n",
       "      <th>price_up</th>\n",
       "      <th>price_down</th>\n",
       "      <th>change_ytd</th>\n",
       "    </tr>\n",
       "  </thead>\n",
       "  <tbody>\n",
       "    <tr>\n",
       "      <th>0</th>\n",
       "      <td>476.30</td>\n",
       "      <td>466.09</td>\n",
       "      <td>2022-01-03</td>\n",
       "      <td>2022-01-07</td>\n",
       "      <td>0.00</td>\n",
       "      <td>0.00</td>\n",
       "      <td>466.09</td>\n",
       "      <td>466.09</td>\n",
       "      <td>0.00</td>\n",
       "    </tr>\n",
       "    <tr>\n",
       "      <th>1</th>\n",
       "      <td>462.70</td>\n",
       "      <td>464.72</td>\n",
       "      <td>2022-01-10</td>\n",
       "      <td>2022-01-14</td>\n",
       "      <td>0.02</td>\n",
       "      <td>3.79</td>\n",
       "      <td>483.78</td>\n",
       "      <td>448.40</td>\n",
       "      <td>0.29</td>\n",
       "    </tr>\n",
       "    <tr>\n",
       "      <th>2</th>\n",
       "      <td>459.74</td>\n",
       "      <td>437.98</td>\n",
       "      <td>2022-01-17</td>\n",
       "      <td>2022-01-21</td>\n",
       "      <td>0.04</td>\n",
       "      <td>5.37</td>\n",
       "      <td>491.10</td>\n",
       "      <td>441.08</td>\n",
       "      <td>6.03</td>\n",
       "    </tr>\n",
       "  </tbody>\n",
       "</table>\n",
       "</div>"
      ],
      "text/plain": [
       "     open   close     date_of date_of_close  annual_  vix_t  price_up  \\\n",
       "0  476.30  466.09  2022-01-03    2022-01-07     0.00   0.00    466.09   \n",
       "1  462.70  464.72  2022-01-10    2022-01-14     0.02   3.79    483.78   \n",
       "2  459.74  437.98  2022-01-17    2022-01-21     0.04   5.37    491.10   \n",
       "\n",
       "   price_down  change_ytd  \n",
       "0      466.09        0.00  \n",
       "1      448.40        0.29  \n",
       "2      441.08        6.03  "
      ]
     },
     "execution_count": 2,
     "metadata": {},
     "output_type": "execute_result"
    }
   ],
   "source": [
    "DT = '2022-01-07'\n",
    "d = datetime.strptime(DT, '%Y-%m-%d')\n",
    "\n",
    "V = vix_alternative()\n",
    "data, vix = metrics_calc.observe_vix_acc(DT, V)\n",
    "data.head(3)"
   ]
  },
  {
   "cell_type": "markdown",
   "id": "d2e62ad0-d2ac-441d-b01d-ceda13d361ea",
   "metadata": {},
   "source": [
    "# Aggregate Metrics\n",
    "This Section will employ the metrics we developed in measure effect over a large period of time."
   ]
  },
  {
   "cell_type": "code",
   "execution_count": 92,
   "id": "0ed18dd1-0ba8-47ed-86ec-e7dd9aa12bfc",
   "metadata": {
    "tags": []
   },
   "outputs": [],
   "source": [
    "\n",
    "def run_aggs(vix_method, startdt='2021-01-08', num_weeks=52, userandom=False, seed=101):\n",
    "\n",
    "    startdate = datetime.strptime(startdt, '%Y-%m-%d').date()\n",
    "    # enddate = startdate + timedelta(weeks=num_weeks)\n",
    "    \n",
    "    all_data = {}\n",
    "    metric_data = []\n",
    "    if userandom:\n",
    "        series = metrics_calc.sample_random_dates(num_weeks, seed=seed)\n",
    "    else:\n",
    "        series = [(startdate + timedelta(weeks=p)).strftime('%Y-%m-%d') for p in range(num_weeks)]\n",
    "        \n",
    "    for dt in series:\n",
    "        mets = {}\n",
    "        # dt = startdate + timedelta(weeks=p)\n",
    "        mets['date'] = dt\n",
    "        # print(dt)\n",
    "        data, vix = metrics_calc.observe_vix_acc(DT=dt, vix_method=vix_method)\n",
    "        mets['vix'] = vix\n",
    "\n",
    "        mets.update(metrics_calc.aggregate_metrics.agg_metrics(data))\n",
    "\n",
    "        metric_data.append(mets)\n",
    "        all_data[dt] = data\n",
    "    return metric_data, all_data\n"
   ]
  },
  {
   "cell_type": "markdown",
   "id": "d888d90b-41f5-4418-a13d-eaef634e904f",
   "metadata": {},
   "source": [
    "## Measure Classic VIX"
   ]
  },
  {
   "cell_type": "code",
   "execution_count": 93,
   "id": "4ea2f8b9-2731-45ae-8b4f-7f1d8b5b5c51",
   "metadata": {
    "tags": []
   },
   "outputs": [
    {
     "name": "stdout",
     "output_type": "stream",
     "text": [
      "\n"
     ]
    },
    {
     "data": {
      "text/html": [
       "<div>\n",
       "<style scoped>\n",
       "    .dataframe tbody tr th:only-of-type {\n",
       "        vertical-align: middle;\n",
       "    }\n",
       "\n",
       "    .dataframe tbody tr th {\n",
       "        vertical-align: top;\n",
       "    }\n",
       "\n",
       "    .dataframe thead th {\n",
       "        text-align: right;\n",
       "    }\n",
       "</style>\n",
       "<table border=\"1\" class=\"dataframe\">\n",
       "  <thead>\n",
       "    <tr style=\"text-align: right;\">\n",
       "      <th></th>\n",
       "      <th>date</th>\n",
       "      <th>vix</th>\n",
       "      <th>accuracy</th>\n",
       "      <th>stddev</th>\n",
       "      <th>auc</th>\n",
       "      <th>aoc</th>\n",
       "      <th>yearopen</th>\n",
       "      <th>yearclose</th>\n",
       "      <th>vixtotal</th>\n",
       "    </tr>\n",
       "  </thead>\n",
       "  <tbody>\n",
       "    <tr>\n",
       "      <th>0</th>\n",
       "      <td>2017-01-20</td>\n",
       "      <td>10.66</td>\n",
       "      <td>0.34</td>\n",
       "      <td>12.83</td>\n",
       "      <td>14.06</td>\n",
       "      <td>-122.56</td>\n",
       "      <td>226.74</td>\n",
       "      <td>280.41</td>\n",
       "      <td>374.07</td>\n",
       "    </tr>\n",
       "    <tr>\n",
       "      <th>1</th>\n",
       "      <td>2021-11-12</td>\n",
       "      <td>16.49</td>\n",
       "      <td>0.60</td>\n",
       "      <td>33.95</td>\n",
       "      <td>101.53</td>\n",
       "      <td>-79.92</td>\n",
       "      <td>467.27</td>\n",
       "      <td>398.51</td>\n",
       "      <td>578.60</td>\n",
       "    </tr>\n",
       "    <tr>\n",
       "      <th>2</th>\n",
       "      <td>2016-04-15</td>\n",
       "      <td>13.66</td>\n",
       "      <td>0.89</td>\n",
       "      <td>10.12</td>\n",
       "      <td>171.71</td>\n",
       "      <td>-6.24</td>\n",
       "      <td>207.78</td>\n",
       "      <td>232.51</td>\n",
       "      <td>479.36</td>\n",
       "    </tr>\n",
       "  </tbody>\n",
       "</table>\n",
       "</div>"
      ],
      "text/plain": [
       "         date    vix  accuracy  stddev     auc     aoc  yearopen  yearclose  \\\n",
       "0  2017-01-20  10.66      0.34   12.83   14.06 -122.56    226.74     280.41   \n",
       "1  2021-11-12  16.49      0.60   33.95  101.53  -79.92    467.27     398.51   \n",
       "2  2016-04-15  13.66      0.89   10.12  171.71   -6.24    207.78     232.51   \n",
       "\n",
       "   vixtotal  \n",
       "0    374.07  \n",
       "1    578.60  \n",
       "2    479.36  "
      ]
     },
     "execution_count": 93,
     "metadata": {},
     "output_type": "execute_result"
    }
   ],
   "source": [
    "# startdt = '2021-01-08'\n",
    "num_weeks=180\n",
    "V = vix_calc()\n",
    "metric_data, all_data = run_aggs(V, startdt, num_weeks, userandom=True)\n",
    "# data, vix = metrics_calc.observe_vix_acc(DT, vix_method=V)\n",
    "# vix\n",
    "\n",
    "mm = pd.DataFrame.from_dict(metric_data)\n",
    "mm = mm.dropna()\n",
    "mm.head(3)"
   ]
  },
  {
   "cell_type": "code",
   "execution_count": 94,
   "id": "f5e08645-e565-4dc2-a245-67be87a249f9",
   "metadata": {},
   "outputs": [
    {
     "name": "stdout",
     "output_type": "stream",
     "text": [
      "Mean Area Under Curve: 192.42119246610258\n",
      "Mean Area Over Curve: -46.774228258653665\n",
      "Mean Area Between Curves: 145.64696420744886\n",
      "Ratio : 0.229441505999334\n"
     ]
    }
   ],
   "source": [
    "metrics_calc.aggregate_metrics.curve_areas(mm, verbose=True)"
   ]
  },
  {
   "cell_type": "code",
   "execution_count": 95,
   "id": "46c0d9ee-c35e-4cd1-bd83-cfbf612531ec",
   "metadata": {},
   "outputs": [
    {
     "data": {
      "text/html": [
       "<div>\n",
       "<style scoped>\n",
       "    .dataframe tbody tr th:only-of-type {\n",
       "        vertical-align: middle;\n",
       "    }\n",
       "\n",
       "    .dataframe tbody tr th {\n",
       "        vertical-align: top;\n",
       "    }\n",
       "\n",
       "    .dataframe thead th {\n",
       "        text-align: right;\n",
       "    }\n",
       "</style>\n",
       "<table border=\"1\" class=\"dataframe\">\n",
       "  <thead>\n",
       "    <tr style=\"text-align: right;\">\n",
       "      <th></th>\n",
       "      <th>vix</th>\n",
       "      <th>accuracy</th>\n",
       "      <th>stddev</th>\n",
       "      <th>vixtotal</th>\n",
       "      <th>auc</th>\n",
       "      <th>aoc</th>\n",
       "      <th>abc</th>\n",
       "      <th>rd</th>\n",
       "    </tr>\n",
       "  </thead>\n",
       "  <tbody>\n",
       "    <tr>\n",
       "      <th>count</th>\n",
       "      <td>161.00</td>\n",
       "      <td>161.00</td>\n",
       "      <td>161.00</td>\n",
       "      <td>161.00</td>\n",
       "      <td>161.00</td>\n",
       "      <td>161.00</td>\n",
       "      <td>161.00</td>\n",
       "      <td>161.00</td>\n",
       "    </tr>\n",
       "    <tr>\n",
       "      <th>mean</th>\n",
       "      <td>16.89</td>\n",
       "      <td>0.71</td>\n",
       "      <td>18.21</td>\n",
       "      <td>592.61</td>\n",
       "      <td>192.42</td>\n",
       "      <td>-46.77</td>\n",
       "      <td>145.65</td>\n",
       "      <td>0.23</td>\n",
       "    </tr>\n",
       "    <tr>\n",
       "      <th>std</th>\n",
       "      <td>6.72</td>\n",
       "      <td>0.22</td>\n",
       "      <td>9.52</td>\n",
       "      <td>235.64</td>\n",
       "      <td>165.54</td>\n",
       "      <td>46.00</td>\n",
       "      <td>198.10</td>\n",
       "      <td>0.30</td>\n",
       "    </tr>\n",
       "    <tr>\n",
       "      <th>min</th>\n",
       "      <td>8.73</td>\n",
       "      <td>0.21</td>\n",
       "      <td>7.19</td>\n",
       "      <td>306.35</td>\n",
       "      <td>9.46</td>\n",
       "      <td>-234.09</td>\n",
       "      <td>-211.74</td>\n",
       "      <td>-0.42</td>\n",
       "    </tr>\n",
       "    <tr>\n",
       "      <th>25%</th>\n",
       "      <td>12.22</td>\n",
       "      <td>0.53</td>\n",
       "      <td>10.92</td>\n",
       "      <td>428.80</td>\n",
       "      <td>68.91</td>\n",
       "      <td>-78.60</td>\n",
       "      <td>-7.38</td>\n",
       "      <td>-0.02</td>\n",
       "    </tr>\n",
       "    <tr>\n",
       "      <th>50%</th>\n",
       "      <td>14.84</td>\n",
       "      <td>0.75</td>\n",
       "      <td>13.93</td>\n",
       "      <td>520.62</td>\n",
       "      <td>153.00</td>\n",
       "      <td>-35.75</td>\n",
       "      <td>118.03</td>\n",
       "      <td>0.17</td>\n",
       "    </tr>\n",
       "    <tr>\n",
       "      <th>75%</th>\n",
       "      <td>20.46</td>\n",
       "      <td>0.91</td>\n",
       "      <td>25.86</td>\n",
       "      <td>717.96</td>\n",
       "      <td>264.26</td>\n",
       "      <td>-4.57</td>\n",
       "      <td>256.52</td>\n",
       "      <td>0.50</td>\n",
       "    </tr>\n",
       "    <tr>\n",
       "      <th>max</th>\n",
       "      <td>38.56</td>\n",
       "      <td>1.00</td>\n",
       "      <td>39.37</td>\n",
       "      <td>1353.23</td>\n",
       "      <td>815.03</td>\n",
       "      <td>0.00</td>\n",
       "      <td>813.97</td>\n",
       "      <td>0.79</td>\n",
       "    </tr>\n",
       "  </tbody>\n",
       "</table>\n",
       "</div>"
      ],
      "text/plain": [
       "          vix  accuracy  stddev  vixtotal     auc     aoc     abc      rd\n",
       "count  161.00    161.00  161.00    161.00  161.00  161.00  161.00  161.00\n",
       "mean    16.89      0.71   18.21    592.61  192.42  -46.77  145.65    0.23\n",
       "std      6.72      0.22    9.52    235.64  165.54   46.00  198.10    0.30\n",
       "min      8.73      0.21    7.19    306.35    9.46 -234.09 -211.74   -0.42\n",
       "25%     12.22      0.53   10.92    428.80   68.91  -78.60   -7.38   -0.02\n",
       "50%     14.84      0.75   13.93    520.62  153.00  -35.75  118.03    0.17\n",
       "75%     20.46      0.91   25.86    717.96  264.26   -4.57  256.52    0.50\n",
       "max     38.56      1.00   39.37   1353.23  815.03    0.00  813.97    0.79"
      ]
     },
     "execution_count": 95,
     "metadata": {},
     "output_type": "execute_result"
    }
   ],
   "source": [
    "mm[[\"vix\", 'accuracy', 'stddev', 'vixtotal', 'auc', 'aoc', 'abc', 'rd']].describe()"
   ]
  },
  {
   "cell_type": "markdown",
   "id": "8368ab64-a0ac-4b90-87e4-eb331b5e2f28",
   "metadata": {},
   "source": [
    "### Measure Alternative VIX"
   ]
  },
  {
   "cell_type": "code",
   "execution_count": 35,
   "id": "2a011634-fbe5-402c-a79b-3dd5f1a5aeba",
   "metadata": {},
   "outputs": [
    {
     "data": {
      "text/html": [
       "<div>\n",
       "<style scoped>\n",
       "    .dataframe tbody tr th:only-of-type {\n",
       "        vertical-align: middle;\n",
       "    }\n",
       "\n",
       "    .dataframe tbody tr th {\n",
       "        vertical-align: top;\n",
       "    }\n",
       "\n",
       "    .dataframe thead th {\n",
       "        text-align: right;\n",
       "    }\n",
       "</style>\n",
       "<table border=\"1\" class=\"dataframe\">\n",
       "  <thead>\n",
       "    <tr style=\"text-align: right;\">\n",
       "      <th></th>\n",
       "      <th>date</th>\n",
       "      <th>vix</th>\n",
       "      <th>accuracy</th>\n",
       "      <th>stddev</th>\n",
       "      <th>auc</th>\n",
       "      <th>aoc</th>\n",
       "      <th>yearopen</th>\n",
       "      <th>yearclose</th>\n",
       "      <th>vixtotal</th>\n",
       "    </tr>\n",
       "  </thead>\n",
       "  <tbody>\n",
       "    <tr>\n",
       "      <th>0</th>\n",
       "      <td>2021-01-08</td>\n",
       "      <td>33.05</td>\n",
       "      <td>1.0</td>\n",
       "      <td>29.20</td>\n",
       "      <td>500.64</td>\n",
       "      <td>0.0</td>\n",
       "      <td>381.26</td>\n",
       "      <td>466.09</td>\n",
       "      <td>1159.61</td>\n",
       "    </tr>\n",
       "    <tr>\n",
       "      <th>1</th>\n",
       "      <td>2021-01-15</td>\n",
       "      <td>27.53</td>\n",
       "      <td>1.0</td>\n",
       "      <td>28.88</td>\n",
       "      <td>203.15</td>\n",
       "      <td>0.0</td>\n",
       "      <td>375.70</td>\n",
       "      <td>464.72</td>\n",
       "      <td>966.12</td>\n",
       "    </tr>\n",
       "    <tr>\n",
       "      <th>2</th>\n",
       "      <td>2021-01-22</td>\n",
       "      <td>31.17</td>\n",
       "      <td>1.0</td>\n",
       "      <td>27.90</td>\n",
       "      <td>423.08</td>\n",
       "      <td>0.0</td>\n",
       "      <td>382.88</td>\n",
       "      <td>437.98</td>\n",
       "      <td>1093.69</td>\n",
       "    </tr>\n",
       "  </tbody>\n",
       "</table>\n",
       "</div>"
      ],
      "text/plain": [
       "         date    vix  accuracy  stddev     auc  aoc  yearopen  yearclose  \\\n",
       "0  2021-01-08  33.05       1.0   29.20  500.64  0.0    381.26     466.09   \n",
       "1  2021-01-15  27.53       1.0   28.88  203.15  0.0    375.70     464.72   \n",
       "2  2021-01-22  31.17       1.0   27.90  423.08  0.0    382.88     437.98   \n",
       "\n",
       "   vixtotal  \n",
       "0   1159.61  \n",
       "1    966.12  \n",
       "2   1093.69  "
      ]
     },
     "execution_count": 35,
     "metadata": {},
     "output_type": "execute_result"
    }
   ],
   "source": [
    "# startdt = '2021-01-08'\n",
    "num_weeks=180\n",
    "V = vix_alternative()\n",
    "metric_data, all_data = run_aggs(V, startdt, num_weeks, userandom=True)\n",
    "# data, vix = metrics_calc.observe_vix_acc(DT, vix_method=V)\n",
    "# vix\n",
    "\n",
    "mm = pd.DataFrame.from_dict(metric_data)\n",
    "mm = mm.dropna()\n",
    "mm.head(3)"
   ]
  },
  {
   "cell_type": "code",
   "execution_count": 36,
   "id": "4e240cd2-fa30-491b-9c32-1a102fba37d2",
   "metadata": {},
   "outputs": [
    {
     "name": "stdout",
     "output_type": "stream",
     "text": [
      "Mean Area Under Curve: 536.0927184618001\n",
      "Mean Area Over Curve: -1.1480262992587678\n",
      "Mean Area Between Curves: 534.9446921625415\n",
      "Ratio : 0.5498475907137397\n"
     ]
    }
   ],
   "source": [
    "metrics_calc.aggregate_metrics.curve_areas(mm, verbose=True)"
   ]
  },
  {
   "cell_type": "code",
   "execution_count": 37,
   "id": "cb39c951-02b5-4e14-a954-c83c4cc1d245",
   "metadata": {},
   "outputs": [
    {
     "data": {
      "text/html": [
       "<div>\n",
       "<style scoped>\n",
       "    .dataframe tbody tr th:only-of-type {\n",
       "        vertical-align: middle;\n",
       "    }\n",
       "\n",
       "    .dataframe tbody tr th {\n",
       "        vertical-align: top;\n",
       "    }\n",
       "\n",
       "    .dataframe thead th {\n",
       "        text-align: right;\n",
       "    }\n",
       "</style>\n",
       "<table border=\"1\" class=\"dataframe\">\n",
       "  <thead>\n",
       "    <tr style=\"text-align: right;\">\n",
       "      <th></th>\n",
       "      <th>vix</th>\n",
       "      <th>accuracy</th>\n",
       "      <th>stddev</th>\n",
       "      <th>auc</th>\n",
       "      <th>aoc</th>\n",
       "      <th>abc</th>\n",
       "      <th>rd</th>\n",
       "    </tr>\n",
       "  </thead>\n",
       "  <tbody>\n",
       "    <tr>\n",
       "      <th>count</th>\n",
       "      <td>50.00</td>\n",
       "      <td>50.00</td>\n",
       "      <td>50.00</td>\n",
       "      <td>50.00</td>\n",
       "      <td>50.00</td>\n",
       "      <td>50.00</td>\n",
       "      <td>50.00</td>\n",
       "    </tr>\n",
       "    <tr>\n",
       "      <th>mean</th>\n",
       "      <td>27.81</td>\n",
       "      <td>0.99</td>\n",
       "      <td>25.91</td>\n",
       "      <td>536.09</td>\n",
       "      <td>-1.15</td>\n",
       "      <td>534.94</td>\n",
       "      <td>0.55</td>\n",
       "    </tr>\n",
       "    <tr>\n",
       "      <th>std</th>\n",
       "      <td>6.47</td>\n",
       "      <td>0.05</td>\n",
       "      <td>5.61</td>\n",
       "      <td>185.54</td>\n",
       "      <td>4.53</td>\n",
       "      <td>187.61</td>\n",
       "      <td>0.15</td>\n",
       "    </tr>\n",
       "    <tr>\n",
       "      <th>min</th>\n",
       "      <td>19.64</td>\n",
       "      <td>0.72</td>\n",
       "      <td>16.42</td>\n",
       "      <td>159.73</td>\n",
       "      <td>-28.24</td>\n",
       "      <td>131.49</td>\n",
       "      <td>0.15</td>\n",
       "    </tr>\n",
       "    <tr>\n",
       "      <th>25%</th>\n",
       "      <td>22.68</td>\n",
       "      <td>1.00</td>\n",
       "      <td>21.29</td>\n",
       "      <td>425.35</td>\n",
       "      <td>0.00</td>\n",
       "      <td>425.35</td>\n",
       "      <td>0.43</td>\n",
       "    </tr>\n",
       "    <tr>\n",
       "      <th>50%</th>\n",
       "      <td>25.88</td>\n",
       "      <td>1.00</td>\n",
       "      <td>27.10</td>\n",
       "      <td>521.04</td>\n",
       "      <td>0.00</td>\n",
       "      <td>521.04</td>\n",
       "      <td>0.60</td>\n",
       "    </tr>\n",
       "    <tr>\n",
       "      <th>75%</th>\n",
       "      <td>31.30</td>\n",
       "      <td>1.00</td>\n",
       "      <td>29.79</td>\n",
       "      <td>644.24</td>\n",
       "      <td>0.00</td>\n",
       "      <td>644.24</td>\n",
       "      <td>0.66</td>\n",
       "    </tr>\n",
       "    <tr>\n",
       "      <th>max</th>\n",
       "      <td>46.33</td>\n",
       "      <td>1.00</td>\n",
       "      <td>34.51</td>\n",
       "      <td>1068.86</td>\n",
       "      <td>0.00</td>\n",
       "      <td>1068.86</td>\n",
       "      <td>0.74</td>\n",
       "    </tr>\n",
       "  </tbody>\n",
       "</table>\n",
       "</div>"
      ],
      "text/plain": [
       "         vix  accuracy  stddev      auc    aoc      abc     rd\n",
       "count  50.00     50.00   50.00    50.00  50.00    50.00  50.00\n",
       "mean   27.81      0.99   25.91   536.09  -1.15   534.94   0.55\n",
       "std     6.47      0.05    5.61   185.54   4.53   187.61   0.15\n",
       "min    19.64      0.72   16.42   159.73 -28.24   131.49   0.15\n",
       "25%    22.68      1.00   21.29   425.35   0.00   425.35   0.43\n",
       "50%    25.88      1.00   27.10   521.04   0.00   521.04   0.60\n",
       "75%    31.30      1.00   29.79   644.24   0.00   644.24   0.66\n",
       "max    46.33      1.00   34.51  1068.86   0.00  1068.86   0.74"
      ]
     },
     "execution_count": 37,
     "metadata": {},
     "output_type": "execute_result"
    }
   ],
   "source": [
    "mm[[\"vix\", 'accuracy', 'stddev', 'auc', 'aoc', 'abc', 'rd']].describe()"
   ]
  },
  {
   "cell_type": "markdown",
   "id": "751a75d7-9e9a-4935-ac1f-63897102f8ae",
   "metadata": {
    "tags": []
   },
   "source": [
    "# Instant metrics"
   ]
  },
  {
   "cell_type": "markdown",
   "id": "03e73efc-d642-4c86-b4bb-dbcb4689d330",
   "metadata": {
    "tags": []
   },
   "source": [
    "## A look at implied volatilty as prescribed by the vix over a period of time"
   ]
  },
  {
   "cell_type": "code",
   "execution_count": 11,
   "id": "f2017d55-d4ae-407a-9b6c-ea14033ba878",
   "metadata": {},
   "outputs": [],
   "source": [
    "data_keys = list(all_data.keys())"
   ]
  },
  {
   "cell_type": "code",
   "execution_count": 12,
   "id": "d35809de-0417-470f-bacf-352354b9187d",
   "metadata": {
    "tags": []
   },
   "outputs": [
    {
     "name": "stdout",
     "output_type": "stream",
     "text": [
      "VIX for 2021-01-08: 33.046313729487494\n"
     ]
    },
    {
     "data": {
      "image/png": "[encoded data removed]",
      "text/plain": [
       "<Figure size 640x480 with 1 Axes>"
      ]
     },
     "metadata": {},
     "output_type": "display_data"
    }
   ],
   "source": [
    "DT = data_keys[0]\n",
    "data, VIX = metrics_calc.observe_vix_acc(DT, V)\n",
    "print(f\"VIX for {DT}:\", VIX)\n",
    "data.plot(x='date_of_close', y=['close', 'price_up', 'price_down']);"
   ]
  },
  {
   "cell_type": "markdown",
   "id": "481d03ea-963b-4cdf-ba92-4388c498839f",
   "metadata": {
    "tags": []
   },
   "source": [
    "## A look at the absolute change in the SPY (to date), and the prescribed volatility bound"
   ]
  },
  {
   "cell_type": "code",
   "execution_count": 13,
   "id": "e90eced4-a01a-4857-a904-d90375928199",
   "metadata": {
    "tags": []
   },
   "outputs": [
    {
     "data": {
      "image/png": "[encoded data removed]",
      "text/plain": [
       "<Figure size 640x480 with 1 Axes>"
      ]
     },
     "metadata": {},
     "output_type": "display_data"
    }
   ],
   "source": [
    "data['change_ytd'] = abs(data.close / data.close.iloc[0] - 1) * 100\n",
    "ax = data.plot(x='date_of_close', y=['change_ytd', 'vix_t'])\n",
    "ax.set_ylabel('Absolute change since first period');"
   ]
  },
  {
   "cell_type": "markdown",
   "id": "0dedcda7-ed17-4bb8-96e3-287d5516716b",
   "metadata": {
    "tags": []
   },
   "source": [
    "## 3 ways of measuring effectiveness for a individual period\n",
    "1. Count how frequently the SPY leaves the vix bounds\n",
    "3. Compare Index to the standard deviation of the stocks proven performance\n",
    "2. Take the difference between the area under the curve for both indexs."
   ]
  },
  {
   "cell_type": "markdown",
   "id": "bd8a3e56-6359-4bbd-a418-76a4f7df516b",
   "metadata": {},
   "source": [
    "### Simple Accuracy"
   ]
  },
  {
   "cell_type": "code",
   "execution_count": 14,
   "id": "61a678a3-d3ee-4494-a87a-2d2eb6e820b2",
   "metadata": {},
   "outputs": [
    {
     "name": "stdout",
     "output_type": "stream",
     "text": [
      "Within Bound:\t 53\n",
      "Exceeded bound:\t 0\n",
      "Accuracy:  100.0\n"
     ]
    }
   ],
   "source": [
    "df = data[['close', 'date_of_close', 'vix_t', 'change_ytd']].copy()\n",
    "\n",
    "# within, exceeded = df.bounded.value_counts().loc[True], df.bounded.value_counts().loc[False]\n",
    "within, exceeded = metrics_calc.calc_accuracy(df, real_col='change_ytd')\n",
    "print('Within Bound:\\t', within)\n",
    "print('Exceeded bound:\\t', exceeded)\n",
    "print('Accuracy: ', round(within/(within+exceeded)*100, 2))"
   ]
  },
  {
   "cell_type": "markdown",
   "id": "080c9f01-a66e-4917-8576-0b352a01ccf3",
   "metadata": {},
   "source": [
    "### Standard Deviation\n",
    "Note: As the standard deviation is an annualised value, for any given point, the difference between the VIX and the STD for the following year can be compared."
   ]
  },
  {
   "cell_type": "code",
   "execution_count": 15,
   "id": "3122089a-e8ef-4d2d-b897-a9baa8f1e216",
   "metadata": {},
   "outputs": [
    {
     "name": "stdout",
     "output_type": "stream",
     "text": [
      "Standard Deviation:\t\t 29.20094944725582\n",
      "Relative Standard Deviation:\t 6.82268783252494\n"
     ]
    }
   ],
   "source": [
    "print('Standard Deviation:\\t\\t', df.close.std())\n",
    "print('Relative Standard Deviation:\\t', df.close.std() / df.close.mean() * 100)"
   ]
  },
  {
   "cell_type": "markdown",
   "id": "e539b707-765e-4f29-9fd5-ce8a4303880d",
   "metadata": {},
   "source": [
    "### Analysing Curve Areas"
   ]
  },
  {
   "cell_type": "code",
   "execution_count": 16,
   "id": "e4d5d66f-d0e9-4025-894a-9f9d19f19fa0",
   "metadata": {},
   "outputs": [],
   "source": [
    "data['vix_t2'] = data.annual_.apply(lambda x: metrics_calc.get_period_volatility(2*VIX, x))"
   ]
  },
  {
   "cell_type": "code",
   "execution_count": 18,
   "id": "d6b2c95a-b9c0-44b7-8193-6101fc0d7dc0",
   "metadata": {},
   "outputs": [
    {
     "data": {
      "image/png": "[encoded data removed]",
      "text/plain": [
       "<Figure size 640x480 with 1 Axes>"
      ]
     },
     "metadata": {},
     "output_type": "display_data"
    }
   ],
   "source": [
    "ax = data.plot(x='date_of_close', y=['change_ytd', 'vix_t'])\n",
    "ax.set_ylabel('Absolute change since first period');"
   ]
  },
  {
   "cell_type": "code",
   "execution_count": 19,
   "id": "d550c76a-93ee-4e63-9bac-70b426829d58",
   "metadata": {},
   "outputs": [
    {
     "data": {
      "text/plain": [
       "{'accuracy': 1.0,\n",
       " 'stddev': 29.20094944725582,\n",
       " 'auc': 500.6378399884466,\n",
       " 'aoc': 0.0,\n",
       " 'yearopen': 381.26,\n",
       " 'yearclose': 466.09,\n",
       " 'vixtotal': 1159.6107193883313}"
      ]
     },
     "execution_count": 19,
     "metadata": {},
     "output_type": "execute_result"
    }
   ],
   "source": [
    "metrics_calc.aggregate_metrics.agg_metrics(data)"
   ]
  },
  {
   "cell_type": "code",
   "execution_count": 20,
   "id": "6e463315-b352-4dd4-9491-432c2f403a69",
   "metadata": {},
   "outputs": [
    {
     "name": "stdout",
     "output_type": "stream",
     "text": [
      "Area under Curve 0.0\n",
      "Area Over Curve\t 500.6378399884466\n"
     ]
    }
   ],
   "source": [
    "curve_aoc, curve_auc = metrics_calc.calc_auc_aoc(data, curveA='change_ytd', curveB='vix_t')\n",
    "print(f\"Area under Curve {curve_auc}\\nArea Over Curve\\t {curve_aoc}\")"
   ]
  },
  {
   "cell_type": "markdown",
   "id": "179e4c95-ce1e-44d2-adc5-01de19bee177",
   "metadata": {},
   "source": [
    "### Analysing MAE MSE"
   ]
  },
  {
   "cell_type": "code",
   "execution_count": 22,
   "id": "8ef8096e-ad31-480e-bcb8-8e421951c447",
   "metadata": {},
   "outputs": [],
   "source": [
    "from sklearn.metrics import mean_squared_error, mean_absolute_error\n",
    "\n",
    "from sklearn import metrics"
   ]
  },
  {
   "cell_type": "code",
   "execution_count": 23,
   "id": "4c0f734d-1635-4945-b9df-4df705478794",
   "metadata": {},
   "outputs": [
    {
     "data": {
      "text/plain": [
       "0.009713536279515073"
      ]
     },
     "execution_count": 23,
     "metadata": {},
     "output_type": "execute_result"
    }
   ],
   "source": [
    "test_data = data.iloc[1:].copy()\n",
    "chg_pct, vix_t_pct = test_data.change_ytd/100, test_data.vix_t/100\n",
    "mean_squared_error(chg_pct, vix_t_pct)"
   ]
  },
  {
   "cell_type": "code",
   "execution_count": 24,
   "id": "a67d1ca2-79c2-431d-8bae-288bcba1bdba",
   "metadata": {},
   "outputs": [
    {
     "data": {
      "text/plain": [
       "9.62765076900859"
      ]
     },
     "execution_count": 24,
     "metadata": {},
     "output_type": "execute_result"
    }
   ],
   "source": [
    "# chg_pct, vix_t_pct = data.change_ytd/100, data.vix_t/100\n",
    "mean_absolute_error(test_data.change_ytd, test_data.vix_t)"
   ]
  },
  {
   "cell_type": "code",
   "execution_count": 25,
   "id": "c787e047-6704-4048-b11e-aa38b9fd80a7",
   "metadata": {},
   "outputs": [],
   "source": [
    "test_data['std'] = test_data.change_ytd / test_data.vix_t"
   ]
  },
  {
   "cell_type": "code",
   "execution_count": 26,
   "id": "b06c2245-3661-42b7-9eaa-d36b3b38bc10",
   "metadata": {},
   "outputs": [
    {
     "data": {
      "text/plain": [
       "0.5117275763261407"
      ]
     },
     "execution_count": 26,
     "metadata": {},
     "output_type": "execute_result"
    }
   ],
   "source": [
    "test_data['std'].mean()"
   ]
  },
  {
   "cell_type": "code",
   "execution_count": null,
   "id": "6c9ad0d9-bef9-47a7-8139-48246d6985ac",
   "metadata": {},
   "outputs": [],
   "source": []
  }
 ],
 "metadata": {
  "kernelspec": {
   "display_name": "Python 3 (ipykernel)",
   "language": "python",
   "name": "python3"
  },
  "language_info": {
   "codemirror_mode": {
    "name": "ipython",
    "version": 3
   },
   "file_extension": ".py",
   "mimetype": "text/x-python",
   "name": "python",
   "nbconvert_exporter": "python",
   "pygments_lexer": "ipython3",
   "version": "3.8.3"
  }
 },
 "nbformat": 4,
 "nbformat_minor": 5
}
