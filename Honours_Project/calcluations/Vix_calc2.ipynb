{
 "cells": [
  {
   "cell_type": "code",
   "execution_count": 1,
   "id": "911257af-d2eb-4b92-9714-6a5a40c6ae45",
   "metadata": {},
   "outputs": [],
   "source": [
    "import sqlite3\n",
    "import math, datetime\n",
    "from itertools import groupby\n",
    "from scipy.interpolate import CubicSpline\n",
    "\n",
    "def my_row_factory(cur, row):\n",
    "    d={}\n",
    "    for idx, col in enumerate(cur.description):\n",
    "        d[col[0].lower()] = row[idx]\n",
    "    return d\n",
    "\n",
    "# conn = sqlite3.connect(\"../data_aggregation/options_database.db\")\n",
    "# conn.row_factory = my_row_factory\n",
    "# cursor = conn.cursor()\n",
    "\n",
    "PERIODS = {'1mo': 30/365, '2mo': 60/365, '3mo':91/365, '4mo':121/365, '6mo':182/365, '1yr':1, '2yr':2, '3yr':3, '5yr':5, '7yr':7, '10yr':10, '20yr':20, '30yr':30}\n"
   ]
  },
  {
   "cell_type": "code",
   "execution_count": 82,
   "id": "8352ddfc-7a3c-41a6-828c-950ece794b21",
   "metadata": {},
   "outputs": [],
   "source": [
    "def out_of_money(x):\n",
    "    if x['contract_type'] == 'call':\n",
    "        if(x['strike'] >= x['stock_price']):\n",
    "            return True\n",
    "    else:\n",
    "        if(x['strike'] <= x['stock_price']):\n",
    "            return True\n",
    "    return False\n",
    "\n",
    "def check_serious(bid, ask):\n",
    "    return (bid > 0 and ask > 0)\n",
    "\n",
    "def filter_serious(ls):\n",
    "    ## Takes in a list of options sorted by ascending difference between strike and stock_price.\n",
    "    new_ls = []\n",
    "    prev_serious = True\n",
    "    for opt in ls:\n",
    "        if check_serious(opt['bid'], opt['ask']):\n",
    "            new_ls.append(opt)\n",
    "            prev_serious = True\n",
    "        else:\n",
    "            if not prev_serious:\n",
    "                break\n",
    "            prev_serious = False\n",
    "    return new_ls\n",
    "\n",
    "def select_options(data):\n",
    "    \"\"\"Select valid options from input data\"\"\"\n",
    "    calls = filter(lambda x: x['contract_type']=='call', data)\n",
    "    puts = filter(lambda x: x['contract_type']=='put', data)\n",
    "    \n",
    "    calls = filter(out_of_money, calls)\n",
    "    puts = filter(out_of_money, puts)\n",
    "    \n",
    "    calls = sorted(calls, key=lambda x: abs(x['strike'] - x['stock_price']))\n",
    "    puts = sorted(puts, key=lambda x: abs(x['strike'] - x['stock_price']))\n",
    "    \n",
    "    calls2 = filter_serious(calls)\n",
    "    puts2 = filter_serious(puts)\n",
    "    \n",
    "    return calls2, puts2\n"
   ]
  },
  {
   "cell_type": "code",
   "execution_count": 4,
   "id": "bb9f0af1-4461-48b6-8280-82d63be44e5e",
   "metadata": {},
   "outputs": [],
   "source": [
    "def query_treasury_rates(dt):\n",
    "    conn = sqlite3.connect(\"../data_aggregation/options_database.db\")\n",
    "    conn.row_factory = my_row_factory\n",
    "    cursor = conn.cursor()\n",
    "    \n",
    "    QUERY = f\"\"\"\n",
    "    Select \n",
    "        *\n",
    "    from treasury_rates\n",
    "    where date_of = '{dt}'\n",
    "    \"\"\"\n",
    "    cursor.execute(QUERY)\n",
    "    data = cursor.fetchone()\n",
    "    return data\n",
    "\n",
    "def get_rfr(dt, T):\n",
    "    \"\"\"\n",
    "    This function will calculate the risk free rate over a specified time (T in years) for a specified date (dt)\n",
    "    \"\"\"\n",
    "    rates = query_treasury_rates(dt)\n",
    "    x = [PERIODS[i] for i in list(rates.keys())[1:]]\n",
    "    y = [j for j in list(rates.values())[1:]]\n",
    "    \n",
    "    cs = CubicSpline(x, y)\n",
    "    \n",
    "    return cs(T)\n",
    "\n",
    "\n",
    "def calc_forward(calls, puts, rtr, T):\n",
    "    \"\"\"Calcluating the forward rate of option\"\"\"\n",
    "    F = calls[0]['strike'] + ((math.e ** (rtr*T)) * (calls[0]['midpoint'] - puts[0]['midpoint']))\n",
    "    return F\n",
    "\n",
    "def calc_T(date, exp_date):\n",
    "    \"\"\"Calcluating the time to expiration in years\"\"\"\n",
    "    return (datetime.datetime.strptime(exp_date, '%Y-%m-%d') - datetime.datetime.strptime(date, '%Y-%m-%d')).days / 365"
   ]
  },
  {
   "cell_type": "code",
   "execution_count": 11,
   "id": "ab742e19-f626-45ad-a1e7-9ec4b0d55db3",
   "metadata": {},
   "outputs": [],
   "source": [
    "def query_date(dt):\n",
    "    conn = sqlite3.connect(\"../data_aggregation/options_database.db\")\n",
    "    conn.row_factory = my_row_factory\n",
    "    cursor = conn.cursor()\n",
    "\n",
    "    query = f\"\"\"\n",
    "    select \n",
    "        contract_data.*,\n",
    "        price_data.close as stock_price\n",
    "    from contract_data\n",
    "    join price_data\n",
    "    on (price_data.Symbol = contract_data.Symbol) and (price_data.date_of_close = contract_data.obs_date)\n",
    "        where\n",
    "            contract_data.symbol ='SPY'\n",
    "            and obs_date = '{dt}'\n",
    "    ;\n",
    "    \"\"\"\n",
    "    # '2023-05-12'\n",
    "    cursor.execute(query)\n",
    "    data = cursor.fetchall()\n",
    "    return data"
   ]
  },
  {
   "cell_type": "code",
   "execution_count": 107,
   "id": "06111b94-bb73-4fa2-8171-4a04bb2b1848",
   "metadata": {},
   "outputs": [],
   "source": [
    "def strike_interval(option1, option2):\n",
    "    \"\"\"Calculates the interval between two strike prices\"\"\"\n",
    "    return abs(option1['strike'] - option2['strike']) / 2\n",
    "\n",
    "def calc_inv_contribution(option, strike_int, rfr, T):\n",
    "    return (strike_int / option['strike']**2)*math.e**(rfr*T)*option['midpoint']\n",
    "\n",
    "def calc_contributions(options, option_first, T, rfr):\n",
    "    ls = []\n",
    "\n",
    "    first_cont = calc_inv_contribution(options[0], strike_interval(option_first, options[1]), rfr, T)\n",
    "    # first_contribution = strike_interval(option_first, options[1]) / (options[0]['strike']**2) * math.e**(rfr*T)*options[0] - constraint\n",
    "    ls.append(first_cont)\n",
    "\n",
    "    for i in range(1, len(options)-1):\n",
    "        ls.append(calc_inv_contribution(options[i], strike_interval(options[i-1], options[i+1]), rfr, T))\n",
    "    \n",
    "    return ls\n",
    "\n",
    "def calc_all_contributions(calls, puts, T, rfr, F):\n",
    "    \"\"\"Calculating the individual contribution of each option returning a list\"\"\"\n",
    "    ls = []\n",
    "    Call_first = calls[0]\n",
    "    Puts_first = puts[0]\n",
    "    K_zero = calls[0]['strike']\n",
    "    constraint = (1/T)*((F/K_zero - 1) ** 2)\n",
    "\n",
    "    ls.extend(calc_contributions(calls, Puts_first, T, rfr))\n",
    "    ls.extend(calc_contributions(puts, Call_first, T, rfr))\n",
    "\n",
    "    all_constributions = sum(ls)\n",
    "\n",
    "    variance = (1/T) * all_constributions - constraint \n",
    "    \n",
    "    return variance"
   ]
  },
  {
   "cell_type": "code",
   "execution_count": 92,
   "id": "6103e741-b410-439e-91d2-9a18405a817f",
   "metadata": {},
   "outputs": [
    {
     "name": "stdout",
     "output_type": "stream",
     "text": [
      "618\n",
      "212 near term\n"
     ]
    }
   ],
   "source": [
    "DT = '2023-05-12'\n",
    "exp_dt = '2023-06-09'\n",
    "data = query_date(DT)\n",
    "print(len(data))\n",
    "options = list(filter(lambda x: x['exp_date'] == exp_dt, data))\n",
    "print(len(options), 'near term')"
   ]
  },
  {
   "cell_type": "code",
   "execution_count": 94,
   "id": "c6677dd2-4059-4aad-b6be-3efe79487910",
   "metadata": {},
   "outputs": [],
   "source": [
    "# g = groupby(sorted(data, key=lambda x: x['exp_date']), key=lambda x: x['exp_date'])\n",
    "contributions_ls = []\n",
    "\n",
    "calls, puts = select_options(options)\n",
    "T = calc_T(DT, exp_dt)\n",
    "rfr = get_rfr(DT, T)\n",
    "F = calc_forward(calls, puts, rfr, T)"
   ]
  },
  {
   "cell_type": "code",
   "execution_count": 108,
   "id": "840a8b00-abf9-481b-a3de-28c619312a7d",
   "metadata": {},
   "outputs": [],
   "source": [
    "contributions_ls.append(calc_all_contributions(calls, puts, T, rfr, F))"
   ]
  },
  {
   "cell_type": "code",
   "execution_count": 109,
   "id": "85f0e48d-cdfb-4382-9a26-6740d1882f31",
   "metadata": {
    "tags": []
   },
   "outputs": [
    {
     "data": {
      "text/plain": [
       "[0.021267092633483857]"
      ]
     },
     "execution_count": 109,
     "metadata": {},
     "output_type": "execute_result"
    }
   ],
   "source": [
    "contributions_ls"
   ]
  },
  {
   "cell_type": "code",
   "execution_count": null,
   "id": "8e7d8656-d0a7-4e25-9bf7-e46518fa3734",
   "metadata": {},
   "outputs": [],
   "source": []
  }
 ],
 "metadata": {
  "kernelspec": {
   "display_name": "Python 3 (ipykernel)",
   "language": "python",
   "name": "python3"
  },
  "language_info": {
   "codemirror_mode": {
    "name": "ipython",
    "version": 3
   },
   "file_extension": ".py",
   "mimetype": "text/x-python",
   "name": "python",
   "nbconvert_exporter": "python",
   "pygments_lexer": "ipython3",
   "version": "3.8.3"
  }
 },
 "nbformat": 4,
 "nbformat_minor": 5
}
