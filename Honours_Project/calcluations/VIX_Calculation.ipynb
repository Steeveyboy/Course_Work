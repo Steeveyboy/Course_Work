{
 "cells": [
  {
   "cell_type": "code",
   "execution_count": 18,
   "id": "c1038412-6a20-4191-afc0-baed49c15b53",
   "metadata": {},
   "outputs": [],
   "source": [
    "import sqlite3\n",
    "import seaborn\n",
    "import pandas as pd\n",
    "\n",
    "def my_row_factory(cur, row):\n",
    "    d={}\n",
    "    for idx, col in enumerate(cur.description):\n",
    "        d[col[0].lower()] = row[idx]\n",
    "    return d\n",
    "\n",
    "conn = sqlite3.connect(\"../data_aggregation/options_database.db\")\n",
    "conn.row_factory = my_row_factory\n",
    "cursor = conn.cursor()\n"
   ]
  },
  {
   "cell_type": "code",
   "execution_count": 46,
   "id": "c05b517a-4360-4e32-8fd5-9c9975309760",
   "metadata": {},
   "outputs": [],
   "source": [
    "query = \"\"\"\n",
    "select \n",
    "    contract_data.*,\n",
    "    price_data.close as stock_price\n",
    "from contract_data\n",
    "join price_data\n",
    "on (price_data.Symbol = contract_data.Symbol) and (price_data.date_of_close = contract_data.obs_date)\n",
    "    where\n",
    "        contract_data.symbol ='SPY'\n",
    "        and obs_date = '2023-05-12'\n",
    ";\n",
    "\"\"\"\n",
    "cursor.execute(query);\n",
    "\n",
    "data = cursor.fetchall()\n",
    "\n",
    "test = data[0]"
   ]
  },
  {
   "cell_type": "code",
   "execution_count": 28,
   "id": "7d825e1e-3fe4-4bc9-aefb-f006b0b03aff",
   "metadata": {},
   "outputs": [],
   "source": [
    "from datetime import datetime"
   ]
  },
  {
   "cell_type": "code",
   "execution_count": 36,
   "id": "271424ca-c1c9-492e-a094-10849a223a73",
   "metadata": {},
   "outputs": [],
   "source": [
    "T = datetime.strptime(test['exp_date'], '%Y-%m-%d') - datetime.strptime(test['obs_date'], '%Y-%m-%d')"
   ]
  },
  {
   "cell_type": "code",
   "execution_count": 44,
   "id": "4682d3d5-128a-4ddd-812a-5f950ef21fbf",
   "metadata": {},
   "outputs": [
    {
     "data": {
      "text/plain": [
       "28"
      ]
     },
     "execution_count": 44,
     "metadata": {},
     "output_type": "execute_result"
    }
   ],
   "source": [
    "T.days"
   ]
  },
  {
   "cell_type": "code",
   "execution_count": 49,
   "id": "aa41681a-b782-4d9f-bdee-5734ef95adac",
   "metadata": {},
   "outputs": [
    {
     "data": {
      "text/html": [
       "<div>\n",
       "<style scoped>\n",
       "    .dataframe tbody tr th:only-of-type {\n",
       "        vertical-align: middle;\n",
       "    }\n",
       "\n",
       "    .dataframe tbody tr th {\n",
       "        vertical-align: top;\n",
       "    }\n",
       "\n",
       "    .dataframe thead th {\n",
       "        text-align: right;\n",
       "    }\n",
       "</style>\n",
       "<table border=\"1\" class=\"dataframe\">\n",
       "  <thead>\n",
       "    <tr style=\"text-align: right;\">\n",
       "      <th></th>\n",
       "      <th>symbol</th>\n",
       "      <th>contract_type</th>\n",
       "      <th>strike</th>\n",
       "      <th>bid</th>\n",
       "      <th>midpoint</th>\n",
       "      <th>ask</th>\n",
       "      <th>last</th>\n",
       "      <th>volume</th>\n",
       "      <th>open_int</th>\n",
       "      <th>obs_date</th>\n",
       "      <th>exp_date</th>\n",
       "      <th>stock_price</th>\n",
       "    </tr>\n",
       "  </thead>\n",
       "  <tbody>\n",
       "    <tr>\n",
       "      <th>0</th>\n",
       "      <td>SPY</td>\n",
       "      <td>call</td>\n",
       "      <td>275.0</td>\n",
       "      <td>137.02</td>\n",
       "      <td>137.34</td>\n",
       "      <td>137.66</td>\n",
       "      <td>0.0</td>\n",
       "      <td>0</td>\n",
       "      <td>0.0</td>\n",
       "      <td>2023-05-12</td>\n",
       "      <td>2023-06-09</td>\n",
       "      <td>411.59</td>\n",
       "    </tr>\n",
       "    <tr>\n",
       "      <th>1</th>\n",
       "      <td>SPY</td>\n",
       "      <td>call</td>\n",
       "      <td>280.0</td>\n",
       "      <td>132.04</td>\n",
       "      <td>132.36</td>\n",
       "      <td>132.68</td>\n",
       "      <td>0.0</td>\n",
       "      <td>0</td>\n",
       "      <td>0.0</td>\n",
       "      <td>2023-05-12</td>\n",
       "      <td>2023-06-09</td>\n",
       "      <td>411.59</td>\n",
       "    </tr>\n",
       "    <tr>\n",
       "      <th>2</th>\n",
       "      <td>SPY</td>\n",
       "      <td>call</td>\n",
       "      <td>285.0</td>\n",
       "      <td>127.07</td>\n",
       "      <td>127.38</td>\n",
       "      <td>127.70</td>\n",
       "      <td>0.0</td>\n",
       "      <td>0</td>\n",
       "      <td>0.0</td>\n",
       "      <td>2023-05-12</td>\n",
       "      <td>2023-06-09</td>\n",
       "      <td>411.59</td>\n",
       "    </tr>\n",
       "    <tr>\n",
       "      <th>3</th>\n",
       "      <td>SPY</td>\n",
       "      <td>call</td>\n",
       "      <td>290.0</td>\n",
       "      <td>122.10</td>\n",
       "      <td>122.42</td>\n",
       "      <td>122.73</td>\n",
       "      <td>0.0</td>\n",
       "      <td>0</td>\n",
       "      <td>0.0</td>\n",
       "      <td>2023-05-12</td>\n",
       "      <td>2023-06-09</td>\n",
       "      <td>411.59</td>\n",
       "    </tr>\n",
       "    <tr>\n",
       "      <th>4</th>\n",
       "      <td>SPY</td>\n",
       "      <td>call</td>\n",
       "      <td>295.0</td>\n",
       "      <td>117.13</td>\n",
       "      <td>117.44</td>\n",
       "      <td>117.76</td>\n",
       "      <td>0.0</td>\n",
       "      <td>0</td>\n",
       "      <td>0.0</td>\n",
       "      <td>2023-05-12</td>\n",
       "      <td>2023-06-09</td>\n",
       "      <td>411.59</td>\n",
       "    </tr>\n",
       "  </tbody>\n",
       "</table>\n",
       "</div>"
      ],
      "text/plain": [
       "  symbol contract_type  strike     bid  midpoint     ask  last  volume  \\\n",
       "0    SPY          call   275.0  137.02    137.34  137.66   0.0       0   \n",
       "1    SPY          call   280.0  132.04    132.36  132.68   0.0       0   \n",
       "2    SPY          call   285.0  127.07    127.38  127.70   0.0       0   \n",
       "3    SPY          call   290.0  122.10    122.42  122.73   0.0       0   \n",
       "4    SPY          call   295.0  117.13    117.44  117.76   0.0       0   \n",
       "\n",
       "   open_int    obs_date    exp_date  stock_price  \n",
       "0       0.0  2023-05-12  2023-06-09       411.59  \n",
       "1       0.0  2023-05-12  2023-06-09       411.59  \n",
       "2       0.0  2023-05-12  2023-06-09       411.59  \n",
       "3       0.0  2023-05-12  2023-06-09       411.59  \n",
       "4       0.0  2023-05-12  2023-06-09       411.59  "
      ]
     },
     "execution_count": 49,
     "metadata": {},
     "output_type": "execute_result"
    }
   ],
   "source": [
    "df = pd.DataFrame(data, columns=['symbol', 'contract_type', 'strike', 'bid', 'midpoint', 'ask', 'last', 'volume', 'open_int', 'obs_date', 'exp_date', 'stock_price'])\n",
    "df.head()"
   ]
  },
  {
   "cell_type": "code",
   "execution_count": 31,
   "id": "82dc5231-2964-4ab2-aa66-c90e6c548417",
   "metadata": {},
   "outputs": [
    {
     "data": {
      "text/plain": [
       "2023-05-12    618\n",
       "2023-05-19    614\n",
       "2023-06-16    570\n",
       "2023-05-26    504\n",
       "Name: obs_date, dtype: int64"
      ]
     },
     "metadata": {},
     "output_type": "display_data"
    }
   ],
   "source": [
    "display(df.obs_date.value_counts().head(4))\n",
    "ddf = df[df.obs_date == '2023-05-12'].copy()\n",
    "ddf =ddf.sort_values(by=['strike', 'contract_type'])"
   ]
  },
  {
   "cell_type": "code",
   "execution_count": 35,
   "id": "f214a7c1-ccd8-43c4-82a0-b909f3867c77",
   "metadata": {},
   "outputs": [
    {
     "data": {
      "text/html": [
       "<div>\n",
       "<style scoped>\n",
       "    .dataframe tbody tr th:only-of-type {\n",
       "        vertical-align: middle;\n",
       "    }\n",
       "\n",
       "    .dataframe tbody tr th {\n",
       "        vertical-align: top;\n",
       "    }\n",
       "\n",
       "    .dataframe thead th {\n",
       "        text-align: right;\n",
       "    }\n",
       "</style>\n",
       "<table border=\"1\" class=\"dataframe\">\n",
       "  <thead>\n",
       "    <tr style=\"text-align: right;\">\n",
       "      <th></th>\n",
       "      <th>symbol</th>\n",
       "      <th>contract_type</th>\n",
       "      <th>strike</th>\n",
       "      <th>bid</th>\n",
       "      <th>midpoint</th>\n",
       "      <th>ask</th>\n",
       "      <th>last</th>\n",
       "      <th>volume</th>\n",
       "      <th>open_int</th>\n",
       "      <th>obs_date</th>\n",
       "      <th>exp_date</th>\n",
       "      <th>stock_price</th>\n",
       "    </tr>\n",
       "  </thead>\n",
       "  <tbody>\n",
       "    <tr>\n",
       "      <th>922</th>\n",
       "      <td>SPY</td>\n",
       "      <td>put</td>\n",
       "      <td>150.0</td>\n",
       "      <td>0.00</td>\n",
       "      <td>0.00</td>\n",
       "      <td>0.01</td>\n",
       "      <td>0.01</td>\n",
       "      <td>159</td>\n",
       "      <td>64782.0</td>\n",
       "      <td>2023-05-12</td>\n",
       "      <td>2023-06-16</td>\n",
       "      <td>411.59</td>\n",
       "    </tr>\n",
       "    <tr>\n",
       "      <th>923</th>\n",
       "      <td>SPY</td>\n",
       "      <td>put</td>\n",
       "      <td>160.0</td>\n",
       "      <td>0.00</td>\n",
       "      <td>0.00</td>\n",
       "      <td>0.01</td>\n",
       "      <td>0.01</td>\n",
       "      <td>1</td>\n",
       "      <td>17267.0</td>\n",
       "      <td>2023-05-12</td>\n",
       "      <td>2023-06-16</td>\n",
       "      <td>411.59</td>\n",
       "    </tr>\n",
       "    <tr>\n",
       "      <th>924</th>\n",
       "      <td>SPY</td>\n",
       "      <td>put</td>\n",
       "      <td>170.0</td>\n",
       "      <td>0.01</td>\n",
       "      <td>0.02</td>\n",
       "      <td>0.02</td>\n",
       "      <td>0.01</td>\n",
       "      <td>0</td>\n",
       "      <td>13384.0</td>\n",
       "      <td>2023-05-12</td>\n",
       "      <td>2023-06-16</td>\n",
       "      <td>411.59</td>\n",
       "    </tr>\n",
       "    <tr>\n",
       "      <th>925</th>\n",
       "      <td>SPY</td>\n",
       "      <td>put</td>\n",
       "      <td>180.0</td>\n",
       "      <td>0.01</td>\n",
       "      <td>0.02</td>\n",
       "      <td>0.02</td>\n",
       "      <td>0.01</td>\n",
       "      <td>1</td>\n",
       "      <td>9169.0</td>\n",
       "      <td>2023-05-12</td>\n",
       "      <td>2023-06-16</td>\n",
       "      <td>411.59</td>\n",
       "    </tr>\n",
       "    <tr>\n",
       "      <th>719</th>\n",
       "      <td>SPY</td>\n",
       "      <td>put</td>\n",
       "      <td>185.0</td>\n",
       "      <td>0.01</td>\n",
       "      <td>0.02</td>\n",
       "      <td>0.02</td>\n",
       "      <td>0.01</td>\n",
       "      <td>0</td>\n",
       "      <td>5329.0</td>\n",
       "      <td>2023-05-12</td>\n",
       "      <td>2023-06-16</td>\n",
       "      <td>411.59</td>\n",
       "    </tr>\n",
       "    <tr>\n",
       "      <th>...</th>\n",
       "      <td>...</td>\n",
       "      <td>...</td>\n",
       "      <td>...</td>\n",
       "      <td>...</td>\n",
       "      <td>...</td>\n",
       "      <td>...</td>\n",
       "      <td>...</td>\n",
       "      <td>...</td>\n",
       "      <td>...</td>\n",
       "      <td>...</td>\n",
       "      <td>...</td>\n",
       "      <td>...</td>\n",
       "    </tr>\n",
       "    <tr>\n",
       "      <th>714</th>\n",
       "      <td>SPY</td>\n",
       "      <td>call</td>\n",
       "      <td>695.0</td>\n",
       "      <td>0.00</td>\n",
       "      <td>0.00</td>\n",
       "      <td>0.01</td>\n",
       "      <td>0.01</td>\n",
       "      <td>0</td>\n",
       "      <td>1440.0</td>\n",
       "      <td>2023-05-12</td>\n",
       "      <td>2023-06-16</td>\n",
       "      <td>411.59</td>\n",
       "    </tr>\n",
       "    <tr>\n",
       "      <th>715</th>\n",
       "      <td>SPY</td>\n",
       "      <td>call</td>\n",
       "      <td>700.0</td>\n",
       "      <td>0.00</td>\n",
       "      <td>0.00</td>\n",
       "      <td>0.01</td>\n",
       "      <td>0.01</td>\n",
       "      <td>0</td>\n",
       "      <td>1081.0</td>\n",
       "      <td>2023-05-12</td>\n",
       "      <td>2023-06-16</td>\n",
       "      <td>411.59</td>\n",
       "    </tr>\n",
       "    <tr>\n",
       "      <th>716</th>\n",
       "      <td>SPY</td>\n",
       "      <td>call</td>\n",
       "      <td>705.0</td>\n",
       "      <td>0.00</td>\n",
       "      <td>0.00</td>\n",
       "      <td>0.01</td>\n",
       "      <td>0.01</td>\n",
       "      <td>0</td>\n",
       "      <td>1228.0</td>\n",
       "      <td>2023-05-12</td>\n",
       "      <td>2023-06-16</td>\n",
       "      <td>411.59</td>\n",
       "    </tr>\n",
       "    <tr>\n",
       "      <th>717</th>\n",
       "      <td>SPY</td>\n",
       "      <td>call</td>\n",
       "      <td>710.0</td>\n",
       "      <td>0.00</td>\n",
       "      <td>0.00</td>\n",
       "      <td>0.01</td>\n",
       "      <td>0.01</td>\n",
       "      <td>0</td>\n",
       "      <td>141.0</td>\n",
       "      <td>2023-05-12</td>\n",
       "      <td>2023-06-16</td>\n",
       "      <td>411.59</td>\n",
       "    </tr>\n",
       "    <tr>\n",
       "      <th>718</th>\n",
       "      <td>SPY</td>\n",
       "      <td>call</td>\n",
       "      <td>720.0</td>\n",
       "      <td>0.00</td>\n",
       "      <td>0.00</td>\n",
       "      <td>0.01</td>\n",
       "      <td>0.01</td>\n",
       "      <td>0</td>\n",
       "      <td>1472.0</td>\n",
       "      <td>2023-05-12</td>\n",
       "      <td>2023-06-16</td>\n",
       "      <td>411.59</td>\n",
       "    </tr>\n",
       "  </tbody>\n",
       "</table>\n",
       "<p>309 rows × 12 columns</p>\n",
       "</div>"
      ],
      "text/plain": [
       "    symbol contract_type  strike   bid  midpoint   ask  last  volume  \\\n",
       "922    SPY           put   150.0  0.00      0.00  0.01  0.01     159   \n",
       "923    SPY           put   160.0  0.00      0.00  0.01  0.01       1   \n",
       "924    SPY           put   170.0  0.01      0.02  0.02  0.01       0   \n",
       "925    SPY           put   180.0  0.01      0.02  0.02  0.01       1   \n",
       "719    SPY           put   185.0  0.01      0.02  0.02  0.01       0   \n",
       "..     ...           ...     ...   ...       ...   ...   ...     ...   \n",
       "714    SPY          call   695.0  0.00      0.00  0.01  0.01       0   \n",
       "715    SPY          call   700.0  0.00      0.00  0.01  0.01       0   \n",
       "716    SPY          call   705.0  0.00      0.00  0.01  0.01       0   \n",
       "717    SPY          call   710.0  0.00      0.00  0.01  0.01       0   \n",
       "718    SPY          call   720.0  0.00      0.00  0.01  0.01       0   \n",
       "\n",
       "     open_int    obs_date    exp_date  stock_price  \n",
       "922   64782.0  2023-05-12  2023-06-16       411.59  \n",
       "923   17267.0  2023-05-12  2023-06-16       411.59  \n",
       "924   13384.0  2023-05-12  2023-06-16       411.59  \n",
       "925    9169.0  2023-05-12  2023-06-16       411.59  \n",
       "719    5329.0  2023-05-12  2023-06-16       411.59  \n",
       "..        ...         ...         ...          ...  \n",
       "714    1440.0  2023-05-12  2023-06-16       411.59  \n",
       "715    1081.0  2023-05-12  2023-06-16       411.59  \n",
       "716    1228.0  2023-05-12  2023-06-16       411.59  \n",
       "717     141.0  2023-05-12  2023-06-16       411.59  \n",
       "718    1472.0  2023-05-12  2023-06-16       411.59  \n",
       "\n",
       "[309 rows x 12 columns]"
      ]
     },
     "execution_count": 35,
     "metadata": {},
     "output_type": "execute_result"
    }
   ],
   "source": [
    "def out_of_money(x):\n",
    "    if x.contract_type == 'call':\n",
    "        if(x.strike > x.stock_price):\n",
    "            return True\n",
    "    else:\n",
    "        if(x.strike < x.stock_price):\n",
    "            return True\n",
    "    return False\n",
    "\n",
    "ddf[ddf[[\"contract_type\", \"strike\", \"stock_price\"]].apply(out_of_money, axis=1)]"
   ]
  },
  {
   "cell_type": "code",
   "execution_count": 36,
   "id": "f5c5f355-cda1-4a96-88b7-3237f19960de",
   "metadata": {},
   "outputs": [
    {
     "data": {
      "text/plain": [
       "array(['2023-06-16', '2023-06-09'], dtype=object)"
      ]
     },
     "execution_count": 36,
     "metadata": {},
     "output_type": "execute_result"
    }
   ],
   "source": [
    "ddf['exp_date'].unique()"
   ]
  },
  {
   "cell_type": "markdown",
   "id": "9285a4c2-265a-44a7-a8f1-8b5dceccdf08",
   "metadata": {},
   "source": [
    "## NO PANDAS CALCS"
   ]
  },
  {
   "cell_type": "code",
   "execution_count": 137,
   "id": "719563f2-be83-40fb-9a8c-37c3d217f200",
   "metadata": {},
   "outputs": [],
   "source": [
    "def my_row_factory(cur, row):\n",
    "    d={}\n",
    "    for idx, col in enumerate(cur.description):\n",
    "        d[col[0].lower()] = row[idx]\n",
    "    return d\n",
    "\n",
    "conn = sqlite3.connect(\"../data_aggregation/options_database.db\")\n",
    "conn.row_factory = my_row_factory\n",
    "cursor = conn.cursor()\n",
    "\n",
    "query = \"\"\"\n",
    "select \n",
    "    contract_data.*,\n",
    "    price_data.close as stock_price\n",
    "from contract_data\n",
    "join price_data\n",
    "on (price_data.Symbol = contract_data.Symbol) and (price_data.date_of_close = contract_data.obs_date)\n",
    "    where\n",
    "        contract_data.symbol ='SPY'\n",
    "        and obs_date = '2022-05-20'\n",
    ";\n",
    "\"\"\"\n",
    "# '2023-05-12'\n",
    "\n",
    "\n",
    "cursor.execute(query);\n",
    "data = cursor.fetchall()\n",
    "# conn.close()"
   ]
  },
  {
   "cell_type": "code",
   "execution_count": 138,
   "id": "a22703a0-7933-4b4a-ab97-69698cfa77c2",
   "metadata": {},
   "outputs": [
    {
     "data": {
      "text/plain": [
       "1736"
      ]
     },
     "execution_count": 138,
     "metadata": {},
     "output_type": "execute_result"
    }
   ],
   "source": [
    "len(data)"
   ]
  },
  {
   "cell_type": "code",
   "execution_count": 135,
   "id": "83a5aabd-87c0-4dbe-bb38-bfcf25e2da9b",
   "metadata": {},
   "outputs": [
    {
     "name": "stdout",
     "output_type": "stream",
     "text": [
      "CPU times: total: 0 ns\n",
      "Wall time: 2 ms\n"
     ]
    }
   ],
   "source": [
    "%%time\n",
    "\n",
    "dt = filter(out_of_money, data)\n",
    "\n",
    "calls = filter(lambda x: x['contract_type']=='call', dt)\n",
    "puts = filter(lambda x: x['contract_type']=='put', dt)\n",
    "\n",
    "calls = sorted(calls, key=lambda x: abs(x['strike'] - x['stock_price']))\n",
    "puts = sorted(puts, key=lambda x: abs(x['strike'] - x['stock_price']))\n",
    "\n",
    "calls2 = filter_serious(calls)\n",
    "puts2 = filter_serious(puts)"
   ]
  },
  {
   "cell_type": "code",
   "execution_count": 139,
   "id": "91a62247-0d4d-49bd-98c9-fb25a26829e0",
   "metadata": {},
   "outputs": [
    {
     "name": "stdout",
     "output_type": "stream",
     "text": [
      "CPU times: total: 0 ns\n",
      "Wall time: 2 ms\n"
     ]
    }
   ],
   "source": [
    "%%time\n",
    "data = [opt for opt in data if out_of_money(opt)]\n",
    "\n",
    "calls = [opt for opt in data if (opt['contract_type'] == 'call')]\n",
    "puts = [opt for opt in data if (opt['contract_type'] == 'put')]\n",
    "\n",
    "calls = sorted(calls, key=lambda x: abs(x['strike'] - x['stock_price']))\n",
    "puts = sorted(puts, key=lambda x: abs(x['strike'] - x['stock_price']))\n",
    "\n",
    "calls2 = filter_serious(calls)\n",
    "puts2 = filter_serious(puts)"
   ]
  },
  {
   "cell_type": "code",
   "execution_count": 140,
   "id": "28197b75-4bf4-45b7-b12e-9ecd6584bf74",
   "metadata": {},
   "outputs": [
    {
     "data": {
      "text/plain": [
       "345"
      ]
     },
     "execution_count": 140,
     "metadata": {},
     "output_type": "execute_result"
    }
   ],
   "source": [
    "len(puts2)"
   ]
  },
  {
   "cell_type": "code",
   "execution_count": 84,
   "id": "556abea0-b79e-4dec-8532-b9f14db52595",
   "metadata": {},
   "outputs": [],
   "source": [
    "def out_of_money(x):\n",
    "    if x['contract_type'] == 'call':\n",
    "        if(x['strike'] > x['stock_price']):\n",
    "            return True\n",
    "    else:\n",
    "        if(x['strike'] < x['stock_price']):\n",
    "            return True\n",
    "    return False\n",
    "\n",
    "def check_serious(bid, ask):\n",
    "    return (bid > 0 and ask > 0)\n",
    "\n",
    "def filter_serious(ls):\n",
    "    ## Takes in a list of options sorted by ascending difference between strike and stock_price.\n",
    "    new_ls = []\n",
    "    prev_serious = True\n",
    "    for opt in ls:\n",
    "        if check_serious(opt['bid'], opt['ask']):\n",
    "            new_ls.append(opt)\n",
    "            prev_serious = True\n",
    "        else:\n",
    "            if not prev_serious:\n",
    "                break\n",
    "            prev_serious = False\n",
    "            \n",
    "    return new_ls\n",
    "            "
   ]
  },
  {
   "cell_type": "markdown",
   "id": "19b3db97-6edb-416e-9256-eb636d70578e",
   "metadata": {},
   "source": [
    "## Calculating the Risk Free Rate"
   ]
  },
  {
   "cell_type": "code",
   "execution_count": 7,
   "id": "94cb7e0b-63dd-4dfb-93f3-112953ac4753",
   "metadata": {},
   "outputs": [
    {
     "data": {
      "text/plain": [
       "{'date_of': '2023-04-03',\n",
       " '1mo': 4.7,\n",
       " '2mo': 4.79,\n",
       " '3mo': 4.9,\n",
       " '4mo': 4.98,\n",
       " '6mo': 4.88,\n",
       " '1yr': 4.6,\n",
       " '2yr': 3.97,\n",
       " '3yr': 3.73,\n",
       " '5yr': 3.52,\n",
       " '7yr': 3.48,\n",
       " '10yr': 3.43,\n",
       " '20yr': 3.78,\n",
       " '30yr': 3.64}"
      ]
     },
     "execution_count": 7,
     "metadata": {},
     "output_type": "execute_result"
    }
   ],
   "source": [
    "\n",
    "QUERY = \"\"\"\n",
    "Select \n",
    "    *\n",
    "from treasury_rates\n",
    "where date_of = '2023-04-03'\n",
    "\"\"\"\n",
    "cursor.execute(QUERY)\n",
    "data = cursor.fetchone()\n",
    "data"
   ]
  },
  {
   "cell_type": "code",
   "execution_count": 10,
   "id": "314787a0-5e90-4807-8e69-6a2da1c3a2be",
   "metadata": {},
   "outputs": [],
   "source": [
    "test = data"
   ]
  },
  {
   "cell_type": "code",
   "execution_count": 12,
   "id": "3932ac95-64d9-4ff0-b9db-f2bca18ccb92",
   "metadata": {},
   "outputs": [
    {
     "name": "stdout",
     "output_type": "stream",
     "text": [
      "4.686279387561978\n"
     ]
    }
   ],
   "source": [
    "# PERIODS = {'1mo': 1/12, '2mo': 2/12, '3mo':3/12, '4mo':4/12, '6mo':1/2, '1yr':1, '2yr':2, '3yr':3, '5yr':5, '7yr':7, '10yr':10, '20yr':20, '30yr':30}\n",
    "PERIODS = {'1mo': 30/365, '2mo': 60/365, '3mo':91/365, '4mo':121/365, '6mo':182/365, '1yr':1, '2yr':2, '3yr':3, '5yr':5, '7yr':7, '10yr':10, '20yr':20, '30yr':30}\n",
    "# PERIODS = {'1mo': 30, '2mo': 60, '3mo':91, '4mo':121, '6mo':182, '1yr':365, '2yr':365*2, '3yr':365*3, '5yr':365*5, '7yr':365*7, '10yr':365*10, '20yr':365*20, '30yr':365*30}\n",
    "\n",
    "from scipy.interpolate import CubicSpline\n",
    "x = [PERIODS[i] for i in list(test.keys())[1:]]\n",
    "y = [j for j in list(test.values())[1:]]\n",
    "\n",
    "\n",
    "cs = CubicSpline(x, y)\n",
    "\n",
    "print(cs((24/365)))"
   ]
  },
  {
   "cell_type": "code",
   "execution_count": 75,
   "id": "25f3a39e-54fb-4cbb-9894-28c16348adac",
   "metadata": {},
   "outputs": [],
   "source": [
    "y = [0.03, 0.02, 0.04, 0.05, 0.08, 0.11, 0.22, 0.59, 1, 1.37, 2.03, 2.21]\n",
    "x.remove(PERIODS['4mo'])"
   ]
  },
  {
   "cell_type": "code",
   "execution_count": 106,
   "id": "1720dea8-11a5-4590-872a-6210059a7098",
   "metadata": {},
   "outputs": [
    {
     "name": "stdout",
     "output_type": "stream",
     "text": [
      "0.028719427541638892\n"
     ]
    }
   ],
   "source": [
    "cs2 = CubicSpline(x, y)\n",
    "r1 = cs2((31))\n",
    "print(r1)"
   ]
  },
  {
   "cell_type": "code",
   "execution_count": 104,
   "id": "5870175f-3a53-431b-9c06-10355e2e3a12",
   "metadata": {},
   "outputs": [
    {
     "name": "stdout",
     "output_type": "stream",
     "text": [
      "0.03166565052775329\n"
     ]
    }
   ],
   "source": [
    "r1 = cs2(28.786)\n",
    "print(r1)"
   ]
  },
  {
   "cell_type": "code",
   "execution_count": 72,
   "id": "1c846c70-de33-4425-b416-2fec058d6912",
   "metadata": {},
   "outputs": [
    {
     "data": {
      "text/plain": [
       "[0.0821917808219178,\n",
       " 0.1643835616438356,\n",
       " 0.2493150684931507,\n",
       " 0.4986301369863014,\n",
       " 1,\n",
       " 2,\n",
       " 3,\n",
       " 5,\n",
       " 7,\n",
       " 10,\n",
       " 20,\n",
       " 30]"
      ]
     },
     "execution_count": 72,
     "metadata": {},
     "output_type": "execute_result"
    }
   ],
   "source": [
    "x"
   ]
  },
  {
   "cell_type": "code",
   "execution_count": 61,
   "id": "c0d61745-ebe2-46c3-8310-6183b559b639",
   "metadata": {},
   "outputs": [
    {
     "data": {
      "text/plain": [
       "[0.03, 0.02, 0.04, 0.05, 0.08, 0.11, 0.22, 0.59, 1, 1.37, 2.03, 2.21]"
      ]
     },
     "execution_count": 61,
     "metadata": {},
     "output_type": "execute_result"
    }
   ],
   "source": [
    "y"
   ]
  },
  {
   "cell_type": "code",
   "execution_count": 62,
   "id": "b4b662fd-3db1-41f4-ab6f-7ce05a4299d3",
   "metadata": {},
   "outputs": [
    {
     "data": {
      "text/plain": [
       "[0.08333333333333333,\n",
       " 0.16666666666666666,\n",
       " 0.3333333333333333,\n",
       " 0.5,\n",
       " 1,\n",
       " 2,\n",
       " 3,\n",
       " 5,\n",
       " 7,\n",
       " 10,\n",
       " 20,\n",
       " 30]"
      ]
     },
     "execution_count": 62,
     "metadata": {},
     "output_type": "execute_result"
    }
   ],
   "source": [
    "x"
   ]
  },
  {
   "cell_type": "code",
   "execution_count": 8,
   "id": "677faf16-edf3-4410-848d-ab8f1823cb13",
   "metadata": {},
   "outputs": [],
   "source": [
    "import vix_calc"
   ]
  },
  {
   "cell_type": "code",
   "execution_count": 9,
   "id": "b59f66f9-176d-4dfc-a582-c1e1ad4aa894",
   "metadata": {},
   "outputs": [
    {
     "data": {
      "text/plain": [
       "array(4.68627939)"
      ]
     },
     "execution_count": 9,
     "metadata": {},
     "output_type": "execute_result"
    }
   ],
   "source": [
    "vix_calc.get_rfr('2023-04-03', (24/365))"
   ]
  },
  {
   "cell_type": "code",
   "execution_count": null,
   "id": "8f747d5f-8bf3-45d2-a331-a9cec5b54d44",
   "metadata": {},
   "outputs": [],
   "source": []
  }
 ],
 "metadata": {
  "kernelspec": {
   "display_name": "Python 3 (ipykernel)",
   "language": "python",
   "name": "python3"
  },
  "language_info": {
   "codemirror_mode": {
    "name": "ipython",
    "version": 3
   },
   "file_extension": ".py",
   "mimetype": "text/x-python",
   "name": "python",
   "nbconvert_exporter": "python",
   "pygments_lexer": "ipython3",
   "version": "3.8.3"
  }
 },
 "nbformat": 4,
 "nbformat_minor": 5
}
